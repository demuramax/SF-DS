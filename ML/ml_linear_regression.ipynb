{
 "cells": [
  {
   "cell_type": "code",
   "execution_count": 3,
   "metadata": {},
   "outputs": [],
   "source": [
    "import numpy as np #для матричных вычислений\n",
    "import pandas as pd #для анализа и предобработки данных\n",
    "import matplotlib.pyplot as plt #для визуализации\n",
    "import seaborn as sns #для визуализации\n",
    "%matplotlib inline\n",
    "plt.style.use('seaborn') #установка стиля matplotlib"
   ]
  },
  {
   "cell_type": "code",
   "execution_count": null,
   "metadata": {},
   "outputs": [],
   "source": [
    "from sklearn.datasets import load_boston\n",
    "bostom = load_boston()\n",
    "print(boston['DESCR'])"
   ]
  },
  {
   "cell_type": "code",
   "execution_count": 6,
   "metadata": {},
   "outputs": [
    {
     "ename": "NameError",
     "evalue": "name 'boston' is not defined",
     "output_type": "error",
     "traceback": [
      "\u001b[0;31m---------------------------------------------------------------------------\u001b[0m",
      "\u001b[0;31mNameError\u001b[0m                                 Traceback (most recent call last)",
      "\u001b[1;32m/Users/svarga/Documents/Data Science/SF/SF-DS/ML/ml_linear_regression.ipynb Cell 3\u001b[0m in \u001b[0;36m<cell line: 2>\u001b[0;34m()\u001b[0m\n\u001b[1;32m      <a href='vscode-notebook-cell:/Users/svarga/Documents/Data%20Science/SF/SF-DS/ML/ml_linear_regression.ipynb#W3sZmlsZQ%3D%3D?line=0'>1</a>\u001b[0m \u001b[39m#создаём DataFrame из загруженных numpy-матриц\u001b[39;00m\n\u001b[1;32m      <a href='vscode-notebook-cell:/Users/svarga/Documents/Data%20Science/SF/SF-DS/ML/ml_linear_regression.ipynb#W3sZmlsZQ%3D%3D?line=1'>2</a>\u001b[0m boston_data \u001b[39m=\u001b[39m pd\u001b[39m.\u001b[39mDataFrame(\n\u001b[0;32m----> <a href='vscode-notebook-cell:/Users/svarga/Documents/Data%20Science/SF/SF-DS/ML/ml_linear_regression.ipynb#W3sZmlsZQ%3D%3D?line=2'>3</a>\u001b[0m     data\u001b[39m=\u001b[39mboston\u001b[39m.\u001b[39mdata, \u001b[39m#данные\u001b[39;00m\n\u001b[1;32m      <a href='vscode-notebook-cell:/Users/svarga/Documents/Data%20Science/SF/SF-DS/ML/ml_linear_regression.ipynb#W3sZmlsZQ%3D%3D?line=3'>4</a>\u001b[0m     columns\u001b[39m=\u001b[39mboston\u001b[39m.\u001b[39mfeature_names \u001b[39m#наименования столбцов\u001b[39;00m\n\u001b[1;32m      <a href='vscode-notebook-cell:/Users/svarga/Documents/Data%20Science/SF/SF-DS/ML/ml_linear_regression.ipynb#W3sZmlsZQ%3D%3D?line=4'>5</a>\u001b[0m )\n\u001b[1;32m      <a href='vscode-notebook-cell:/Users/svarga/Documents/Data%20Science/SF/SF-DS/ML/ml_linear_regression.ipynb#W3sZmlsZQ%3D%3D?line=5'>6</a>\u001b[0m \u001b[39m#добавляем в таблицу столбец с целевой переменной\u001b[39;00m\n\u001b[1;32m      <a href='vscode-notebook-cell:/Users/svarga/Documents/Data%20Science/SF/SF-DS/ML/ml_linear_regression.ipynb#W3sZmlsZQ%3D%3D?line=6'>7</a>\u001b[0m boston_data[\u001b[39m'\u001b[39m\u001b[39mMEDV\u001b[39m\u001b[39m'\u001b[39m] \u001b[39m=\u001b[39m boston\u001b[39m.\u001b[39mtarget\n",
      "\u001b[0;31mNameError\u001b[0m: name 'boston' is not defined"
     ]
    }
   ],
   "source": [
    "#создаём DataFrame из загруженных numpy-матриц\n",
    "boston_data = pd.DataFrame(\n",
    "    data=boston.data, #данные\n",
    "    columns=boston.feature_names #наименования столбцов\n",
    ")\n",
    "#добавляем в таблицу столбец с целевой переменной\n",
    "boston_data['MEDV'] = boston.target\n",
    "boston_data.head()"
   ]
  },
  {
   "cell_type": "code",
   "execution_count": null,
   "metadata": {},
   "outputs": [],
   "source": []
  }
 ],
 "metadata": {
  "kernelspec": {
   "display_name": "Python 3.9.13 ('sf')",
   "language": "python",
   "name": "python3"
  },
  "language_info": {
   "codemirror_mode": {
    "name": "ipython",
    "version": 3
   },
   "file_extension": ".py",
   "mimetype": "text/x-python",
   "name": "python",
   "nbconvert_exporter": "python",
   "pygments_lexer": "ipython3",
   "version": "3.9.13"
  },
  "orig_nbformat": 4,
  "vscode": {
   "interpreter": {
    "hash": "98a3479361c1470a412f990e9cc10a033f9d0bec6fda257586d9a201fb84acf9"
   }
  }
 },
 "nbformat": 4,
 "nbformat_minor": 2
}
