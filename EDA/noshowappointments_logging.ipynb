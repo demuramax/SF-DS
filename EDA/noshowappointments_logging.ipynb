{
  "cells": [
    {
      "cell_type": "markdown",
      "metadata": {
        "id": "aUAqi67vLzhL"
      },
      "source": [
        "# Импорт библиотек"
      ]
    },
    {
      "cell_type": "code",
      "execution_count": 1,
      "metadata": {
        "id": "lXinfUuSL6Og"
      },
      "outputs": [],
      "source": [
        "import pandas as pd \n",
        "\n",
        "import os\n",
        "import logging"
      ]
    },
    {
      "cell_type": "markdown",
      "metadata": {
        "id": "y3290WaEMCCM"
      },
      "source": [
        "# Загрузка данных"
      ]
    },
    {
      "cell_type": "code",
      "execution_count": 2,
      "metadata": {
        "id": "VbAf186tLgqb"
      },
      "outputs": [],
      "source": [
        "df = pd.read_csv('./KaggleV2-May-2016.csv')"
      ]
    },
    {
      "cell_type": "markdown",
      "metadata": {
        "id": "hIlLTfPPz3VG"
      },
      "source": [
        "# Логирование информации о данных"
      ]
    },
    {
      "cell_type": "code",
      "execution_count": 3,
      "metadata": {
        "id": "heuTVTZ6vvHd"
      },
      "outputs": [],
      "source": [
        "# Функция для создания лог-файла и записи в него информации\n",
        "def get_logger(path, file):\n",
        "   \"\"\"[Создает лог-файл для логирования в него]\n",
        "   Аргументы:\n",
        "       path {string} -- путь к директории\n",
        "       file {string} -- имя файла\n",
        "  \n",
        "   Возвращает:\n",
        "       [obj] -- [логер]\n",
        "   \"\"\"\n",
        " \n",
        "   # проверяем, существует ли файл\n",
        "   log_file = os.path.join(path, file)\n",
        " \n",
        "   if not os.path.isfile(log_file):\n",
        "       open(log_file, \"w+\").close()\n",
        " \n",
        "   # поменяем формат логирования\n",
        "   file_logging_format = \"%(levelname)s: %(asctime)s: %(message)s\"\n",
        " \n",
        "   # конфигурируем лог-файл\n",
        "   logging.basicConfig(level=logging.INFO, format=console_logging_format)\n",
        "   logger = logging.getLogger()\n",
        "  \n",
        "   # создадим хэнлдер для записи лога в файл\n",
        "   handler = logging.FileHandler(log_file)\n",
        " \n",
        "   # установим уровень логирования\n",
        "   handler.setLevel(logging.INFO)\n",
        "  \n",
        "   # создадим формат логирования, используя file_logging_format\n",
        "   formatter = logging.Formatter(file_logging_format)\n",
        "   handler.setFormatter(formatter)\n",
        " \n",
        "   # добавим хэндлер лог-файлу\n",
        "   logger.addHandler(handler)\n",
        " \n",
        "   return logger"
      ]
    },
    {
      "cell_type": "code",
      "execution_count": 4,
      "metadata": {
        "colab": {
          "base_uri": "https://localhost:8080/"
        },
        "id": "7YrkW6YnwGtS",
        "outputId": "ce745a05-cb06-45f6-c3cf-f628e317f94e"
      },
      "outputs": [
        {
          "name": "stdout",
          "output_type": "stream",
          "text": [
            "mkdir: logs: File exists\n"
          ]
        }
      ],
      "source": [
        "# создаем папку для логирования\n",
        "!mkdir logs"
      ]
    },
    {
      "cell_type": "code",
      "execution_count": 6,
      "metadata": {
        "id": "26Fl0Sjdv-C2"
      },
      "outputs": [
        {
          "ename": "NameError",
          "evalue": "name 'console_logging_format' is not defined",
          "output_type": "error",
          "traceback": [
            "\u001b[0;31m---------------------------------------------------------------------------\u001b[0m",
            "\u001b[0;31mNameError\u001b[0m                                 Traceback (most recent call last)",
            "\u001b[0;32m<ipython-input-6-55a1010c9cbc>\u001b[0m in \u001b[0;36m<module>\u001b[0;34m\u001b[0m\n\u001b[1;32m      1\u001b[0m \u001b[0;31m# создаем лог-файл\u001b[0m\u001b[0;34m\u001b[0m\u001b[0;34m\u001b[0m\u001b[0;34m\u001b[0m\u001b[0m\n\u001b[0;32m----> 2\u001b[0;31m \u001b[0mlogger\u001b[0m \u001b[0;34m=\u001b[0m \u001b[0mget_logger\u001b[0m\u001b[0;34m(\u001b[0m\u001b[0mpath\u001b[0m\u001b[0;34m=\u001b[0m\u001b[0;34m\"logs/\"\u001b[0m\u001b[0;34m,\u001b[0m \u001b[0mfile\u001b[0m\u001b[0;34m=\u001b[0m\u001b[0;34m\"data.logs\"\u001b[0m\u001b[0;34m)\u001b[0m\u001b[0;34m\u001b[0m\u001b[0;34m\u001b[0m\u001b[0m\n\u001b[0m",
            "\u001b[0;32m<ipython-input-3-1a8065ab24f7>\u001b[0m in \u001b[0;36mget_logger\u001b[0;34m(path, file)\u001b[0m\n\u001b[1;32m     20\u001b[0m \u001b[0;34m\u001b[0m\u001b[0m\n\u001b[1;32m     21\u001b[0m    \u001b[0;31m# конфигурируем лог-файл\u001b[0m\u001b[0;34m\u001b[0m\u001b[0;34m\u001b[0m\u001b[0;34m\u001b[0m\u001b[0m\n\u001b[0;32m---> 22\u001b[0;31m    \u001b[0mlogging\u001b[0m\u001b[0;34m.\u001b[0m\u001b[0mbasicConfig\u001b[0m\u001b[0;34m(\u001b[0m\u001b[0mlevel\u001b[0m\u001b[0;34m=\u001b[0m\u001b[0mlogging\u001b[0m\u001b[0;34m.\u001b[0m\u001b[0mINFO\u001b[0m\u001b[0;34m,\u001b[0m \u001b[0mformat\u001b[0m\u001b[0;34m=\u001b[0m\u001b[0mconsole_logging_format\u001b[0m\u001b[0;34m)\u001b[0m\u001b[0;34m\u001b[0m\u001b[0;34m\u001b[0m\u001b[0m\n\u001b[0m\u001b[1;32m     23\u001b[0m    \u001b[0mlogger\u001b[0m \u001b[0;34m=\u001b[0m \u001b[0mlogging\u001b[0m\u001b[0;34m.\u001b[0m\u001b[0mgetLogger\u001b[0m\u001b[0;34m(\u001b[0m\u001b[0;34m)\u001b[0m\u001b[0;34m\u001b[0m\u001b[0;34m\u001b[0m\u001b[0m\n\u001b[1;32m     24\u001b[0m \u001b[0;34m\u001b[0m\u001b[0m\n",
            "\u001b[0;31mNameError\u001b[0m: name 'console_logging_format' is not defined"
          ]
        }
      ],
      "source": [
        "# создаем лог-файл\n",
        "logger = get_logger(path=\"logs/\", file=\"data.logs\")"
      ]
    },
    {
      "cell_type": "code",
      "execution_count": null,
      "metadata": {
        "colab": {
          "base_uri": "https://localhost:8080/"
        },
        "id": "eEsvaL4vv-mO",
        "outputId": "2801c710-7805-4a14-de7b-5908209aa6e3"
      },
      "outputs": [
        {
          "name": "stderr",
          "output_type": "stream",
          "text": [
            "INFO Data\n"
          ]
        }
      ],
      "source": [
        "logger.info(\"Data\")"
      ]
    },
    {
      "cell_type": "code",
      "execution_count": null,
      "metadata": {
        "colab": {
          "base_uri": "https://localhost:8080/"
        },
        "id": "HEOhNMk8wSXG",
        "outputId": "341ad825-2180-45f2-a7ee-aee6e7ddab6d"
      },
      "outputs": [
        {
          "name": "stderr",
          "output_type": "stream",
          "text": [
            "INFO Data shape (110527, 14)\n"
          ]
        }
      ],
      "source": [
        "logger.info(\"Data shape {}\".format(df.shape))"
      ]
    },
    {
      "cell_type": "code",
      "execution_count": null,
      "metadata": {
        "colab": {
          "base_uri": "https://localhost:8080/"
        },
        "id": "tODTr_-Lwa7j",
        "outputId": "eb845614-8d34-4001-8f4e-8e2d1f17bf32"
      },
      "outputs": [
        {
          "name": "stderr",
          "output_type": "stream",
          "text": [
            "INFO Percentage of women: 0.653882342398853\n"
          ]
        }
      ],
      "source": [
        "logger.info(\"Percentage of women: {}\".format(df[df['No-show']=='Yes']['Gender'].value_counts(True)[0]))"
      ]
    },
    {
      "cell_type": "code",
      "execution_count": null,
      "metadata": {
        "colab": {
          "base_uri": "https://localhost:8080/"
        },
        "id": "Yrs_ikOi7e92",
        "outputId": "e8500713-9cb9-4a3a-849c-ec02b132c5b2"
      },
      "outputs": [
        {
          "name": "stderr",
          "output_type": "stream",
          "text": [
            "INFO Percentage of men: 0.346117657601147\n"
          ]
        }
      ],
      "source": [
        "logger.info(\"Percentage of men: {}\".format(df[df['No-show']=='Yes']['Gender'].value_counts(True)[1]))"
      ]
    },
    {
      "cell_type": "code",
      "execution_count": null,
      "metadata": {
        "id": "Yf_j1MN875RV"
      },
      "outputs": [],
      "source": []
    },
    {
      "cell_type": "code",
      "execution_count": null,
      "metadata": {
        "colab": {
          "base_uri": "https://localhost:8080/"
        },
        "id": "kdcs0ys575c_",
        "outputId": "bd2da9f1-29c7-497a-be40-f3c76f7218ba"
      },
      "outputs": [
        {
          "name": "stderr",
          "output_type": "stream",
          "text": [
            "ERROR Data shape is incorrect!\n"
          ]
        }
      ],
      "source": [
        "if df.shape != (110526,14):\n",
        "  logger.error('Data shape is incorrect!')"
      ]
    }
  ],
  "metadata": {
    "colab": {
      "collapsed_sections": [],
      "name": "noshowappointments_logging.ipynb",
      "provenance": []
    },
    "kernelspec": {
      "display_name": "Python 3",
      "name": "python3"
    },
    "language_info": {
      "codemirror_mode": {
        "name": "ipython",
        "version": 3
      },
      "file_extension": ".py",
      "mimetype": "text/x-python",
      "name": "python",
      "nbconvert_exporter": "python",
      "pygments_lexer": "ipython3",
      "version": "3.8.8"
    }
  },
  "nbformat": 4,
  "nbformat_minor": 0
}
