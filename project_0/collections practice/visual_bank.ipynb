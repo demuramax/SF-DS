{
 "cells": [
  {
   "cell_type": "code",
   "execution_count": 2,
   "metadata": {},
   "outputs": [],
   "source": [
    "import pandas as pd\n",
    "import matplotlib.pyplot as plt\n",
    "import seaborn as sns\n",
    "import plotly\n",
    "import plotly.express as px\n",
    "import plotly.graph_objects as go\n",
    "from plotly.subplots import make_subplots\n"
   ]
  },
  {
   "cell_type": "markdown",
   "metadata": {},
   "source": []
  },
  {
   "cell_type": "code",
   "execution_count": 3,
   "metadata": {},
   "outputs": [],
   "source": [
    "churn_data = pd.read_csv('data/churn.csv')\n",
    "churn_data = churn_data.drop(['RowNumber'], axis=1)\n"
   ]
  },
  {
   "cell_type": "markdown",
   "metadata": {},
   "source": [
    "### 9.1. Каково соотношение ушедших и лояльных клиентов? Покажите это на графике и дайте комментарий по соотношению."
   ]
  },
  {
   "cell_type": "code",
   "execution_count": 4,
   "metadata": {},
   "outputs": [
    {
     "data": {
      "application/vnd.plotly.v1+json": {
       "config": {
        "plotlyServerURL": "https://plot.ly"
       },
       "data": [
        {
         "domain": {
          "x": [
           0,
           1
          ],
          "y": [
           0,
           1
          ]
         },
         "hovertemplate": "label=%{label}<br>value=%{value}<extra></extra>",
         "labels": [
          "loyal",
          "exited"
         ],
         "legendgroup": "",
         "name": "",
         "showlegend": true,
         "type": "pie",
         "values": [
          7963,
          2037
         ]
        }
       ],
       "layout": {
        "legend": {
         "tracegroupgap": 0
        },
        "template": {
         "data": {
          "bar": [
           {
            "error_x": {
             "color": "#2a3f5f"
            },
            "error_y": {
             "color": "#2a3f5f"
            },
            "marker": {
             "line": {
              "color": "#E5ECF6",
              "width": 0.5
             },
             "pattern": {
              "fillmode": "overlay",
              "size": 10,
              "solidity": 0.2
             }
            },
            "type": "bar"
           }
          ],
          "barpolar": [
           {
            "marker": {
             "line": {
              "color": "#E5ECF6",
              "width": 0.5
             },
             "pattern": {
              "fillmode": "overlay",
              "size": 10,
              "solidity": 0.2
             }
            },
            "type": "barpolar"
           }
          ],
          "carpet": [
           {
            "aaxis": {
             "endlinecolor": "#2a3f5f",
             "gridcolor": "white",
             "linecolor": "white",
             "minorgridcolor": "white",
             "startlinecolor": "#2a3f5f"
            },
            "baxis": {
             "endlinecolor": "#2a3f5f",
             "gridcolor": "white",
             "linecolor": "white",
             "minorgridcolor": "white",
             "startlinecolor": "#2a3f5f"
            },
            "type": "carpet"
           }
          ],
          "choropleth": [
           {
            "colorbar": {
             "outlinewidth": 0,
             "ticks": ""
            },
            "type": "choropleth"
           }
          ],
          "contour": [
           {
            "colorbar": {
             "outlinewidth": 0,
             "ticks": ""
            },
            "colorscale": [
             [
              0,
              "#0d0887"
             ],
             [
              0.1111111111111111,
              "#46039f"
             ],
             [
              0.2222222222222222,
              "#7201a8"
             ],
             [
              0.3333333333333333,
              "#9c179e"
             ],
             [
              0.4444444444444444,
              "#bd3786"
             ],
             [
              0.5555555555555556,
              "#d8576b"
             ],
             [
              0.6666666666666666,
              "#ed7953"
             ],
             [
              0.7777777777777778,
              "#fb9f3a"
             ],
             [
              0.8888888888888888,
              "#fdca26"
             ],
             [
              1,
              "#f0f921"
             ]
            ],
            "type": "contour"
           }
          ],
          "contourcarpet": [
           {
            "colorbar": {
             "outlinewidth": 0,
             "ticks": ""
            },
            "type": "contourcarpet"
           }
          ],
          "heatmap": [
           {
            "colorbar": {
             "outlinewidth": 0,
             "ticks": ""
            },
            "colorscale": [
             [
              0,
              "#0d0887"
             ],
             [
              0.1111111111111111,
              "#46039f"
             ],
             [
              0.2222222222222222,
              "#7201a8"
             ],
             [
              0.3333333333333333,
              "#9c179e"
             ],
             [
              0.4444444444444444,
              "#bd3786"
             ],
             [
              0.5555555555555556,
              "#d8576b"
             ],
             [
              0.6666666666666666,
              "#ed7953"
             ],
             [
              0.7777777777777778,
              "#fb9f3a"
             ],
             [
              0.8888888888888888,
              "#fdca26"
             ],
             [
              1,
              "#f0f921"
             ]
            ],
            "type": "heatmap"
           }
          ],
          "heatmapgl": [
           {
            "colorbar": {
             "outlinewidth": 0,
             "ticks": ""
            },
            "colorscale": [
             [
              0,
              "#0d0887"
             ],
             [
              0.1111111111111111,
              "#46039f"
             ],
             [
              0.2222222222222222,
              "#7201a8"
             ],
             [
              0.3333333333333333,
              "#9c179e"
             ],
             [
              0.4444444444444444,
              "#bd3786"
             ],
             [
              0.5555555555555556,
              "#d8576b"
             ],
             [
              0.6666666666666666,
              "#ed7953"
             ],
             [
              0.7777777777777778,
              "#fb9f3a"
             ],
             [
              0.8888888888888888,
              "#fdca26"
             ],
             [
              1,
              "#f0f921"
             ]
            ],
            "type": "heatmapgl"
           }
          ],
          "histogram": [
           {
            "marker": {
             "pattern": {
              "fillmode": "overlay",
              "size": 10,
              "solidity": 0.2
             }
            },
            "type": "histogram"
           }
          ],
          "histogram2d": [
           {
            "colorbar": {
             "outlinewidth": 0,
             "ticks": ""
            },
            "colorscale": [
             [
              0,
              "#0d0887"
             ],
             [
              0.1111111111111111,
              "#46039f"
             ],
             [
              0.2222222222222222,
              "#7201a8"
             ],
             [
              0.3333333333333333,
              "#9c179e"
             ],
             [
              0.4444444444444444,
              "#bd3786"
             ],
             [
              0.5555555555555556,
              "#d8576b"
             ],
             [
              0.6666666666666666,
              "#ed7953"
             ],
             [
              0.7777777777777778,
              "#fb9f3a"
             ],
             [
              0.8888888888888888,
              "#fdca26"
             ],
             [
              1,
              "#f0f921"
             ]
            ],
            "type": "histogram2d"
           }
          ],
          "histogram2dcontour": [
           {
            "colorbar": {
             "outlinewidth": 0,
             "ticks": ""
            },
            "colorscale": [
             [
              0,
              "#0d0887"
             ],
             [
              0.1111111111111111,
              "#46039f"
             ],
             [
              0.2222222222222222,
              "#7201a8"
             ],
             [
              0.3333333333333333,
              "#9c179e"
             ],
             [
              0.4444444444444444,
              "#bd3786"
             ],
             [
              0.5555555555555556,
              "#d8576b"
             ],
             [
              0.6666666666666666,
              "#ed7953"
             ],
             [
              0.7777777777777778,
              "#fb9f3a"
             ],
             [
              0.8888888888888888,
              "#fdca26"
             ],
             [
              1,
              "#f0f921"
             ]
            ],
            "type": "histogram2dcontour"
           }
          ],
          "mesh3d": [
           {
            "colorbar": {
             "outlinewidth": 0,
             "ticks": ""
            },
            "type": "mesh3d"
           }
          ],
          "parcoords": [
           {
            "line": {
             "colorbar": {
              "outlinewidth": 0,
              "ticks": ""
             }
            },
            "type": "parcoords"
           }
          ],
          "pie": [
           {
            "automargin": true,
            "type": "pie"
           }
          ],
          "scatter": [
           {
            "marker": {
             "colorbar": {
              "outlinewidth": 0,
              "ticks": ""
             }
            },
            "type": "scatter"
           }
          ],
          "scatter3d": [
           {
            "line": {
             "colorbar": {
              "outlinewidth": 0,
              "ticks": ""
             }
            },
            "marker": {
             "colorbar": {
              "outlinewidth": 0,
              "ticks": ""
             }
            },
            "type": "scatter3d"
           }
          ],
          "scattercarpet": [
           {
            "marker": {
             "colorbar": {
              "outlinewidth": 0,
              "ticks": ""
             }
            },
            "type": "scattercarpet"
           }
          ],
          "scattergeo": [
           {
            "marker": {
             "colorbar": {
              "outlinewidth": 0,
              "ticks": ""
             }
            },
            "type": "scattergeo"
           }
          ],
          "scattergl": [
           {
            "marker": {
             "colorbar": {
              "outlinewidth": 0,
              "ticks": ""
             }
            },
            "type": "scattergl"
           }
          ],
          "scattermapbox": [
           {
            "marker": {
             "colorbar": {
              "outlinewidth": 0,
              "ticks": ""
             }
            },
            "type": "scattermapbox"
           }
          ],
          "scatterpolar": [
           {
            "marker": {
             "colorbar": {
              "outlinewidth": 0,
              "ticks": ""
             }
            },
            "type": "scatterpolar"
           }
          ],
          "scatterpolargl": [
           {
            "marker": {
             "colorbar": {
              "outlinewidth": 0,
              "ticks": ""
             }
            },
            "type": "scatterpolargl"
           }
          ],
          "scatterternary": [
           {
            "marker": {
             "colorbar": {
              "outlinewidth": 0,
              "ticks": ""
             }
            },
            "type": "scatterternary"
           }
          ],
          "surface": [
           {
            "colorbar": {
             "outlinewidth": 0,
             "ticks": ""
            },
            "colorscale": [
             [
              0,
              "#0d0887"
             ],
             [
              0.1111111111111111,
              "#46039f"
             ],
             [
              0.2222222222222222,
              "#7201a8"
             ],
             [
              0.3333333333333333,
              "#9c179e"
             ],
             [
              0.4444444444444444,
              "#bd3786"
             ],
             [
              0.5555555555555556,
              "#d8576b"
             ],
             [
              0.6666666666666666,
              "#ed7953"
             ],
             [
              0.7777777777777778,
              "#fb9f3a"
             ],
             [
              0.8888888888888888,
              "#fdca26"
             ],
             [
              1,
              "#f0f921"
             ]
            ],
            "type": "surface"
           }
          ],
          "table": [
           {
            "cells": {
             "fill": {
              "color": "#EBF0F8"
             },
             "line": {
              "color": "white"
             }
            },
            "header": {
             "fill": {
              "color": "#C8D4E3"
             },
             "line": {
              "color": "white"
             }
            },
            "type": "table"
           }
          ]
         },
         "layout": {
          "annotationdefaults": {
           "arrowcolor": "#2a3f5f",
           "arrowhead": 0,
           "arrowwidth": 1
          },
          "autotypenumbers": "strict",
          "coloraxis": {
           "colorbar": {
            "outlinewidth": 0,
            "ticks": ""
           }
          },
          "colorscale": {
           "diverging": [
            [
             0,
             "#8e0152"
            ],
            [
             0.1,
             "#c51b7d"
            ],
            [
             0.2,
             "#de77ae"
            ],
            [
             0.3,
             "#f1b6da"
            ],
            [
             0.4,
             "#fde0ef"
            ],
            [
             0.5,
             "#f7f7f7"
            ],
            [
             0.6,
             "#e6f5d0"
            ],
            [
             0.7,
             "#b8e186"
            ],
            [
             0.8,
             "#7fbc41"
            ],
            [
             0.9,
             "#4d9221"
            ],
            [
             1,
             "#276419"
            ]
           ],
           "sequential": [
            [
             0,
             "#0d0887"
            ],
            [
             0.1111111111111111,
             "#46039f"
            ],
            [
             0.2222222222222222,
             "#7201a8"
            ],
            [
             0.3333333333333333,
             "#9c179e"
            ],
            [
             0.4444444444444444,
             "#bd3786"
            ],
            [
             0.5555555555555556,
             "#d8576b"
            ],
            [
             0.6666666666666666,
             "#ed7953"
            ],
            [
             0.7777777777777778,
             "#fb9f3a"
            ],
            [
             0.8888888888888888,
             "#fdca26"
            ],
            [
             1,
             "#f0f921"
            ]
           ],
           "sequentialminus": [
            [
             0,
             "#0d0887"
            ],
            [
             0.1111111111111111,
             "#46039f"
            ],
            [
             0.2222222222222222,
             "#7201a8"
            ],
            [
             0.3333333333333333,
             "#9c179e"
            ],
            [
             0.4444444444444444,
             "#bd3786"
            ],
            [
             0.5555555555555556,
             "#d8576b"
            ],
            [
             0.6666666666666666,
             "#ed7953"
            ],
            [
             0.7777777777777778,
             "#fb9f3a"
            ],
            [
             0.8888888888888888,
             "#fdca26"
            ],
            [
             1,
             "#f0f921"
            ]
           ]
          },
          "colorway": [
           "#636efa",
           "#EF553B",
           "#00cc96",
           "#ab63fa",
           "#FFA15A",
           "#19d3f3",
           "#FF6692",
           "#B6E880",
           "#FF97FF",
           "#FECB52"
          ],
          "font": {
           "color": "#2a3f5f"
          },
          "geo": {
           "bgcolor": "white",
           "lakecolor": "white",
           "landcolor": "#E5ECF6",
           "showlakes": true,
           "showland": true,
           "subunitcolor": "white"
          },
          "hoverlabel": {
           "align": "left"
          },
          "hovermode": "closest",
          "mapbox": {
           "style": "light"
          },
          "paper_bgcolor": "white",
          "plot_bgcolor": "#E5ECF6",
          "polar": {
           "angularaxis": {
            "gridcolor": "white",
            "linecolor": "white",
            "ticks": ""
           },
           "bgcolor": "#E5ECF6",
           "radialaxis": {
            "gridcolor": "white",
            "linecolor": "white",
            "ticks": ""
           }
          },
          "scene": {
           "xaxis": {
            "backgroundcolor": "#E5ECF6",
            "gridcolor": "white",
            "gridwidth": 2,
            "linecolor": "white",
            "showbackground": true,
            "ticks": "",
            "zerolinecolor": "white"
           },
           "yaxis": {
            "backgroundcolor": "#E5ECF6",
            "gridcolor": "white",
            "gridwidth": 2,
            "linecolor": "white",
            "showbackground": true,
            "ticks": "",
            "zerolinecolor": "white"
           },
           "zaxis": {
            "backgroundcolor": "#E5ECF6",
            "gridcolor": "white",
            "gridwidth": 2,
            "linecolor": "white",
            "showbackground": true,
            "ticks": "",
            "zerolinecolor": "white"
           }
          },
          "shapedefaults": {
           "line": {
            "color": "#2a3f5f"
           }
          },
          "ternary": {
           "aaxis": {
            "gridcolor": "white",
            "linecolor": "white",
            "ticks": ""
           },
           "baxis": {
            "gridcolor": "white",
            "linecolor": "white",
            "ticks": ""
           },
           "bgcolor": "#E5ECF6",
           "caxis": {
            "gridcolor": "white",
            "linecolor": "white",
            "ticks": ""
           }
          },
          "title": {
           "x": 0.05
          },
          "xaxis": {
           "automargin": true,
           "gridcolor": "white",
           "linecolor": "white",
           "ticks": "",
           "title": {
            "standoff": 15
           },
           "zerolinecolor": "white",
           "zerolinewidth": 2
          },
          "yaxis": {
           "automargin": true,
           "gridcolor": "white",
           "linecolor": "white",
           "ticks": "",
           "title": {
            "standoff": 15
           },
           "zerolinecolor": "white",
           "zerolinewidth": 2
          }
         }
        },
        "title": {
         "text": "Loyal and exited customers pie"
        }
       }
      }
     },
     "metadata": {},
     "output_type": "display_data"
    }
   ],
   "source": [
    "exited = churn_data['Exited'].value_counts()\n",
    "labels = ['loyal', 'exited']\n",
    "\n",
    "fig = px.pie(\n",
    "    exited, \n",
    "    values = exited,\n",
    "    names = labels,\n",
    "    title = 'Loyal and exited customers pie',\n",
    "    \n",
    ")\n",
    "fig\n",
    "\n",
    "\n"
   ]
  },
  {
   "cell_type": "markdown",
   "metadata": {},
   "source": [
    "### 9.2. Постройте график, показывающий распределение баланса пользователей, у которых на счету больше 2 500 долларов. Опишите распределение и сделайте выводы.\n"
   ]
  },
  {
   "cell_type": "code",
   "execution_count": 6,
   "metadata": {},
   "outputs": [
    {
     "data": {
      "application/vnd.plotly.v1+json": {
       "config": {
        "plotlyServerURL": "https://plot.ly"
       },
       "data": [
        {
         "alignmentgroup": "True",
         "hovertemplate": "AgeClassification=elderly age (60 <= and < 75)<br>Gender=%{x}<br>Sum=%{y}<extra></extra>",
         "legendgroup": "elderly age (60 <= and < 75)",
         "marker": {
          "color": "#636efa",
          "pattern": {
           "shape": ""
          }
         },
         "name": "elderly age (60 <= and < 75)",
         "offsetgroup": "elderly age (60 <= and < 75)",
         "orientation": "v",
         "showlegend": true,
         "textposition": "auto",
         "type": "bar",
         "x": [
          "Female",
          "Male"
         ],
         "xaxis": "x",
         "y": [
          17033827.07999999,
          19056203.499999996
         ],
         "yaxis": "y"
        },
        {
         "alignmentgroup": "True",
         "hovertemplate": "AgeClassification=middle age (45 <= and < 60)<br>Gender=%{x}<br>Sum=%{y}<extra></extra>",
         "legendgroup": "middle age (45 <= and < 60)",
         "marker": {
          "color": "#EF553B",
          "pattern": {
           "shape": ""
          }
         },
         "name": "middle age (45 <= and < 60)",
         "offsetgroup": "middle age (45 <= and < 60)",
         "orientation": "v",
         "showlegend": true,
         "textposition": "auto",
         "type": "bar",
         "x": [
          "Female",
          "Male"
         ],
         "xaxis": "x",
         "y": [
          73140290.44000004,
          74995549.55999994
         ],
         "yaxis": "y"
        },
        {
         "alignmentgroup": "True",
         "hovertemplate": "AgeClassification=senile age (> 75)<br>Gender=%{x}<br>Sum=%{y}<extra></extra>",
         "legendgroup": "senile age (> 75)",
         "marker": {
          "color": "#00cc96",
          "pattern": {
           "shape": ""
          }
         },
         "name": "senile age (> 75)",
         "offsetgroup": "senile age (> 75)",
         "orientation": "v",
         "showlegend": true,
         "textposition": "auto",
         "type": "bar",
         "x": [
          "Female",
          "Male"
         ],
         "xaxis": "x",
         "y": [
          1316973.35,
          2114583.5100000002
         ],
         "yaxis": "y"
        },
        {
         "alignmentgroup": "True",
         "hovertemplate": "AgeClassification=young (< 25)<br>Gender=%{x}<br>Sum=%{y}<extra></extra>",
         "legendgroup": "young (< 25)",
         "marker": {
          "color": "#ab63fa",
          "pattern": {
           "shape": ""
          }
         },
         "name": "young (< 25)",
         "offsetgroup": "young (< 25)",
         "orientation": "v",
         "showlegend": true,
         "textposition": "auto",
         "type": "bar",
         "x": [
          "Female",
          "Male"
         ],
         "xaxis": "x",
         "y": [
          15330780.929999996,
          18497286.720000003
         ],
         "yaxis": "y"
        },
        {
         "alignmentgroup": "True",
         "hovertemplate": "AgeClassification=young adult (25 <= and < 45)<br>Gender=%{x}<br>Sum=%{y}<extra></extra>",
         "legendgroup": "young adult (25 <= and < 45)",
         "marker": {
          "color": "#FFA15A",
          "pattern": {
           "shape": ""
          }
         },
         "name": "young adult (25 <= and < 45)",
         "offsetgroup": "young adult (25 <= and < 45)",
         "orientation": "v",
         "showlegend": true,
         "textposition": "auto",
         "type": "bar",
         "x": [
          "Female",
          "Male"
         ],
         "xaxis": "x",
         "y": [
          236898642.20000002,
          306474755.5900004
         ],
         "yaxis": "y"
        }
       ],
       "layout": {
        "barmode": "group",
        "legend": {
         "title": {
          "text": "AgeClassification"
         },
         "tracegroupgap": 0
        },
        "margin": {
         "t": 60
        },
        "template": {
         "data": {
          "bar": [
           {
            "error_x": {
             "color": "#2a3f5f"
            },
            "error_y": {
             "color": "#2a3f5f"
            },
            "marker": {
             "line": {
              "color": "#E5ECF6",
              "width": 0.5
             },
             "pattern": {
              "fillmode": "overlay",
              "size": 10,
              "solidity": 0.2
             }
            },
            "type": "bar"
           }
          ],
          "barpolar": [
           {
            "marker": {
             "line": {
              "color": "#E5ECF6",
              "width": 0.5
             },
             "pattern": {
              "fillmode": "overlay",
              "size": 10,
              "solidity": 0.2
             }
            },
            "type": "barpolar"
           }
          ],
          "carpet": [
           {
            "aaxis": {
             "endlinecolor": "#2a3f5f",
             "gridcolor": "white",
             "linecolor": "white",
             "minorgridcolor": "white",
             "startlinecolor": "#2a3f5f"
            },
            "baxis": {
             "endlinecolor": "#2a3f5f",
             "gridcolor": "white",
             "linecolor": "white",
             "minorgridcolor": "white",
             "startlinecolor": "#2a3f5f"
            },
            "type": "carpet"
           }
          ],
          "choropleth": [
           {
            "colorbar": {
             "outlinewidth": 0,
             "ticks": ""
            },
            "type": "choropleth"
           }
          ],
          "contour": [
           {
            "colorbar": {
             "outlinewidth": 0,
             "ticks": ""
            },
            "colorscale": [
             [
              0,
              "#0d0887"
             ],
             [
              0.1111111111111111,
              "#46039f"
             ],
             [
              0.2222222222222222,
              "#7201a8"
             ],
             [
              0.3333333333333333,
              "#9c179e"
             ],
             [
              0.4444444444444444,
              "#bd3786"
             ],
             [
              0.5555555555555556,
              "#d8576b"
             ],
             [
              0.6666666666666666,
              "#ed7953"
             ],
             [
              0.7777777777777778,
              "#fb9f3a"
             ],
             [
              0.8888888888888888,
              "#fdca26"
             ],
             [
              1,
              "#f0f921"
             ]
            ],
            "type": "contour"
           }
          ],
          "contourcarpet": [
           {
            "colorbar": {
             "outlinewidth": 0,
             "ticks": ""
            },
            "type": "contourcarpet"
           }
          ],
          "heatmap": [
           {
            "colorbar": {
             "outlinewidth": 0,
             "ticks": ""
            },
            "colorscale": [
             [
              0,
              "#0d0887"
             ],
             [
              0.1111111111111111,
              "#46039f"
             ],
             [
              0.2222222222222222,
              "#7201a8"
             ],
             [
              0.3333333333333333,
              "#9c179e"
             ],
             [
              0.4444444444444444,
              "#bd3786"
             ],
             [
              0.5555555555555556,
              "#d8576b"
             ],
             [
              0.6666666666666666,
              "#ed7953"
             ],
             [
              0.7777777777777778,
              "#fb9f3a"
             ],
             [
              0.8888888888888888,
              "#fdca26"
             ],
             [
              1,
              "#f0f921"
             ]
            ],
            "type": "heatmap"
           }
          ],
          "heatmapgl": [
           {
            "colorbar": {
             "outlinewidth": 0,
             "ticks": ""
            },
            "colorscale": [
             [
              0,
              "#0d0887"
             ],
             [
              0.1111111111111111,
              "#46039f"
             ],
             [
              0.2222222222222222,
              "#7201a8"
             ],
             [
              0.3333333333333333,
              "#9c179e"
             ],
             [
              0.4444444444444444,
              "#bd3786"
             ],
             [
              0.5555555555555556,
              "#d8576b"
             ],
             [
              0.6666666666666666,
              "#ed7953"
             ],
             [
              0.7777777777777778,
              "#fb9f3a"
             ],
             [
              0.8888888888888888,
              "#fdca26"
             ],
             [
              1,
              "#f0f921"
             ]
            ],
            "type": "heatmapgl"
           }
          ],
          "histogram": [
           {
            "marker": {
             "pattern": {
              "fillmode": "overlay",
              "size": 10,
              "solidity": 0.2
             }
            },
            "type": "histogram"
           }
          ],
          "histogram2d": [
           {
            "colorbar": {
             "outlinewidth": 0,
             "ticks": ""
            },
            "colorscale": [
             [
              0,
              "#0d0887"
             ],
             [
              0.1111111111111111,
              "#46039f"
             ],
             [
              0.2222222222222222,
              "#7201a8"
             ],
             [
              0.3333333333333333,
              "#9c179e"
             ],
             [
              0.4444444444444444,
              "#bd3786"
             ],
             [
              0.5555555555555556,
              "#d8576b"
             ],
             [
              0.6666666666666666,
              "#ed7953"
             ],
             [
              0.7777777777777778,
              "#fb9f3a"
             ],
             [
              0.8888888888888888,
              "#fdca26"
             ],
             [
              1,
              "#f0f921"
             ]
            ],
            "type": "histogram2d"
           }
          ],
          "histogram2dcontour": [
           {
            "colorbar": {
             "outlinewidth": 0,
             "ticks": ""
            },
            "colorscale": [
             [
              0,
              "#0d0887"
             ],
             [
              0.1111111111111111,
              "#46039f"
             ],
             [
              0.2222222222222222,
              "#7201a8"
             ],
             [
              0.3333333333333333,
              "#9c179e"
             ],
             [
              0.4444444444444444,
              "#bd3786"
             ],
             [
              0.5555555555555556,
              "#d8576b"
             ],
             [
              0.6666666666666666,
              "#ed7953"
             ],
             [
              0.7777777777777778,
              "#fb9f3a"
             ],
             [
              0.8888888888888888,
              "#fdca26"
             ],
             [
              1,
              "#f0f921"
             ]
            ],
            "type": "histogram2dcontour"
           }
          ],
          "mesh3d": [
           {
            "colorbar": {
             "outlinewidth": 0,
             "ticks": ""
            },
            "type": "mesh3d"
           }
          ],
          "parcoords": [
           {
            "line": {
             "colorbar": {
              "outlinewidth": 0,
              "ticks": ""
             }
            },
            "type": "parcoords"
           }
          ],
          "pie": [
           {
            "automargin": true,
            "type": "pie"
           }
          ],
          "scatter": [
           {
            "marker": {
             "colorbar": {
              "outlinewidth": 0,
              "ticks": ""
             }
            },
            "type": "scatter"
           }
          ],
          "scatter3d": [
           {
            "line": {
             "colorbar": {
              "outlinewidth": 0,
              "ticks": ""
             }
            },
            "marker": {
             "colorbar": {
              "outlinewidth": 0,
              "ticks": ""
             }
            },
            "type": "scatter3d"
           }
          ],
          "scattercarpet": [
           {
            "marker": {
             "colorbar": {
              "outlinewidth": 0,
              "ticks": ""
             }
            },
            "type": "scattercarpet"
           }
          ],
          "scattergeo": [
           {
            "marker": {
             "colorbar": {
              "outlinewidth": 0,
              "ticks": ""
             }
            },
            "type": "scattergeo"
           }
          ],
          "scattergl": [
           {
            "marker": {
             "colorbar": {
              "outlinewidth": 0,
              "ticks": ""
             }
            },
            "type": "scattergl"
           }
          ],
          "scattermapbox": [
           {
            "marker": {
             "colorbar": {
              "outlinewidth": 0,
              "ticks": ""
             }
            },
            "type": "scattermapbox"
           }
          ],
          "scatterpolar": [
           {
            "marker": {
             "colorbar": {
              "outlinewidth": 0,
              "ticks": ""
             }
            },
            "type": "scatterpolar"
           }
          ],
          "scatterpolargl": [
           {
            "marker": {
             "colorbar": {
              "outlinewidth": 0,
              "ticks": ""
             }
            },
            "type": "scatterpolargl"
           }
          ],
          "scatterternary": [
           {
            "marker": {
             "colorbar": {
              "outlinewidth": 0,
              "ticks": ""
             }
            },
            "type": "scatterternary"
           }
          ],
          "surface": [
           {
            "colorbar": {
             "outlinewidth": 0,
             "ticks": ""
            },
            "colorscale": [
             [
              0,
              "#0d0887"
             ],
             [
              0.1111111111111111,
              "#46039f"
             ],
             [
              0.2222222222222222,
              "#7201a8"
             ],
             [
              0.3333333333333333,
              "#9c179e"
             ],
             [
              0.4444444444444444,
              "#bd3786"
             ],
             [
              0.5555555555555556,
              "#d8576b"
             ],
             [
              0.6666666666666666,
              "#ed7953"
             ],
             [
              0.7777777777777778,
              "#fb9f3a"
             ],
             [
              0.8888888888888888,
              "#fdca26"
             ],
             [
              1,
              "#f0f921"
             ]
            ],
            "type": "surface"
           }
          ],
          "table": [
           {
            "cells": {
             "fill": {
              "color": "#EBF0F8"
             },
             "line": {
              "color": "white"
             }
            },
            "header": {
             "fill": {
              "color": "#C8D4E3"
             },
             "line": {
              "color": "white"
             }
            },
            "type": "table"
           }
          ]
         },
         "layout": {
          "annotationdefaults": {
           "arrowcolor": "#2a3f5f",
           "arrowhead": 0,
           "arrowwidth": 1
          },
          "autotypenumbers": "strict",
          "coloraxis": {
           "colorbar": {
            "outlinewidth": 0,
            "ticks": ""
           }
          },
          "colorscale": {
           "diverging": [
            [
             0,
             "#8e0152"
            ],
            [
             0.1,
             "#c51b7d"
            ],
            [
             0.2,
             "#de77ae"
            ],
            [
             0.3,
             "#f1b6da"
            ],
            [
             0.4,
             "#fde0ef"
            ],
            [
             0.5,
             "#f7f7f7"
            ],
            [
             0.6,
             "#e6f5d0"
            ],
            [
             0.7,
             "#b8e186"
            ],
            [
             0.8,
             "#7fbc41"
            ],
            [
             0.9,
             "#4d9221"
            ],
            [
             1,
             "#276419"
            ]
           ],
           "sequential": [
            [
             0,
             "#0d0887"
            ],
            [
             0.1111111111111111,
             "#46039f"
            ],
            [
             0.2222222222222222,
             "#7201a8"
            ],
            [
             0.3333333333333333,
             "#9c179e"
            ],
            [
             0.4444444444444444,
             "#bd3786"
            ],
            [
             0.5555555555555556,
             "#d8576b"
            ],
            [
             0.6666666666666666,
             "#ed7953"
            ],
            [
             0.7777777777777778,
             "#fb9f3a"
            ],
            [
             0.8888888888888888,
             "#fdca26"
            ],
            [
             1,
             "#f0f921"
            ]
           ],
           "sequentialminus": [
            [
             0,
             "#0d0887"
            ],
            [
             0.1111111111111111,
             "#46039f"
            ],
            [
             0.2222222222222222,
             "#7201a8"
            ],
            [
             0.3333333333333333,
             "#9c179e"
            ],
            [
             0.4444444444444444,
             "#bd3786"
            ],
            [
             0.5555555555555556,
             "#d8576b"
            ],
            [
             0.6666666666666666,
             "#ed7953"
            ],
            [
             0.7777777777777778,
             "#fb9f3a"
            ],
            [
             0.8888888888888888,
             "#fdca26"
            ],
            [
             1,
             "#f0f921"
            ]
           ]
          },
          "colorway": [
           "#636efa",
           "#EF553B",
           "#00cc96",
           "#ab63fa",
           "#FFA15A",
           "#19d3f3",
           "#FF6692",
           "#B6E880",
           "#FF97FF",
           "#FECB52"
          ],
          "font": {
           "color": "#2a3f5f"
          },
          "geo": {
           "bgcolor": "white",
           "lakecolor": "white",
           "landcolor": "#E5ECF6",
           "showlakes": true,
           "showland": true,
           "subunitcolor": "white"
          },
          "hoverlabel": {
           "align": "left"
          },
          "hovermode": "closest",
          "mapbox": {
           "style": "light"
          },
          "paper_bgcolor": "white",
          "plot_bgcolor": "#E5ECF6",
          "polar": {
           "angularaxis": {
            "gridcolor": "white",
            "linecolor": "white",
            "ticks": ""
           },
           "bgcolor": "#E5ECF6",
           "radialaxis": {
            "gridcolor": "white",
            "linecolor": "white",
            "ticks": ""
           }
          },
          "scene": {
           "xaxis": {
            "backgroundcolor": "#E5ECF6",
            "gridcolor": "white",
            "gridwidth": 2,
            "linecolor": "white",
            "showbackground": true,
            "ticks": "",
            "zerolinecolor": "white"
           },
           "yaxis": {
            "backgroundcolor": "#E5ECF6",
            "gridcolor": "white",
            "gridwidth": 2,
            "linecolor": "white",
            "showbackground": true,
            "ticks": "",
            "zerolinecolor": "white"
           },
           "zaxis": {
            "backgroundcolor": "#E5ECF6",
            "gridcolor": "white",
            "gridwidth": 2,
            "linecolor": "white",
            "showbackground": true,
            "ticks": "",
            "zerolinecolor": "white"
           }
          },
          "shapedefaults": {
           "line": {
            "color": "#2a3f5f"
           }
          },
          "ternary": {
           "aaxis": {
            "gridcolor": "white",
            "linecolor": "white",
            "ticks": ""
           },
           "baxis": {
            "gridcolor": "white",
            "linecolor": "white",
            "ticks": ""
           },
           "bgcolor": "#E5ECF6",
           "caxis": {
            "gridcolor": "white",
            "linecolor": "white",
            "ticks": ""
           }
          },
          "title": {
           "x": 0.05
          },
          "xaxis": {
           "automargin": true,
           "gridcolor": "white",
           "linecolor": "white",
           "ticks": "",
           "title": {
            "standoff": 15
           },
           "zerolinecolor": "white",
           "zerolinewidth": 2
          },
          "yaxis": {
           "automargin": true,
           "gridcolor": "white",
           "linecolor": "white",
           "ticks": "",
           "title": {
            "standoff": 15
           },
           "zerolinecolor": "white",
           "zerolinewidth": 2
          }
         }
        },
        "title": {
         "text": "Распределение баланса пользователей (с более $2500 на счету) по возрастной группе и полу"
        },
        "xaxis": {
         "anchor": "y",
         "domain": [
          0,
          1
         ],
         "title": {
          "text": "Gender"
         }
        },
        "yaxis": {
         "anchor": "x",
         "domain": [
          0,
          1
         ],
         "title": {
          "text": "Sum"
         }
        }
       }
      }
     },
     "metadata": {},
     "output_type": "display_data"
    }
   ],
   "source": [
    "high_balance = churn_data[churn_data['Balance'] > 2500]\n",
    "def age_classification(row):\n",
    "    if row < 25:\n",
    "        return 'young (< 25)'\n",
    "    if 25 <= row < 45:\n",
    "        return 'young adult (25 <= and < 45)'\n",
    "    if 45 <= row < 60: \n",
    "        return 'middle age (45 <= and < 60)'\n",
    "    if 60 <= row < 75: \n",
    "        return 'elderly age (60 <= and < 75)'\n",
    "    if 75 <= row: \n",
    "        return 'senile age (> 75)'\n",
    "    \n",
    "churn_data['AgeClassification'] = churn_data['Age'].apply(age_classification)\n",
    "bar_data = high_balance.groupby(['Gender', 'AgeClassification'], as_index=False)['Balance'].sum()\n",
    "bar_data.columns = ['Gender', 'AgeClassification', 'Sum']\n",
    "\n",
    "fig = px.bar(\n",
    "   bar_data,\n",
    "   x = 'Gender',\n",
    "   y = 'Sum',\n",
    "   color = 'AgeClassification', \n",
    "   barmode = 'group' \n",
    ")\n",
    "fig.update_layout(title=\"Распределение баланса пользователей (с более $2500 на счету) по возрастной группе и полу\")\n",
    "fig\n",
    "\n"
   ]
  },
  {
   "cell_type": "markdown",
   "metadata": {},
   "source": [
    "### 9.3. Посмотрите на распределение баланса клиента в разрезе признака оттока. Как различаются суммы на накопительном счёте ушедших и лояльных клиентов? Подумайте и напишите, с чем это может быть связано, что может не устраивать ушедших клиентов в банке."
   ]
  },
  {
   "cell_type": "code",
   "execution_count": null,
   "metadata": {},
   "outputs": [],
   "source": [
    "churn_data['Exited'] = churn_data['Exited'].replace([0, 1], ['loyal', 'exited'])\n",
    "churn_data['IsActiveMember'] = churn_data['IsActiveMember'].replace([0, 1], ['inactive', 'active'])"
   ]
  },
  {
   "cell_type": "code",
   "execution_count": null,
   "metadata": {},
   "outputs": [
    {
     "data": {
      "application/vnd.plotly.v1+json": {
       "config": {
        "plotlyServerURL": "https://plot.ly"
       },
       "data": [
        {
         "alignmentgroup": "True",
         "hovertemplate": "Geography=France<br>IsActiveMember=active<br>Exited=%{x}<br>Balance=%{y}<extra></extra>",
         "legendgroup": "France",
         "marker": {
          "color": "#636efa",
          "pattern": {
           "shape": ""
          }
         },
         "name": "France",
         "offsetgroup": "France",
         "orientation": "v",
         "showlegend": true,
         "textposition": "auto",
         "texttemplate": "%{y}",
         "type": "bar",
         "x": [
          "exited",
          "loyal"
         ],
         "xaxis": "x2",
         "y": [
          20483410.280000005,
          137076824.0000001
         ],
         "yaxis": "y2"
        },
        {
         "alignmentgroup": "True",
         "hovertemplate": "Geography=France<br>IsActiveMember=inactive<br>Exited=%{x}<br>Balance=%{y}<extra></extra>",
         "legendgroup": "France",
         "marker": {
          "color": "#636efa",
          "pattern": {
           "shape": ""
          }
         },
         "name": "France",
         "offsetgroup": "France",
         "orientation": "v",
         "showlegend": false,
         "textposition": "auto",
         "texttemplate": "%{y}",
         "type": "bar",
         "x": [
          "exited",
          "loyal"
         ],
         "xaxis": "x",
         "y": [
          37182754.25999997,
          116589490.95000024
         ],
         "yaxis": "y"
        },
        {
         "alignmentgroup": "True",
         "hovertemplate": "Geography=Germany<br>IsActiveMember=active<br>Exited=%{x}<br>Balance=%{y}<extra></extra>",
         "legendgroup": "Germany",
         "marker": {
          "color": "#EF553B",
          "pattern": {
           "shape": ""
          }
         },
         "name": "Germany",
         "offsetgroup": "Germany",
         "orientation": "v",
         "showlegend": true,
         "textposition": "auto",
         "texttemplate": "%{y}",
         "type": "bar",
         "x": [
          "exited",
          "loyal"
         ],
         "xaxis": "x2",
         "y": [
          35705583.08000001,
          113897927.33000015
         ],
         "yaxis": "y2"
        },
        {
         "alignmentgroup": "True",
         "hovertemplate": "Geography=Germany<br>IsActiveMember=inactive<br>Exited=%{x}<br>Balance=%{y}<extra></extra>",
         "legendgroup": "Germany",
         "marker": {
          "color": "#EF553B",
          "pattern": {
           "shape": ""
          }
         },
         "name": "Germany",
         "offsetgroup": "Germany",
         "orientation": "v",
         "showlegend": false,
         "textposition": "auto",
         "texttemplate": "%{y}",
         "type": "bar",
         "x": [
          "exited",
          "loyal"
         ],
         "xaxis": "x",
         "y": [
          62268332.45000004,
          88531018.52
         ],
         "yaxis": "y"
        },
        {
         "alignmentgroup": "True",
         "hovertemplate": "Geography=Spain<br>IsActiveMember=active<br>Exited=%{x}<br>Balance=%{y}<extra></extra>",
         "legendgroup": "Spain",
         "marker": {
          "color": "#00cc96",
          "pattern": {
           "shape": ""
          }
         },
         "name": "Spain",
         "offsetgroup": "Spain",
         "orientation": "v",
         "showlegend": true,
         "textposition": "auto",
         "texttemplate": "%{y}",
         "type": "bar",
         "x": [
          "exited",
          "loyal"
         ],
         "xaxis": "x2",
         "y": [
          10931674.450000001,
          72738880.33000006
         ],
         "yaxis": "y2"
        },
        {
         "alignmentgroup": "True",
         "hovertemplate": "Geography=Spain<br>IsActiveMember=inactive<br>Exited=%{x}<br>Balance=%{y}<extra></extra>",
         "legendgroup": "Spain",
         "marker": {
          "color": "#00cc96",
          "pattern": {
           "shape": ""
          }
         },
         "name": "Spain",
         "offsetgroup": "Spain",
         "orientation": "v",
         "showlegend": false,
         "textposition": "auto",
         "texttemplate": "%{y}",
         "type": "bar",
         "x": [
          "exited",
          "loyal"
         ],
         "xaxis": "x",
         "y": [
          19016340.11000001,
          50436657.12000003
         ],
         "yaxis": "y"
        }
       ],
       "layout": {
        "annotations": [
         {
          "font": {},
          "showarrow": false,
          "text": "IsActiveMember=inactive",
          "textangle": 90,
          "x": 0.98,
          "xanchor": "left",
          "xref": "paper",
          "y": 0.2425,
          "yanchor": "middle",
          "yref": "paper"
         },
         {
          "font": {},
          "showarrow": false,
          "text": "IsActiveMember=active",
          "textangle": 90,
          "x": 0.98,
          "xanchor": "left",
          "xref": "paper",
          "y": 0.7575000000000001,
          "yanchor": "middle",
          "yref": "paper"
         }
        ],
        "barmode": "group",
        "legend": {
         "title": {
          "text": "Geography"
         },
         "tracegroupgap": 0
        },
        "margin": {
         "t": 60
        },
        "template": {
         "data": {
          "bar": [
           {
            "error_x": {
             "color": "#2a3f5f"
            },
            "error_y": {
             "color": "#2a3f5f"
            },
            "marker": {
             "line": {
              "color": "#E5ECF6",
              "width": 0.5
             },
             "pattern": {
              "fillmode": "overlay",
              "size": 10,
              "solidity": 0.2
             }
            },
            "type": "bar"
           }
          ],
          "barpolar": [
           {
            "marker": {
             "line": {
              "color": "#E5ECF6",
              "width": 0.5
             },
             "pattern": {
              "fillmode": "overlay",
              "size": 10,
              "solidity": 0.2
             }
            },
            "type": "barpolar"
           }
          ],
          "carpet": [
           {
            "aaxis": {
             "endlinecolor": "#2a3f5f",
             "gridcolor": "white",
             "linecolor": "white",
             "minorgridcolor": "white",
             "startlinecolor": "#2a3f5f"
            },
            "baxis": {
             "endlinecolor": "#2a3f5f",
             "gridcolor": "white",
             "linecolor": "white",
             "minorgridcolor": "white",
             "startlinecolor": "#2a3f5f"
            },
            "type": "carpet"
           }
          ],
          "choropleth": [
           {
            "colorbar": {
             "outlinewidth": 0,
             "ticks": ""
            },
            "type": "choropleth"
           }
          ],
          "contour": [
           {
            "colorbar": {
             "outlinewidth": 0,
             "ticks": ""
            },
            "colorscale": [
             [
              0,
              "#0d0887"
             ],
             [
              0.1111111111111111,
              "#46039f"
             ],
             [
              0.2222222222222222,
              "#7201a8"
             ],
             [
              0.3333333333333333,
              "#9c179e"
             ],
             [
              0.4444444444444444,
              "#bd3786"
             ],
             [
              0.5555555555555556,
              "#d8576b"
             ],
             [
              0.6666666666666666,
              "#ed7953"
             ],
             [
              0.7777777777777778,
              "#fb9f3a"
             ],
             [
              0.8888888888888888,
              "#fdca26"
             ],
             [
              1,
              "#f0f921"
             ]
            ],
            "type": "contour"
           }
          ],
          "contourcarpet": [
           {
            "colorbar": {
             "outlinewidth": 0,
             "ticks": ""
            },
            "type": "contourcarpet"
           }
          ],
          "heatmap": [
           {
            "colorbar": {
             "outlinewidth": 0,
             "ticks": ""
            },
            "colorscale": [
             [
              0,
              "#0d0887"
             ],
             [
              0.1111111111111111,
              "#46039f"
             ],
             [
              0.2222222222222222,
              "#7201a8"
             ],
             [
              0.3333333333333333,
              "#9c179e"
             ],
             [
              0.4444444444444444,
              "#bd3786"
             ],
             [
              0.5555555555555556,
              "#d8576b"
             ],
             [
              0.6666666666666666,
              "#ed7953"
             ],
             [
              0.7777777777777778,
              "#fb9f3a"
             ],
             [
              0.8888888888888888,
              "#fdca26"
             ],
             [
              1,
              "#f0f921"
             ]
            ],
            "type": "heatmap"
           }
          ],
          "heatmapgl": [
           {
            "colorbar": {
             "outlinewidth": 0,
             "ticks": ""
            },
            "colorscale": [
             [
              0,
              "#0d0887"
             ],
             [
              0.1111111111111111,
              "#46039f"
             ],
             [
              0.2222222222222222,
              "#7201a8"
             ],
             [
              0.3333333333333333,
              "#9c179e"
             ],
             [
              0.4444444444444444,
              "#bd3786"
             ],
             [
              0.5555555555555556,
              "#d8576b"
             ],
             [
              0.6666666666666666,
              "#ed7953"
             ],
             [
              0.7777777777777778,
              "#fb9f3a"
             ],
             [
              0.8888888888888888,
              "#fdca26"
             ],
             [
              1,
              "#f0f921"
             ]
            ],
            "type": "heatmapgl"
           }
          ],
          "histogram": [
           {
            "marker": {
             "pattern": {
              "fillmode": "overlay",
              "size": 10,
              "solidity": 0.2
             }
            },
            "type": "histogram"
           }
          ],
          "histogram2d": [
           {
            "colorbar": {
             "outlinewidth": 0,
             "ticks": ""
            },
            "colorscale": [
             [
              0,
              "#0d0887"
             ],
             [
              0.1111111111111111,
              "#46039f"
             ],
             [
              0.2222222222222222,
              "#7201a8"
             ],
             [
              0.3333333333333333,
              "#9c179e"
             ],
             [
              0.4444444444444444,
              "#bd3786"
             ],
             [
              0.5555555555555556,
              "#d8576b"
             ],
             [
              0.6666666666666666,
              "#ed7953"
             ],
             [
              0.7777777777777778,
              "#fb9f3a"
             ],
             [
              0.8888888888888888,
              "#fdca26"
             ],
             [
              1,
              "#f0f921"
             ]
            ],
            "type": "histogram2d"
           }
          ],
          "histogram2dcontour": [
           {
            "colorbar": {
             "outlinewidth": 0,
             "ticks": ""
            },
            "colorscale": [
             [
              0,
              "#0d0887"
             ],
             [
              0.1111111111111111,
              "#46039f"
             ],
             [
              0.2222222222222222,
              "#7201a8"
             ],
             [
              0.3333333333333333,
              "#9c179e"
             ],
             [
              0.4444444444444444,
              "#bd3786"
             ],
             [
              0.5555555555555556,
              "#d8576b"
             ],
             [
              0.6666666666666666,
              "#ed7953"
             ],
             [
              0.7777777777777778,
              "#fb9f3a"
             ],
             [
              0.8888888888888888,
              "#fdca26"
             ],
             [
              1,
              "#f0f921"
             ]
            ],
            "type": "histogram2dcontour"
           }
          ],
          "mesh3d": [
           {
            "colorbar": {
             "outlinewidth": 0,
             "ticks": ""
            },
            "type": "mesh3d"
           }
          ],
          "parcoords": [
           {
            "line": {
             "colorbar": {
              "outlinewidth": 0,
              "ticks": ""
             }
            },
            "type": "parcoords"
           }
          ],
          "pie": [
           {
            "automargin": true,
            "type": "pie"
           }
          ],
          "scatter": [
           {
            "marker": {
             "colorbar": {
              "outlinewidth": 0,
              "ticks": ""
             }
            },
            "type": "scatter"
           }
          ],
          "scatter3d": [
           {
            "line": {
             "colorbar": {
              "outlinewidth": 0,
              "ticks": ""
             }
            },
            "marker": {
             "colorbar": {
              "outlinewidth": 0,
              "ticks": ""
             }
            },
            "type": "scatter3d"
           }
          ],
          "scattercarpet": [
           {
            "marker": {
             "colorbar": {
              "outlinewidth": 0,
              "ticks": ""
             }
            },
            "type": "scattercarpet"
           }
          ],
          "scattergeo": [
           {
            "marker": {
             "colorbar": {
              "outlinewidth": 0,
              "ticks": ""
             }
            },
            "type": "scattergeo"
           }
          ],
          "scattergl": [
           {
            "marker": {
             "colorbar": {
              "outlinewidth": 0,
              "ticks": ""
             }
            },
            "type": "scattergl"
           }
          ],
          "scattermapbox": [
           {
            "marker": {
             "colorbar": {
              "outlinewidth": 0,
              "ticks": ""
             }
            },
            "type": "scattermapbox"
           }
          ],
          "scatterpolar": [
           {
            "marker": {
             "colorbar": {
              "outlinewidth": 0,
              "ticks": ""
             }
            },
            "type": "scatterpolar"
           }
          ],
          "scatterpolargl": [
           {
            "marker": {
             "colorbar": {
              "outlinewidth": 0,
              "ticks": ""
             }
            },
            "type": "scatterpolargl"
           }
          ],
          "scatterternary": [
           {
            "marker": {
             "colorbar": {
              "outlinewidth": 0,
              "ticks": ""
             }
            },
            "type": "scatterternary"
           }
          ],
          "surface": [
           {
            "colorbar": {
             "outlinewidth": 0,
             "ticks": ""
            },
            "colorscale": [
             [
              0,
              "#0d0887"
             ],
             [
              0.1111111111111111,
              "#46039f"
             ],
             [
              0.2222222222222222,
              "#7201a8"
             ],
             [
              0.3333333333333333,
              "#9c179e"
             ],
             [
              0.4444444444444444,
              "#bd3786"
             ],
             [
              0.5555555555555556,
              "#d8576b"
             ],
             [
              0.6666666666666666,
              "#ed7953"
             ],
             [
              0.7777777777777778,
              "#fb9f3a"
             ],
             [
              0.8888888888888888,
              "#fdca26"
             ],
             [
              1,
              "#f0f921"
             ]
            ],
            "type": "surface"
           }
          ],
          "table": [
           {
            "cells": {
             "fill": {
              "color": "#EBF0F8"
             },
             "line": {
              "color": "white"
             }
            },
            "header": {
             "fill": {
              "color": "#C8D4E3"
             },
             "line": {
              "color": "white"
             }
            },
            "type": "table"
           }
          ]
         },
         "layout": {
          "annotationdefaults": {
           "arrowcolor": "#2a3f5f",
           "arrowhead": 0,
           "arrowwidth": 1
          },
          "autotypenumbers": "strict",
          "coloraxis": {
           "colorbar": {
            "outlinewidth": 0,
            "ticks": ""
           }
          },
          "colorscale": {
           "diverging": [
            [
             0,
             "#8e0152"
            ],
            [
             0.1,
             "#c51b7d"
            ],
            [
             0.2,
             "#de77ae"
            ],
            [
             0.3,
             "#f1b6da"
            ],
            [
             0.4,
             "#fde0ef"
            ],
            [
             0.5,
             "#f7f7f7"
            ],
            [
             0.6,
             "#e6f5d0"
            ],
            [
             0.7,
             "#b8e186"
            ],
            [
             0.8,
             "#7fbc41"
            ],
            [
             0.9,
             "#4d9221"
            ],
            [
             1,
             "#276419"
            ]
           ],
           "sequential": [
            [
             0,
             "#0d0887"
            ],
            [
             0.1111111111111111,
             "#46039f"
            ],
            [
             0.2222222222222222,
             "#7201a8"
            ],
            [
             0.3333333333333333,
             "#9c179e"
            ],
            [
             0.4444444444444444,
             "#bd3786"
            ],
            [
             0.5555555555555556,
             "#d8576b"
            ],
            [
             0.6666666666666666,
             "#ed7953"
            ],
            [
             0.7777777777777778,
             "#fb9f3a"
            ],
            [
             0.8888888888888888,
             "#fdca26"
            ],
            [
             1,
             "#f0f921"
            ]
           ],
           "sequentialminus": [
            [
             0,
             "#0d0887"
            ],
            [
             0.1111111111111111,
             "#46039f"
            ],
            [
             0.2222222222222222,
             "#7201a8"
            ],
            [
             0.3333333333333333,
             "#9c179e"
            ],
            [
             0.4444444444444444,
             "#bd3786"
            ],
            [
             0.5555555555555556,
             "#d8576b"
            ],
            [
             0.6666666666666666,
             "#ed7953"
            ],
            [
             0.7777777777777778,
             "#fb9f3a"
            ],
            [
             0.8888888888888888,
             "#fdca26"
            ],
            [
             1,
             "#f0f921"
            ]
           ]
          },
          "colorway": [
           "#636efa",
           "#EF553B",
           "#00cc96",
           "#ab63fa",
           "#FFA15A",
           "#19d3f3",
           "#FF6692",
           "#B6E880",
           "#FF97FF",
           "#FECB52"
          ],
          "font": {
           "color": "#2a3f5f"
          },
          "geo": {
           "bgcolor": "white",
           "lakecolor": "white",
           "landcolor": "#E5ECF6",
           "showlakes": true,
           "showland": true,
           "subunitcolor": "white"
          },
          "hoverlabel": {
           "align": "left"
          },
          "hovermode": "closest",
          "mapbox": {
           "style": "light"
          },
          "paper_bgcolor": "white",
          "plot_bgcolor": "#E5ECF6",
          "polar": {
           "angularaxis": {
            "gridcolor": "white",
            "linecolor": "white",
            "ticks": ""
           },
           "bgcolor": "#E5ECF6",
           "radialaxis": {
            "gridcolor": "white",
            "linecolor": "white",
            "ticks": ""
           }
          },
          "scene": {
           "xaxis": {
            "backgroundcolor": "#E5ECF6",
            "gridcolor": "white",
            "gridwidth": 2,
            "linecolor": "white",
            "showbackground": true,
            "ticks": "",
            "zerolinecolor": "white"
           },
           "yaxis": {
            "backgroundcolor": "#E5ECF6",
            "gridcolor": "white",
            "gridwidth": 2,
            "linecolor": "white",
            "showbackground": true,
            "ticks": "",
            "zerolinecolor": "white"
           },
           "zaxis": {
            "backgroundcolor": "#E5ECF6",
            "gridcolor": "white",
            "gridwidth": 2,
            "linecolor": "white",
            "showbackground": true,
            "ticks": "",
            "zerolinecolor": "white"
           }
          },
          "shapedefaults": {
           "line": {
            "color": "#2a3f5f"
           }
          },
          "ternary": {
           "aaxis": {
            "gridcolor": "white",
            "linecolor": "white",
            "ticks": ""
           },
           "baxis": {
            "gridcolor": "white",
            "linecolor": "white",
            "ticks": ""
           },
           "bgcolor": "#E5ECF6",
           "caxis": {
            "gridcolor": "white",
            "linecolor": "white",
            "ticks": ""
           }
          },
          "title": {
           "x": 0.05
          },
          "xaxis": {
           "automargin": true,
           "gridcolor": "white",
           "linecolor": "white",
           "ticks": "",
           "title": {
            "standoff": 15
           },
           "zerolinecolor": "white",
           "zerolinewidth": 2
          },
          "yaxis": {
           "automargin": true,
           "gridcolor": "white",
           "linecolor": "white",
           "ticks": "",
           "title": {
            "standoff": 15
           },
           "zerolinecolor": "white",
           "zerolinewidth": 2
          }
         }
        },
        "title": {
         "text": "schbsdhbh"
        },
        "xaxis": {
         "anchor": "y",
         "domain": [
          0,
          0.98
         ],
         "title": {
          "text": "Exited"
         }
        },
        "xaxis2": {
         "anchor": "y2",
         "domain": [
          0,
          0.98
         ],
         "matches": "x",
         "showticklabels": false
        },
        "yaxis": {
         "anchor": "x",
         "domain": [
          0,
          0.485
         ],
         "title": {
          "text": "Balance"
         }
        },
        "yaxis2": {
         "anchor": "x2",
         "domain": [
          0.515,
          1
         ],
         "matches": "y",
         "title": {
          "text": "Balance"
         }
        }
       }
      }
     },
     "metadata": {},
     "output_type": "display_data"
    }
   ],
   "source": [
    "exited_data = churn_data.groupby(['Exited', 'Geography', 'IsActiveMember'], as_index=False)['Balance'].sum()\n",
    "# exited_data.columns['Exited', 'CreditScore', 'Sum']\n",
    "exited_data\n",
    "\n",
    "fig = px.bar(\n",
    "   exited_data,\n",
    "   x = 'Exited',\n",
    "   y = 'Balance',\n",
    "   color = 'Geography', \n",
    "   barmode = 'group',\n",
    "   facet_row='IsActiveMember',\n",
    "   text_auto=True, \n",
    "   \n",
    "   \n",
    ")\n",
    "fig.update_layout(title=\"schbsdhbh\")\n",
    "fig\n"
   ]
  },
  {
   "cell_type": "markdown",
   "metadata": {},
   "source": [
    "### 9.4. Посмотрите на распределение возраста в разрезе признака оттока. В какой группе больше потенциальных выбросов? На какую возрастную категорию клиентов стоит обратить внимание банку?"
   ]
  },
  {
   "cell_type": "code",
   "execution_count": null,
   "metadata": {},
   "outputs": [
    {
     "data": {
      "application/vnd.plotly.v1+json": {
       "config": {
        "plotlyServerURL": "https://plot.ly"
       },
       "data": [
        {
         "alignmentgroup": "True",
         "hovertemplate": "Exited=exited<br>Age=%{x}<extra></extra>",
         "legendgroup": "exited",
         "marker": {
          "color": "#636efa"
         },
         "name": "exited",
         "notched": false,
         "offsetgroup": "exited",
         "orientation": "h",
         "showlegend": true,
         "type": "box",
         "x": [
          42,
          42,
          44,
          29,
          58,
          38,
          39,
          45,
          51,
          49,
          27,
          39,
          41,
          42,
          66,
          58,
          32,
          22,
          46,
          44,
          65,
          46,
          35,
          28,
          31,
          42,
          52,
          56,
          48,
          35,
          52,
          31,
          48,
          57,
          29,
          24,
          39,
          44,
          55,
          50,
          41,
          50,
          38,
          41,
          45,
          47,
          43,
          54,
          33,
          45,
          39,
          50,
          42,
          43,
          46,
          67,
          40,
          54,
          39,
          34,
          62,
          46,
          35,
          34,
          44,
          43,
          50,
          49,
          40,
          46,
          30,
          29,
          39,
          39,
          40,
          34,
          45,
          45,
          39,
          46,
          38,
          66,
          49,
          41,
          61,
          60,
          40,
          40,
          57,
          37,
          47,
          38,
          43,
          32,
          38,
          37,
          46,
          61,
          39,
          47,
          38,
          58,
          60,
          51,
          56,
          48,
          35,
          48,
          59,
          62,
          28,
          51,
          49,
          47,
          51,
          41,
          46,
          54,
          45,
          49,
          33,
          51,
          51,
          53,
          47,
          38,
          57,
          43,
          30,
          31,
          62,
          61,
          54,
          31,
          48,
          39,
          39,
          34,
          48,
          45,
          42,
          45,
          51,
          62,
          57,
          40,
          25,
          56,
          42,
          57,
          43,
          60,
          49,
          35,
          36,
          43,
          60,
          63,
          36,
          49,
          58,
          28,
          58,
          46,
          28,
          42,
          69,
          48,
          50,
          41,
          48,
          49,
          64,
          43,
          32,
          48,
          44,
          45,
          60,
          43,
          45,
          51,
          35,
          40,
          40,
          58,
          45,
          46,
          39,
          61,
          51,
          36,
          52,
          46,
          39,
          38,
          48,
          42,
          63,
          43,
          43,
          35,
          34,
          49,
          42,
          52,
          45,
          40,
          37,
          45,
          49,
          39,
          42,
          48,
          40,
          47,
          38,
          36,
          52,
          57,
          40,
          47,
          36,
          42,
          36,
          41,
          29,
          39,
          34,
          52,
          59,
          21,
          62,
          47,
          56,
          33,
          35,
          35,
          37,
          43,
          45,
          58,
          35,
          41,
          40,
          40,
          49,
          43,
          50,
          40,
          61,
          28,
          46,
          51,
          42,
          33,
          54,
          23,
          44,
          46,
          44,
          40,
          46,
          27,
          55,
          33,
          37,
          46,
          40,
          32,
          52,
          46,
          38,
          54,
          37,
          43,
          50,
          62,
          40,
          43,
          43,
          41,
          40,
          54,
          48,
          52,
          43,
          44,
          50,
          46,
          41,
          41,
          46,
          40,
          55,
          38,
          33,
          46,
          38,
          41,
          44,
          73,
          42,
          59,
          56,
          39,
          43,
          56,
          46,
          31,
          35,
          34,
          55,
          41,
          52,
          49,
          45,
          46,
          51,
          30,
          43,
          50,
          50,
          47,
          48,
          64,
          52,
          47,
          48,
          40,
          37,
          31,
          53,
          42,
          49,
          44,
          43,
          48,
          42,
          49,
          52,
          38,
          28,
          46,
          57,
          54,
          50,
          31,
          56,
          54,
          40,
          46,
          24,
          42,
          44,
          20,
          35,
          50,
          35,
          54,
          59,
          34,
          42,
          52,
          39,
          38,
          36,
          36,
          35,
          37,
          25,
          44,
          51,
          49,
          57,
          45,
          22,
          45,
          32,
          56,
          39,
          36,
          37,
          36,
          47,
          29,
          44,
          39,
          55,
          45,
          29,
          48,
          40,
          56,
          35,
          36,
          36,
          54,
          26,
          31,
          22,
          37,
          53,
          58,
          55,
          54,
          52,
          40,
          33,
          35,
          47,
          54,
          46,
          60,
          49,
          62,
          32,
          43,
          46,
          39,
          59,
          37,
          24,
          47,
          45,
          49,
          63,
          38,
          35,
          31,
          42,
          44,
          40,
          63,
          55,
          36,
          52,
          38,
          43,
          55,
          48,
          54,
          27,
          54,
          32,
          43,
          57,
          51,
          18,
          57,
          57,
          55,
          36,
          65,
          56,
          46,
          37,
          59,
          47,
          58,
          47,
          46,
          41,
          35,
          38,
          56,
          41,
          30,
          31,
          42,
          38,
          58,
          43,
          37,
          56,
          38,
          57,
          65,
          59,
          50,
          48,
          45,
          40,
          47,
          46,
          55,
          50,
          48,
          33,
          41,
          49,
          46,
          55,
          42,
          58,
          35,
          45,
          42,
          45,
          39,
          54,
          43,
          41,
          34,
          28,
          52,
          37,
          43,
          52,
          40,
          49,
          41,
          22,
          39,
          52,
          61,
          42,
          46,
          51,
          47,
          63,
          41,
          53,
          36,
          57,
          37,
          41,
          31,
          56,
          37,
          50,
          40,
          50,
          61,
          52,
          45,
          40,
          58,
          46,
          45,
          61,
          41,
          50,
          50,
          36,
          71,
          30,
          38,
          47,
          51,
          54,
          30,
          38,
          47,
          24,
          58,
          45,
          49,
          48,
          42,
          42,
          40,
          51,
          44,
          40,
          62,
          28,
          44,
          30,
          52,
          64,
          43,
          38,
          39,
          28,
          46,
          42,
          56,
          44,
          48,
          41,
          22,
          48,
          57,
          31,
          45,
          38,
          51,
          61,
          61,
          43,
          40,
          46,
          44,
          52,
          53,
          51,
          38,
          52,
          48,
          45,
          38,
          48,
          53,
          45,
          36,
          52,
          52,
          37,
          52,
          26,
          32,
          52,
          56,
          57,
          38,
          39,
          54,
          33,
          39,
          20,
          31,
          41,
          38,
          45,
          39,
          45,
          56,
          45,
          26,
          47,
          45,
          45,
          33,
          47,
          45,
          45,
          31,
          44,
          43,
          44,
          44,
          40,
          54,
          43,
          59,
          28,
          30,
          47,
          74,
          40,
          40,
          51,
          39,
          33,
          56,
          48,
          60,
          24,
          48,
          28,
          39,
          40,
          41,
          37,
          62,
          48,
          49,
          35,
          56,
          35,
          60,
          55,
          45,
          49,
          46,
          50,
          42,
          60,
          35,
          41,
          66,
          47,
          54,
          50,
          45,
          57,
          58,
          43,
          50,
          33,
          48,
          43,
          54,
          59,
          43,
          31,
          57,
          43,
          39,
          28,
          44,
          63,
          53,
          71,
          50,
          38,
          56,
          28,
          45,
          33,
          34,
          40,
          47,
          43,
          37,
          58,
          40,
          37,
          41,
          55,
          31,
          46,
          40,
          43,
          47,
          46,
          32,
          57,
          33,
          36,
          43,
          42,
          30,
          30,
          33,
          29,
          63,
          46,
          41,
          43,
          42,
          84,
          37,
          42,
          43,
          49,
          35,
          61,
          40,
          36,
          60,
          64,
          44,
          34,
          51,
          50,
          46,
          39,
          43,
          56,
          57,
          50,
          47,
          56,
          46,
          60,
          29,
          46,
          37,
          52,
          48,
          55,
          70,
          47,
          37,
          43,
          42,
          31,
          44,
          40,
          52,
          60,
          33,
          40,
          49,
          34,
          46,
          62,
          51,
          29,
          27,
          51,
          46,
          29,
          32,
          37,
          35,
          38,
          37,
          61,
          46,
          44,
          26,
          41,
          27,
          54,
          58,
          51,
          51,
          29,
          46,
          57,
          49,
          50,
          40,
          58,
          60,
          38,
          37,
          45,
          33,
          56,
          59,
          40,
          70,
          53,
          50,
          59,
          52,
          45,
          41,
          66,
          32,
          47,
          38,
          49,
          37,
          27,
          49,
          40,
          46,
          44,
          32,
          59,
          60,
          53,
          59,
          57,
          51,
          46,
          48,
          56,
          48,
          42,
          52,
          31,
          56,
          45,
          39,
          50,
          37,
          29,
          48,
          55,
          40,
          54,
          26,
          52,
          48,
          44,
          63,
          44,
          53,
          45,
          43,
          52,
          59,
          47,
          57,
          58,
          35,
          47,
          55,
          47,
          53,
          35,
          19,
          45,
          40,
          51,
          47,
          50,
          26,
          40,
          56,
          35,
          46,
          42,
          62,
          53,
          46,
          34,
          68,
          44,
          56,
          31,
          35,
          52,
          41,
          44,
          43,
          31,
          64,
          38,
          30,
          54,
          46,
          41,
          24,
          45,
          48,
          50,
          35,
          45,
          37,
          59,
          40,
          45,
          34,
          46,
          43,
          41,
          42,
          38,
          64,
          24,
          50,
          49,
          36,
          32,
          70,
          33,
          53,
          56,
          38,
          47,
          45,
          45,
          51,
          32,
          46,
          44,
          39,
          37,
          42,
          37,
          58,
          59,
          46,
          35,
          62,
          64,
          52,
          36,
          65,
          46,
          55,
          51,
          42,
          49,
          47,
          46,
          49,
          45,
          44,
          60,
          57,
          51,
          31,
          54,
          50,
          45,
          48,
          53,
          45,
          48,
          56,
          54,
          35,
          42,
          38,
          53,
          54,
          40,
          45,
          51,
          49,
          37,
          64,
          59,
          39,
          31,
          40,
          53,
          53,
          41,
          52,
          32,
          52,
          35,
          53,
          44,
          56,
          27,
          22,
          54,
          50,
          43,
          44,
          49,
          41,
          51,
          32,
          59,
          48,
          37,
          60,
          51,
          36,
          33,
          26,
          40,
          24,
          37,
          43,
          47,
          41,
          40,
          55,
          38,
          23,
          47,
          62,
          52,
          43,
          43,
          57,
          46,
          49,
          47,
          40,
          51,
          53,
          68,
          44,
          37,
          38,
          34,
          61,
          46,
          45,
          41,
          49,
          43,
          42,
          39,
          55,
          45,
          58,
          51,
          60,
          49,
          54,
          38,
          55,
          51,
          47,
          31,
          29,
          27,
          31,
          39,
          30,
          22,
          55,
          57,
          24,
          37,
          38,
          46,
          49,
          41,
          68,
          40,
          37,
          44,
          63,
          48,
          44,
          34,
          40,
          47,
          31,
          28,
          53,
          56,
          44,
          51,
          51,
          49,
          42,
          45,
          43,
          59,
          46,
          55,
          57,
          34,
          55,
          32,
          41,
          57,
          35,
          47,
          42,
          51,
          62,
          52,
          41,
          33,
          36,
          48,
          54,
          38,
          44,
          44,
          48,
          56,
          44,
          43,
          43,
          44,
          45,
          45,
          39,
          47,
          44,
          45,
          36,
          48,
          40,
          48,
          65,
          43,
          32,
          43,
          35,
          38,
          34,
          36,
          56,
          35,
          38,
          65,
          37,
          50,
          35,
          50,
          52,
          43,
          44,
          24,
          36,
          42,
          35,
          63,
          41,
          52,
          71,
          60,
          42,
          30,
          61,
          47,
          46,
          41,
          49,
          45,
          35,
          49,
          38,
          45,
          22,
          61,
          37,
          44,
          39,
          40,
          42,
          55,
          42,
          45,
          50,
          35,
          60,
          47,
          51,
          36,
          62,
          27,
          49,
          32,
          51,
          49,
          45,
          40,
          46,
          56,
          30,
          53,
          33,
          40,
          55,
          33,
          54,
          29,
          45,
          46,
          47,
          44,
          48,
          53,
          43,
          46,
          41,
          22,
          41,
          53,
          44,
          57,
          29,
          39,
          48,
          42,
          49,
          38,
          35,
          53,
          37,
          30,
          45,
          48,
          35,
          33,
          50,
          44,
          47,
          56,
          39,
          47,
          37,
          42,
          52,
          38,
          45,
          27,
          47,
          52,
          32,
          50,
          26,
          44,
          44,
          60,
          51,
          47,
          41,
          26,
          41,
          43,
          37,
          48,
          37,
          47,
          54,
          29,
          40,
          45,
          46,
          48,
          47,
          40,
          34,
          55,
          37,
          44,
          48,
          49,
          46,
          43,
          52,
          54,
          55,
          33,
          63,
          50,
          52,
          49,
          52,
          41,
          67,
          57,
          28,
          59,
          55,
          50,
          42,
          45,
          48,
          52,
          64,
          46,
          33,
          37,
          35,
          40,
          44,
          48,
          55,
          49,
          30,
          53,
          43,
          39,
          37,
          47,
          45,
          33,
          32,
          31,
          34,
          41,
          49,
          39,
          44,
          50,
          48,
          56,
          42,
          46,
          50,
          49,
          50,
          35,
          34,
          45,
          39,
          50,
          51,
          48,
          44,
          47,
          54,
          38,
          46,
          55,
          71,
          40,
          22,
          49,
          36,
          51,
          50,
          41,
          42,
          31,
          56,
          57,
          37,
          49,
          45,
          39,
          66,
          46,
          58,
          41,
          50,
          36,
          50,
          55,
          37,
          57,
          51,
          42,
          53,
          39,
          33,
          48,
          48,
          38,
          55,
          50,
          38,
          43,
          44,
          63,
          50,
          56,
          39,
          24,
          49,
          52,
          37,
          41,
          52,
          45,
          48,
          30,
          48,
          57,
          35,
          39,
          48,
          56,
          49,
          48,
          66,
          54,
          48,
          36,
          48,
          39,
          33,
          42,
          55,
          52,
          39,
          44,
          29,
          39,
          47,
          27,
          44,
          65,
          25,
          50,
          54,
          51,
          53,
          48,
          53,
          46,
          39,
          43,
          71,
          54,
          51,
          56,
          54,
          53,
          41,
          38,
          38,
          51,
          42,
          49,
          31,
          48,
          49,
          66,
          63,
          55,
          46,
          45,
          55,
          59,
          28,
          42,
          30,
          47,
          25,
          55,
          41,
          54,
          31,
          24,
          47,
          62,
          45,
          44,
          40,
          57,
          55,
          32,
          47,
          58,
          60,
          34,
          59,
          44,
          33,
          53,
          41,
          36,
          54,
          59,
          32,
          39,
          42,
          56,
          34,
          54,
          42,
          54,
          21,
          49,
          36,
          36,
          38,
          25,
          39,
          45,
          56,
          47,
          40,
          35,
          56,
          38,
          33,
          48,
          37,
          50,
          57,
          45,
          36,
          35,
          33,
          43,
          37,
          50,
          56,
          44,
          56,
          28,
          71,
          32,
          32,
          44,
          44,
          64,
          58,
          41,
          51,
          42,
          44,
          30,
          49,
          36,
          38,
          52,
          36,
          44,
          32,
          52,
          34,
          40,
          42,
          60,
          45,
          28,
          60,
          68,
          47,
          59,
          30,
          53,
          44,
          50,
          39,
          31,
          33,
          61,
          45,
          47,
          39,
          60,
          29,
          29,
          46,
          62,
          60,
          44,
          35,
          42,
          58,
          41,
          30,
          51,
          35,
          38,
          42,
          55,
          34,
          44,
          49,
          50,
          67,
          43,
          52,
          54,
          55,
          43,
          63,
          50,
          23,
          51,
          46,
          56,
          48,
          46,
          36,
          68,
          47,
          45,
          45,
          41,
          38,
          45,
          36,
          67,
          54,
          61,
          56,
          54,
          30,
          36,
          42,
          42,
          39,
          52,
          56,
          51,
          49,
          50,
          21,
          28,
          57,
          41,
          51,
          23,
          31,
          39,
          38,
          50,
          37,
          23,
          31,
          56,
          47,
          33,
          39,
          46,
          49,
          48,
          51,
          58,
          36,
          39,
          36,
          52,
          68,
          43,
          51,
          60,
          43,
          34,
          31,
          53,
          33,
          39,
          35,
          33,
          39,
          25,
          42,
          48,
          61,
          44,
          50,
          39,
          36,
          47,
          32,
          61,
          42,
          59,
          57,
          43,
          47,
          50,
          50,
          36,
          40,
          53,
          51,
          50,
          58,
          58,
          33,
          42,
          37,
          33,
          49,
          43,
          28,
          36,
          39,
          49,
          32,
          40,
          22,
          57,
          45,
          34,
          37,
          29,
          55,
          39,
          37,
          55,
          53,
          48,
          32,
          60,
          48,
          29,
          45,
          58,
          36,
          22,
          52,
          44,
          26,
          40,
          47,
          41,
          43,
          48,
          49,
          46,
          41,
          28,
          49,
          40,
          51,
          58,
          42,
          60,
          40,
          70,
          48,
          46,
          42,
          42,
          40,
          50,
          54,
          30,
          35,
          43,
          30,
          47,
          24,
          63,
          45,
          40,
          39,
          65,
          45,
          41,
          23,
          53,
          43,
          59,
          43,
          40,
          29,
          46,
          47,
          48,
          43,
          44,
          35,
          56,
          67,
          35,
          42,
          49,
          40,
          50,
          55,
          35,
          37,
          51,
          43,
          42,
          47,
          49,
          44,
          52,
          37,
          63,
          60,
          61,
          62,
          39,
          34,
          41,
          29,
          38,
          52,
          60,
          36,
          43,
          49,
          39,
          46,
          33,
          50,
          43,
          59,
          38,
          42,
          46,
          47,
          49,
          38,
          37,
          49,
          51,
          40,
          48,
          36,
          52,
          55,
          55,
          26,
          43,
          54,
          48,
          47,
          42,
          54,
          50,
          26,
          52,
          42,
          40,
          59,
          47,
          51,
          49,
          41,
          50,
          47,
          27,
          47,
          55,
          46,
          33,
          64,
          32,
          60,
          40,
          52,
          47,
          36,
          38,
          34,
          52,
          40,
          34,
          51,
          39,
          43,
          40,
          49,
          59,
          36,
          46,
          63,
          35,
          43,
          29,
          26,
          51,
          52,
          52,
          36,
          39,
          37,
          48,
          60,
          37,
          49,
          49,
          40,
          41,
          38,
          54,
          29,
          26,
          50,
          51,
          49,
          42,
          61,
          50,
          35,
          62,
          47,
          42,
          46,
          43,
          40,
          43,
          48,
          47,
          57,
          43,
          46,
          36,
          40,
          53,
          53,
          63,
          27,
          54,
          28,
          41,
          29,
          52,
          45,
          41,
          53,
          40,
          33,
          48,
          43,
          48,
          46,
          40,
          45,
          42,
          29,
          46,
          29,
          72,
          34,
          46,
          41,
          38,
          37,
          41,
          18,
          52,
          41,
          55,
          59,
          33,
          47,
          40,
          44,
          49,
          40,
          50,
          71,
          40,
          33,
          34,
          51,
          51,
          39,
          62,
          47,
          36,
          45,
          43,
          32,
          37,
          46,
          69,
          24,
          51,
          43,
          54,
          49,
          48,
          39,
          35,
          46,
          35,
          39,
          51,
          28,
          48,
          64,
          46,
          39,
          43,
          32,
          40,
          55,
          43,
          33,
          62,
          50,
          48,
          56,
          38,
          41,
          55,
          53,
          49,
          50,
          43,
          34,
          46,
          33,
          44,
          50,
          42,
          46,
          53,
          36,
          42
         ],
         "x0": " ",
         "xaxis": "x",
         "y0": " ",
         "yaxis": "y"
        },
        {
         "alignmentgroup": "True",
         "hovertemplate": "Exited=loyal<br>Age=%{x}<extra></extra>",
         "legendgroup": "loyal",
         "marker": {
          "color": "#EF553B"
         },
         "name": "loyal",
         "notched": false,
         "offsetgroup": "loyal",
         "orientation": "h",
         "showlegend": true,
         "type": "box",
         "x": [
          41,
          39,
          43,
          50,
          44,
          27,
          31,
          24,
          34,
          25,
          35,
          45,
          24,
          45,
          24,
          41,
          32,
          46,
          38,
          25,
          36,
          44,
          43,
          29,
          36,
          41,
          42,
          29,
          31,
          33,
          36,
          41,
          40,
          61,
          61,
          32,
          38,
          37,
          44,
          36,
          33,
          43,
          45,
          19,
          51,
          35,
          27,
          33,
          56,
          26,
          36,
          34,
          43,
          35,
          21,
          29,
          37,
          25,
          36,
          21,
          55,
          32,
          33,
          41,
          34,
          36,
          34,
          46,
          75,
          30,
          28,
          45,
          36,
          29,
          42,
          35,
          41,
          29,
          22,
          34,
          40,
          44,
          31,
          36,
          32,
          36,
          33,
          30,
          39,
          42,
          36,
          30,
          37,
          41,
          34,
          34,
          39,
          39,
          48,
          28,
          41,
          24,
          34,
          33,
          38,
          25,
          39,
          50,
          34,
          40,
          44,
          34,
          43,
          21,
          29,
          37,
          44,
          32,
          32,
          42,
          37,
          43,
          33,
          28,
          73,
          33,
          22,
          30,
          49,
          36,
          31,
          41,
          24,
          29,
          27,
          30,
          40,
          35,
          30,
          36,
          40,
          45,
          65,
          45,
          42,
          32,
          39,
          37,
          30,
          34,
          36,
          40,
          32,
          29,
          35,
          32,
          37,
          57,
          35,
          30,
          42,
          33,
          37,
          34,
          45,
          33,
          31,
          41,
          34,
          26,
          46,
          33,
          31,
          30,
          42,
          37,
          30,
          29,
          72,
          40,
          37,
          20,
          67,
          29,
          28,
          38,
          39,
          37,
          34,
          26,
          26,
          24,
          36,
          34,
          79,
          37,
          28,
          41,
          34,
          34,
          30,
          38,
          42,
          48,
          32,
          26,
          31,
          36,
          34,
          36,
          35,
          41,
          34,
          30,
          28,
          37,
          53,
          35,
          39,
          29,
          42,
          22,
          40,
          29,
          32,
          26,
          34,
          42,
          41,
          27,
          38,
          25,
          31,
          58,
          33,
          31,
          36,
          35,
          33,
          33,
          31,
          35,
          31,
          80,
          30,
          38,
          59,
          36,
          37,
          42,
          22,
          24,
          57,
          30,
          31,
          30,
          35,
          35,
          35,
          26,
          50,
          40,
          44,
          37,
          32,
          33,
          31,
          47,
          22,
          25,
          43,
          34,
          59,
          32,
          39,
          32,
          39,
          32,
          25,
          45,
          30,
          57,
          41,
          58,
          28,
          50,
          29,
          68,
          33,
          42,
          35,
          34,
          29,
          42,
          75,
          31,
          31,
          35,
          39,
          35,
          30,
          50,
          36,
          30,
          28,
          44,
          66,
          46,
          62,
          45,
          21,
          29,
          38,
          24,
          37,
          33,
          32,
          39,
          52,
          38,
          52,
          36,
          23,
          36,
          37,
          37,
          41,
          23,
          38,
          31,
          35,
          26,
          39,
          46,
          28,
          38,
          35,
          39,
          26,
          39,
          45,
          40,
          41,
          33,
          33,
          51,
          30,
          35,
          38,
          42,
          35,
          31,
          34,
          46,
          26,
          37,
          40,
          47,
          38,
          40,
          31,
          44,
          39,
          36,
          33,
          38,
          37,
          29,
          39,
          25,
          26,
          33,
          32,
          35,
          35,
          27,
          26,
          28,
          33,
          31,
          40,
          38,
          29,
          34,
          23,
          37,
          37,
          35,
          37,
          30,
          55,
          29,
          41,
          38,
          36,
          32,
          40,
          26,
          32,
          54,
          44,
          41,
          31,
          30,
          40,
          22,
          37,
          31,
          38,
          34,
          34,
          38,
          37,
          58,
          56,
          37,
          32,
          48,
          31,
          43,
          26,
          30,
          57,
          26,
          32,
          35,
          40,
          35,
          34,
          37,
          26,
          42,
          44,
          38,
          30,
          49,
          24,
          36,
          25,
          34,
          33,
          40,
          53,
          70,
          29,
          61,
          36,
          38,
          36,
          63,
          31,
          31,
          44,
          35,
          40,
          27,
          32,
          30,
          41,
          39,
          36,
          57,
          30,
          44,
          36,
          38,
          34,
          32,
          26,
          41,
          43,
          39,
          34,
          26,
          72,
          37,
          29,
          53,
          28,
          35,
          51,
          30,
          27,
          64,
          38,
          26,
          39,
          42,
          37,
          35,
          40,
          53,
          36,
          48,
          35,
          29,
          49,
          47,
          28,
          33,
          44,
          51,
          33,
          48,
          43,
          36,
          29,
          27,
          30,
          38,
          36,
          38,
          49,
          52,
          42,
          31,
          25,
          25,
          54,
          64,
          30,
          41,
          57,
          31,
          46,
          41,
          33,
          31,
          29,
          46,
          42,
          48,
          42,
          26,
          32,
          35,
          39,
          38,
          70,
          38,
          55,
          58,
          41,
          40,
          24,
          31,
          36,
          27,
          43,
          36,
          34,
          45,
          57,
          36,
          33,
          32,
          30,
          49,
          36,
          36,
          35,
          42,
          35,
          34,
          48,
          35,
          38,
          41,
          34,
          37,
          42,
          45,
          43,
          23,
          38,
          36,
          42,
          37,
          25,
          40,
          24,
          25,
          31,
          47,
          67,
          36,
          46,
          28,
          24,
          24,
          29,
          60,
          40,
          18,
          46,
          38,
          46,
          41,
          47,
          35,
          37,
          39,
          31,
          36,
          28,
          37,
          58,
          43,
          21,
          27,
          82,
          41,
          31,
          32,
          36,
          33,
          28,
          35,
          27,
          28,
          41,
          35,
          36,
          26,
          42,
          35,
          48,
          36,
          49,
          48,
          34,
          29,
          36,
          46,
          32,
          35,
          42,
          52,
          44,
          31,
          29,
          39,
          33,
          69,
          53,
          37,
          35,
          65,
          33,
          26,
          25,
          29,
          27,
          43,
          36,
          36,
          34,
          36,
          33,
          47,
          56,
          31,
          39,
          34,
          41,
          29,
          37,
          30,
          34,
          37,
          56,
          36,
          31,
          35,
          44,
          49,
          21,
          42,
          51,
          25,
          46,
          41,
          43,
          57,
          32,
          39,
          32,
          41,
          53,
          38,
          25,
          38,
          36,
          40,
          35,
          28,
          38,
          39,
          32,
          42,
          33,
          45,
          36,
          65,
          25,
          38,
          42,
          74,
          43,
          37,
          32,
          42,
          32,
          35,
          40,
          25,
          36,
          48,
          28,
          33,
          31,
          25,
          36,
          53,
          32,
          27,
          35,
          47,
          45,
          35,
          45,
          44,
          19,
          34,
          36,
          35,
          38,
          61,
          24,
          39,
          41,
          42,
          37,
          38,
          44,
          37,
          37,
          35,
          31,
          29,
          36,
          25,
          67,
          48,
          33,
          66,
          39,
          44,
          43,
          67,
          27,
          37,
          31,
          35,
          32,
          42,
          34,
          34,
          37,
          70,
          48,
          25,
          43,
          38,
          34,
          36,
          38,
          48,
          46,
          27,
          44,
          32,
          25,
          31,
          36,
          31,
          37,
          35,
          42,
          28,
          43,
          29,
          44,
          62,
          28,
          38,
          42,
          43,
          39,
          26,
          33,
          42,
          71,
          35,
          29,
          24,
          43,
          40,
          41,
          31,
          32,
          48,
          32,
          25,
          32,
          33,
          35,
          34,
          53,
          39,
          22,
          40,
          29,
          46,
          30,
          30,
          24,
          30,
          72,
          67,
          30,
          35,
          38,
          34,
          25,
          30,
          49,
          38,
          50,
          22,
          74,
          33,
          33,
          38,
          48,
          38,
          34,
          20,
          26,
          52,
          23,
          37,
          31,
          32,
          39,
          29,
          41,
          32,
          38,
          35,
          32,
          24,
          31,
          22,
          51,
          34,
          36,
          40,
          34,
          36,
          26,
          38,
          39,
          29,
          38,
          32,
          28,
          46,
          38,
          38,
          31,
          42,
          48,
          42,
          61,
          29,
          31,
          24,
          58,
          33,
          45,
          32,
          34,
          37,
          37,
          34,
          27,
          31,
          22,
          42,
          42,
          57,
          40,
          41,
          43,
          28,
          30,
          29,
          34,
          38,
          27,
          29,
          45,
          39,
          34,
          49,
          54,
          37,
          30,
          32,
          36,
          49,
          28,
          35,
          27,
          38,
          26,
          43,
          36,
          39,
          34,
          21,
          31,
          34,
          24,
          36,
          47,
          37,
          35,
          30,
          29,
          27,
          24,
          43,
          28,
          34,
          38,
          41,
          30,
          22,
          35,
          40,
          76,
          32,
          30,
          47,
          32,
          32,
          22,
          33,
          29,
          33,
          37,
          46,
          47,
          47,
          53,
          42,
          28,
          38,
          31,
          36,
          30,
          39,
          66,
          63,
          33,
          42,
          24,
          28,
          36,
          21,
          30,
          25,
          38,
          66,
          24,
          28,
          26,
          32,
          68,
          55,
          46,
          42,
          38,
          33,
          36,
          38,
          40,
          42,
          31,
          36,
          38,
          44,
          38,
          30,
          42,
          39,
          32,
          32,
          42,
          67,
          39,
          25,
          35,
          45,
          59,
          63,
          37,
          39,
          39,
          31,
          37,
          41,
          30,
          30,
          33,
          55,
          34,
          30,
          42,
          37,
          34,
          31,
          31,
          49,
          33,
          30,
          27,
          37,
          38,
          27,
          31,
          41,
          47,
          40,
          44,
          26,
          46,
          38,
          20,
          46,
          37,
          38,
          38,
          28,
          38,
          30,
          52,
          46,
          71,
          42,
          26,
          30,
          37,
          32,
          43,
          41,
          29,
          39,
          49,
          43,
          43,
          37,
          22,
          32,
          41,
          30,
          39,
          37,
          31,
          26,
          43,
          38,
          44,
          27,
          44,
          35,
          32,
          26,
          42,
          23,
          35,
          42,
          66,
          27,
          45,
          32,
          29,
          46,
          29,
          27,
          43,
          29,
          27,
          23,
          69,
          32,
          40,
          30,
          29,
          30,
          30,
          28,
          33,
          24,
          40,
          44,
          45,
          32,
          41,
          30,
          42,
          39,
          57,
          26,
          29,
          48,
          44,
          62,
          41,
          44,
          28,
          31,
          65,
          44,
          43,
          38,
          24,
          33,
          26,
          38,
          53,
          35,
          28,
          66,
          25,
          23,
          34,
          37,
          40,
          32,
          29,
          35,
          31,
          48,
          26,
          36,
          30,
          26,
          26,
          37,
          32,
          30,
          38,
          26,
          36,
          29,
          39,
          39,
          31,
          30,
          52,
          57,
          38,
          35,
          25,
          28,
          31,
          39,
          32,
          27,
          43,
          36,
          37,
          33,
          37,
          39,
          42,
          38,
          39,
          37,
          54,
          36,
          29,
          35,
          41,
          51,
          41,
          34,
          35,
          32,
          23,
          26,
          28,
          32,
          37,
          33,
          34,
          28,
          36,
          38,
          23,
          37,
          33,
          69,
          43,
          42,
          48,
          30,
          25,
          54,
          52,
          34,
          38,
          34,
          29,
          35,
          42,
          43,
          42,
          40,
          42,
          38,
          37,
          40,
          23,
          35,
          23,
          23,
          40,
          21,
          28,
          41,
          35,
          34,
          38,
          42,
          33,
          33,
          37,
          61,
          36,
          39,
          39,
          29,
          36,
          28,
          38,
          27,
          32,
          42,
          28,
          49,
          36,
          31,
          31,
          40,
          64,
          39,
          35,
          24,
          29,
          77,
          21,
          49,
          40,
          27,
          18,
          43,
          25,
          38,
          25,
          44,
          32,
          30,
          30,
          35,
          23,
          33,
          37,
          31,
          39,
          32,
          47,
          53,
          62,
          34,
          37,
          41,
          45,
          40,
          41,
          34,
          59,
          32,
          47,
          31,
          44,
          31,
          37,
          32,
          40,
          52,
          42,
          46,
          24,
          37,
          41,
          37,
          26,
          33,
          40,
          18,
          42,
          39,
          32,
          41,
          52,
          24,
          36,
          37,
          41,
          36,
          31,
          23,
          34,
          37,
          34,
          44,
          30,
          51,
          31,
          30,
          22,
          42,
          29,
          35,
          38,
          40,
          49,
          30,
          28,
          30,
          47,
          44,
          45,
          43,
          33,
          32,
          57,
          33,
          39,
          30,
          42,
          29,
          37,
          38,
          36,
          40,
          33,
          20,
          44,
          49,
          32,
          21,
          30,
          29,
          39,
          41,
          23,
          42,
          25,
          40,
          39,
          30,
          34,
          33,
          29,
          41,
          23,
          33,
          37,
          30,
          35,
          34,
          38,
          40,
          43,
          34,
          48,
          28,
          39,
          37,
          27,
          34,
          28,
          38,
          38,
          34,
          41,
          36,
          33,
          36,
          38,
          36,
          40,
          43,
          37,
          74,
          35,
          41,
          36,
          38,
          35,
          37,
          39,
          59,
          30,
          24,
          26,
          33,
          31,
          38,
          41,
          50,
          65,
          26,
          33,
          38,
          31,
          32,
          29,
          36,
          32,
          45,
          23,
          35,
          31,
          37,
          25,
          31,
          37,
          36,
          22,
          46,
          38,
          31,
          54,
          34,
          34,
          35,
          36,
          48,
          30,
          35,
          29,
          33,
          52,
          38,
          41,
          29,
          61,
          34,
          28,
          38,
          25,
          45,
          32,
          70,
          33,
          36,
          33,
          33,
          36,
          50,
          39,
          35,
          31,
          35,
          31,
          36,
          36,
          30,
          24,
          35,
          32,
          39,
          34,
          60,
          23,
          33,
          37,
          31,
          34,
          49,
          29,
          38,
          37,
          30,
          33,
          67,
          33,
          36,
          69,
          20,
          29,
          67,
          48,
          32,
          42,
          41,
          30,
          31,
          25,
          28,
          31,
          44,
          24,
          31,
          36,
          40,
          23,
          56,
          74,
          30,
          39,
          33,
          30,
          38,
          37,
          44,
          45,
          39,
          39,
          34,
          52,
          35,
          43,
          27,
          21,
          51,
          42,
          33,
          36,
          24,
          34,
          48,
          25,
          39,
          36,
          41,
          26,
          30,
          41,
          33,
          35,
          38,
          37,
          33,
          30,
          69,
          28,
          40,
          45,
          41,
          28,
          41,
          36,
          29,
          44,
          34,
          43,
          43,
          58,
          27,
          74,
          41,
          29,
          39,
          43,
          48,
          32,
          74,
          35,
          32,
          40,
          28,
          37,
          27,
          30,
          30,
          18,
          24,
          41,
          45,
          23,
          39,
          33,
          28,
          51,
          41,
          34,
          44,
          34,
          64,
          38,
          39,
          27,
          34,
          45,
          31,
          34,
          37,
          35,
          37,
          26,
          41,
          38,
          32,
          47,
          50,
          38,
          38,
          29,
          44,
          33,
          37,
          31,
          28,
          36,
          36,
          48,
          45,
          34,
          45,
          32,
          39,
          24,
          28,
          32,
          41,
          33,
          39,
          37,
          55,
          70,
          40,
          38,
          37,
          57,
          40,
          49,
          33,
          61,
          42,
          31,
          42,
          74,
          41,
          25,
          28,
          35,
          33,
          44,
          31,
          29,
          30,
          32,
          25,
          45,
          40,
          34,
          37,
          34,
          45,
          38,
          32,
          44,
          18,
          38,
          45,
          41,
          35,
          38,
          34,
          33,
          49,
          33,
          26,
          38,
          35,
          42,
          44,
          40,
          72,
          28,
          32,
          34,
          35,
          77,
          33,
          40,
          33,
          43,
          40,
          58,
          35,
          46,
          26,
          34,
          35,
          24,
          43,
          40,
          42,
          38,
          38,
          40,
          40,
          34,
          32,
          35,
          33,
          37,
          34,
          35,
          48,
          29,
          37,
          35,
          28,
          30,
          31,
          38,
          34,
          33,
          33,
          34,
          40,
          37,
          26,
          36,
          47,
          35,
          31,
          34,
          49,
          43,
          34,
          55,
          38,
          46,
          58,
          37,
          44,
          30,
          35,
          36,
          38,
          28,
          33,
          30,
          66,
          39,
          41,
          37,
          35,
          20,
          25,
          33,
          41,
          36,
          43,
          33,
          35,
          36,
          41,
          55,
          61,
          49,
          29,
          35,
          39,
          33,
          25,
          27,
          48,
          43,
          33,
          34,
          36,
          40,
          37,
          45,
          39,
          44,
          26,
          30,
          50,
          27,
          27,
          33,
          40,
          61,
          25,
          45,
          61,
          49,
          45,
          35,
          29,
          34,
          57,
          33,
          32,
          19,
          40,
          28,
          37,
          36,
          33,
          37,
          38,
          45,
          41,
          51,
          29,
          29,
          35,
          30,
          29,
          35,
          39,
          28,
          29,
          36,
          37,
          35,
          37,
          26,
          25,
          44,
          38,
          38,
          45,
          26,
          35,
          37,
          38,
          43,
          32,
          41,
          43,
          33,
          31,
          32,
          34,
          48,
          35,
          22,
          31,
          29,
          39,
          31,
          50,
          38,
          26,
          34,
          30,
          42,
          40,
          27,
          46,
          39,
          35,
          32,
          31,
          51,
          43,
          27,
          34,
          42,
          51,
          34,
          30,
          31,
          26,
          35,
          32,
          55,
          37,
          33,
          31,
          38,
          25,
          32,
          46,
          33,
          57,
          46,
          25,
          29,
          29,
          31,
          39,
          41,
          40,
          31,
          74,
          42,
          37,
          41,
          59,
          29,
          34,
          57,
          29,
          34,
          51,
          26,
          28,
          46,
          24,
          29,
          59,
          25,
          38,
          88,
          40,
          32,
          40,
          32,
          32,
          27,
          38,
          31,
          49,
          38,
          32,
          38,
          41,
          40,
          37,
          57,
          40,
          37,
          39,
          38,
          36,
          32,
          21,
          28,
          35,
          26,
          23,
          46,
          45,
          20,
          37,
          38,
          38,
          32,
          32,
          45,
          37,
          44,
          33,
          46,
          52,
          34,
          51,
          39,
          26,
          36,
          36,
          62,
          25,
          35,
          24,
          34,
          29,
          42,
          26,
          29,
          47,
          60,
          61,
          35,
          33,
          38,
          24,
          34,
          43,
          59,
          42,
          53,
          46,
          30,
          38,
          41,
          26,
          30,
          40,
          34,
          58,
          27,
          50,
          29,
          42,
          40,
          31,
          44,
          58,
          40,
          36,
          29,
          32,
          31,
          46,
          31,
          40,
          28,
          50,
          33,
          32,
          44,
          22,
          38,
          40,
          53,
          29,
          28,
          40,
          48,
          62,
          41,
          28,
          34,
          25,
          34,
          32,
          31,
          32,
          46,
          38,
          42,
          34,
          26,
          63,
          35,
          30,
          35,
          36,
          27,
          28,
          29,
          29,
          29,
          25,
          36,
          35,
          48,
          41,
          27,
          30,
          29,
          43,
          31,
          28,
          22,
          27,
          27,
          23,
          39,
          21,
          37,
          33,
          40,
          38,
          26,
          53,
          34,
          29,
          44,
          32,
          29,
          37,
          35,
          19,
          35,
          34,
          50,
          25,
          38,
          38,
          38,
          35,
          39,
          36,
          27,
          23,
          28,
          60,
          42,
          44,
          32,
          42,
          37,
          31,
          34,
          29,
          40,
          48,
          29,
          31,
          31,
          30,
          27,
          34,
          22,
          38,
          21,
          37,
          37,
          28,
          32,
          67,
          55,
          38,
          45,
          70,
          39,
          32,
          41,
          38,
          58,
          37,
          57,
          46,
          23,
          30,
          33,
          32,
          37,
          30,
          36,
          31,
          45,
          34,
          38,
          41,
          38,
          52,
          36,
          35,
          25,
          42,
          28,
          42,
          31,
          29,
          36,
          37,
          68,
          50,
          28,
          47,
          38,
          36,
          30,
          27,
          26,
          32,
          28,
          72,
          29,
          28,
          39,
          71,
          38,
          40,
          24,
          33,
          37,
          39,
          39,
          66,
          45,
          23,
          25,
          39,
          27,
          28,
          43,
          51,
          29,
          43,
          44,
          33,
          42,
          32,
          30,
          34,
          28,
          40,
          37,
          25,
          30,
          37,
          34,
          31,
          33,
          34,
          59,
          32,
          40,
          43,
          36,
          33,
          43,
          53,
          32,
          20,
          40,
          30,
          35,
          60,
          49,
          36,
          32,
          40,
          38,
          38,
          35,
          39,
          41,
          41,
          39,
          40,
          33,
          75,
          51,
          25,
          32,
          45,
          25,
          33,
          43,
          37,
          21,
          26,
          27,
          22,
          55,
          38,
          36,
          32,
          33,
          35,
          67,
          36,
          35,
          37,
          38,
          29,
          42,
          37,
          26,
          37,
          31,
          34,
          30,
          44,
          50,
          31,
          47,
          33,
          29,
          35,
          73,
          33,
          47,
          35,
          32,
          41,
          22,
          69,
          38,
          33,
          52,
          40,
          28,
          42,
          33,
          46,
          34,
          41,
          29,
          76,
          63,
          32,
          32,
          42,
          37,
          46,
          35,
          44,
          28,
          27,
          28,
          26,
          42,
          41,
          32,
          42,
          36,
          29,
          39,
          37,
          51,
          43,
          33,
          46,
          30,
          29,
          25,
          29,
          31,
          51,
          46,
          36,
          36,
          34,
          30,
          42,
          59,
          37,
          39,
          35,
          40,
          41,
          39,
          43,
          35,
          35,
          30,
          42,
          19,
          49,
          51,
          59,
          39,
          29,
          45,
          26,
          47,
          33,
          40,
          43,
          32,
          55,
          47,
          39,
          62,
          31,
          30,
          41,
          27,
          43,
          43,
          32,
          29,
          27,
          29,
          38,
          36,
          27,
          39,
          41,
          39,
          40,
          42,
          48,
          39,
          20,
          22,
          85,
          36,
          43,
          21,
          47,
          26,
          38,
          34,
          29,
          38,
          29,
          27,
          48,
          37,
          32,
          53,
          35,
          34,
          67,
          44,
          58,
          33,
          58,
          33,
          43,
          33,
          40,
          32,
          35,
          42,
          28,
          31,
          31,
          32,
          32,
          30,
          32,
          35,
          43,
          33,
          36,
          34,
          28,
          29,
          30,
          22,
          36,
          25,
          40,
          37,
          31,
          41,
          25,
          19,
          30,
          24,
          60,
          35,
          32,
          29,
          47,
          31,
          45,
          28,
          42,
          32,
          21,
          39,
          43,
          33,
          23,
          27,
          29,
          30,
          26,
          43,
          34,
          37,
          39,
          39,
          27,
          34,
          37,
          44,
          40,
          30,
          76,
          41,
          55,
          44,
          34,
          35,
          39,
          29,
          51,
          32,
          34,
          31,
          23,
          28,
          34,
          34,
          38,
          39,
          40,
          32,
          27,
          43,
          29,
          27,
          39,
          34,
          37,
          43,
          43,
          36,
          45,
          32,
          42,
          28,
          32,
          66,
          26,
          29,
          36,
          36,
          23,
          24,
          20,
          33,
          69,
          56,
          36,
          26,
          53,
          27,
          46,
          33,
          32,
          31,
          56,
          36,
          37,
          30,
          24,
          30,
          39,
          32,
          35,
          26,
          29,
          33,
          36,
          34,
          36,
          34,
          32,
          38,
          19,
          31,
          36,
          24,
          32,
          25,
          35,
          37,
          31,
          38,
          29,
          38,
          58,
          36,
          31,
          51,
          35,
          33,
          30,
          40,
          33,
          33,
          32,
          25,
          54,
          41,
          44,
          37,
          32,
          39,
          48,
          48,
          31,
          37,
          30,
          23,
          30,
          28,
          41,
          39,
          19,
          26,
          41,
          25,
          34,
          34,
          35,
          35,
          62,
          40,
          38,
          62,
          28,
          50,
          72,
          31,
          54,
          25,
          40,
          35,
          24,
          30,
          41,
          31,
          47,
          32,
          40,
          43,
          18,
          34,
          31,
          41,
          27,
          31,
          36,
          24,
          29,
          29,
          53,
          37,
          33,
          31,
          63,
          45,
          40,
          35,
          34,
          40,
          31,
          36,
          24,
          41,
          29,
          60,
          38,
          48,
          33,
          38,
          47,
          74,
          67,
          33,
          37,
          55,
          72,
          45,
          26,
          49,
          72,
          39,
          66,
          41,
          84,
          25,
          32,
          46,
          33,
          30,
          29,
          22,
          71,
          33,
          41,
          31,
          33,
          26,
          62,
          23,
          60,
          29,
          40,
          40,
          36,
          37,
          26,
          39,
          37,
          38,
          42,
          42,
          26,
          31,
          39,
          35,
          32,
          42,
          43,
          49,
          41,
          35,
          37,
          36,
          26,
          37,
          66,
          34,
          41,
          32,
          30,
          36,
          36,
          30,
          43,
          28,
          37,
          31,
          49,
          40,
          21,
          40,
          24,
          29,
          37,
          40,
          39,
          35,
          62,
          37,
          43,
          28,
          42,
          49,
          26,
          36,
          27,
          40,
          33,
          31,
          40,
          28,
          46,
          34,
          37,
          39,
          28,
          25,
          31,
          35,
          43,
          35,
          45,
          47,
          37,
          46,
          27,
          41,
          74,
          32,
          30,
          35,
          37,
          45,
          45,
          36,
          34,
          37,
          35,
          42,
          18,
          33,
          32,
          37,
          34,
          18,
          39,
          49,
          38,
          35,
          35,
          31,
          30,
          69,
          28,
          24,
          44,
          37,
          29,
          59,
          42,
          43,
          67,
          34,
          33,
          32,
          43,
          37,
          51,
          31,
          39,
          36,
          34,
          41,
          31,
          61,
          30,
          25,
          31,
          20,
          36,
          31,
          68,
          32,
          66,
          28,
          23,
          31,
          41,
          33,
          35,
          28,
          28,
          55,
          41,
          40,
          51,
          37,
          29,
          62,
          37,
          32,
          36,
          40,
          37,
          41,
          77,
          33,
          34,
          26,
          37,
          36,
          40,
          21,
          37,
          25,
          36,
          33,
          41,
          36,
          55,
          27,
          33,
          31,
          39,
          35,
          48,
          46,
          19,
          26,
          47,
          23,
          37,
          31,
          27,
          39,
          62,
          42,
          45,
          32,
          67,
          41,
          38,
          79,
          34,
          46,
          33,
          35,
          30,
          27,
          35,
          28,
          37,
          42,
          21,
          33,
          29,
          28,
          52,
          43,
          24,
          32,
          32,
          31,
          33,
          30,
          25,
          22,
          44,
          35,
          39,
          18,
          32,
          35,
          45,
          67,
          76,
          35,
          40,
          39,
          48,
          21,
          37,
          22,
          46,
          73,
          34,
          35,
          44,
          42,
          34,
          30,
          39,
          22,
          34,
          27,
          39,
          30,
          40,
          41,
          25,
          42,
          31,
          66,
          29,
          38,
          67,
          40,
          32,
          37,
          27,
          44,
          32,
          45,
          39,
          37,
          32,
          39,
          33,
          39,
          29,
          36,
          23,
          35,
          29,
          31,
          45,
          40,
          38,
          64,
          40,
          49,
          27,
          36,
          29,
          34,
          47,
          27,
          34,
          34,
          35,
          22,
          33,
          31,
          59,
          37,
          27,
          31,
          45,
          28,
          45,
          38,
          36,
          32,
          22,
          26,
          43,
          35,
          28,
          31,
          44,
          40,
          34,
          38,
          30,
          41,
          35,
          30,
          42,
          40,
          73,
          30,
          33,
          31,
          44,
          39,
          56,
          39,
          31,
          44,
          44,
          76,
          55,
          36,
          29,
          46,
          35,
          38,
          39,
          39,
          23,
          28,
          38,
          34,
          48,
          37,
          41,
          32,
          34,
          26,
          36,
          43,
          33,
          32,
          32,
          45,
          45,
          42,
          34,
          36,
          28,
          40,
          40,
          29,
          39,
          34,
          31,
          40,
          21,
          39,
          37,
          25,
          37,
          31,
          32,
          72,
          64,
          22,
          39,
          31,
          34,
          46,
          71,
          39,
          33,
          28,
          45,
          42,
          37,
          25,
          21,
          41,
          36,
          36,
          30,
          45,
          55,
          29,
          44,
          46,
          37,
          63,
          35,
          46,
          44,
          43,
          36,
          29,
          39,
          43,
          39,
          41,
          40,
          44,
          29,
          65,
          29,
          36,
          35,
          23,
          37,
          46,
          32,
          26,
          25,
          20,
          46,
          31,
          40,
          31,
          61,
          58,
          43,
          28,
          34,
          33,
          34,
          39,
          60,
          43,
          47,
          29,
          33,
          31,
          23,
          35,
          32,
          40,
          30,
          40,
          22,
          38,
          27,
          22,
          21,
          37,
          65,
          24,
          38,
          24,
          38,
          37,
          30,
          32,
          38,
          40,
          80,
          33,
          30,
          39,
          19,
          38,
          29,
          26,
          41,
          37,
          43,
          45,
          39,
          66,
          33,
          46,
          32,
          40,
          32,
          31,
          42,
          44,
          38,
          20,
          63,
          39,
          41,
          27,
          42,
          37,
          38,
          42,
          38,
          27,
          37,
          36,
          38,
          31,
          32,
          36,
          37,
          21,
          63,
          33,
          41,
          63,
          41,
          51,
          60,
          28,
          26,
          39,
          37,
          29,
          31,
          58,
          30,
          44,
          32,
          23,
          34,
          48,
          54,
          38,
          30,
          35,
          43,
          33,
          47,
          31,
          33,
          45,
          39,
          34,
          31,
          60,
          40,
          47,
          37,
          39,
          40,
          29,
          62,
          34,
          26,
          32,
          34,
          37,
          57,
          33,
          41,
          28,
          34,
          39,
          28,
          40,
          40,
          30,
          33,
          23,
          31,
          37,
          28,
          36,
          21,
          42,
          60,
          38,
          49,
          32,
          37,
          39,
          47,
          28,
          33,
          43,
          29,
          51,
          32,
          40,
          33,
          39,
          45,
          44,
          33,
          24,
          66,
          32,
          39,
          33,
          31,
          34,
          41,
          43,
          62,
          38,
          29,
          37,
          43,
          74,
          35,
          34,
          60,
          34,
          37,
          42,
          69,
          27,
          35,
          29,
          51,
          39,
          32,
          32,
          33,
          36,
          26,
          26,
          35,
          29,
          32,
          47,
          32,
          31,
          36,
          60,
          45,
          54,
          39,
          43,
          46,
          30,
          52,
          27,
          38,
          37,
          44,
          28,
          25,
          34,
          26,
          56,
          25,
          23,
          36,
          36,
          36,
          37,
          34,
          41,
          36,
          47,
          32,
          42,
          29,
          35,
          29,
          39,
          39,
          45,
          63,
          64,
          34,
          30,
          54,
          26,
          44,
          38,
          35,
          33,
          29,
          27,
          29,
          76,
          29,
          35,
          37,
          46,
          41,
          24,
          32,
          41,
          44,
          57,
          33,
          34,
          75,
          32,
          32,
          51,
          30,
          33,
          41,
          53,
          35,
          42,
          40,
          42,
          31,
          37,
          23,
          32,
          44,
          42,
          40,
          38,
          30,
          28,
          32,
          50,
          40,
          46,
          40,
          38,
          69,
          34,
          30,
          28,
          77,
          34,
          36,
          34,
          31,
          34,
          45,
          27,
          30,
          55,
          60,
          19,
          21,
          34,
          57,
          38,
          25,
          43,
          44,
          35,
          26,
          44,
          36,
          43,
          26,
          31,
          45,
          39,
          42,
          36,
          48,
          44,
          66,
          22,
          35,
          27,
          40,
          74,
          33,
          22,
          39,
          31,
          41,
          41,
          34,
          71,
          29,
          39,
          39,
          42,
          37,
          35,
          42,
          67,
          39,
          30,
          38,
          51,
          38,
          24,
          20,
          68,
          39,
          39,
          38,
          43,
          35,
          27,
          31,
          34,
          42,
          40,
          39,
          27,
          24,
          42,
          27,
          47,
          32,
          35,
          31,
          28,
          40,
          47,
          28,
          44,
          23,
          35,
          59,
          42,
          33,
          26,
          46,
          26,
          68,
          21,
          32,
          38,
          38,
          32,
          31,
          29,
          37,
          40,
          36,
          59,
          34,
          33,
          31,
          40,
          47,
          37,
          23,
          35,
          28,
          41,
          30,
          35,
          31,
          39,
          23,
          29,
          36,
          40,
          33,
          52,
          31,
          47,
          45,
          30,
          42,
          37,
          34,
          35,
          31,
          44,
          35,
          64,
          61,
          32,
          32,
          31,
          32,
          42,
          30,
          44,
          32,
          75,
          33,
          37,
          30,
          66,
          28,
          41,
          35,
          43,
          41,
          38,
          30,
          39,
          29,
          38,
          27,
          39,
          52,
          38,
          43,
          34,
          38,
          31,
          43,
          37,
          38,
          41,
          55,
          31,
          33,
          37,
          32,
          36,
          28,
          39,
          36,
          37,
          39,
          25,
          30,
          39,
          18,
          37,
          34,
          36,
          31,
          36,
          23,
          46,
          40,
          27,
          32,
          33,
          43,
          20,
          30,
          24,
          32,
          29,
          40,
          39,
          38,
          32,
          47,
          37,
          38,
          39,
          30,
          25,
          34,
          41,
          35,
          78,
          32,
          44,
          31,
          38,
          46,
          38,
          34,
          30,
          35,
          23,
          25,
          34,
          34,
          38,
          48,
          46,
          34,
          44,
          37,
          24,
          42,
          33,
          43,
          48,
          24,
          45,
          32,
          39,
          32,
          38,
          30,
          43,
          48,
          33,
          31,
          30,
          50,
          27,
          34,
          25,
          74,
          34,
          26,
          28,
          31,
          33,
          25,
          39,
          39,
          38,
          48,
          28,
          50,
          41,
          43,
          58,
          35,
          23,
          35,
          39,
          31,
          41,
          23,
          33,
          41,
          38,
          42,
          61,
          35,
          48,
          44,
          24,
          38,
          43,
          42,
          48,
          33,
          24,
          37,
          30,
          32,
          45,
          37,
          41,
          62,
          35,
          27,
          33,
          44,
          35,
          22,
          43,
          27,
          44,
          31,
          40,
          39,
          35,
          23,
          38,
          18,
          38,
          26,
          33,
          44,
          32,
          42,
          49,
          43,
          50,
          19,
          40,
          35,
          31,
          43,
          32,
          36,
          32,
          30,
          59,
          57,
          32,
          64,
          29,
          35,
          54,
          40,
          37,
          36,
          48,
          34,
          40,
          32,
          34,
          38,
          36,
          49,
          38,
          39,
          31,
          19,
          36,
          44,
          35,
          35,
          35,
          37,
          33,
          45,
          36,
          53,
          37,
          22,
          34,
          42,
          44,
          34,
          35,
          19,
          41,
          39,
          29,
          35,
          32,
          41,
          39,
          71,
          39,
          41,
          34,
          41,
          33,
          28,
          33,
          37,
          38,
          26,
          31,
          39,
          39,
          77,
          29,
          28,
          36,
          26,
          32,
          33,
          32,
          35,
          31,
          24,
          42,
          34,
          30,
          35,
          79,
          32,
          34,
          26,
          28,
          40,
          35,
          29,
          36,
          36,
          36,
          23,
          42,
          70,
          48,
          35,
          41,
          23,
          33,
          44,
          27,
          41,
          22,
          36,
          55,
          33,
          29,
          37,
          34,
          37,
          40,
          32,
          37,
          43,
          33,
          27,
          44,
          29,
          33,
          31,
          36,
          43,
          41,
          53,
          37,
          49,
          34,
          34,
          29,
          32,
          31,
          41,
          40,
          40,
          41,
          30,
          42,
          44,
          30,
          33,
          34,
          29,
          36,
          47,
          45,
          39,
          32,
          50,
          33,
          34,
          36,
          58,
          36,
          39,
          34,
          30,
          81,
          29,
          31,
          54,
          43,
          36,
          34,
          38,
          36,
          43,
          53,
          31,
          62,
          39,
          36,
          45,
          20,
          58,
          34,
          42,
          33,
          33,
          39,
          37,
          46,
          42,
          45,
          42,
          40,
          36,
          64,
          41,
          35,
          38,
          30,
          41,
          24,
          39,
          25,
          35,
          35,
          45,
          30,
          30,
          31,
          26,
          36,
          35,
          40,
          33,
          33,
          44,
          36,
          44,
          40,
          38,
          68,
          35,
          36,
          48,
          37,
          36,
          33,
          40,
          35,
          50,
          29,
          34,
          29,
          45,
          40,
          44,
          37,
          38,
          33,
          46,
          29,
          34,
          59,
          38,
          63,
          38,
          50,
          29,
          33,
          44,
          30,
          29,
          25,
          26,
          42,
          38,
          32,
          36,
          38,
          28,
          36,
          31,
          23,
          37,
          29,
          35,
          42,
          41,
          41,
          47,
          27,
          26,
          79,
          29,
          42,
          35,
          29,
          34,
          38,
          25,
          37,
          34,
          35,
          37,
          29,
          31,
          38,
          49,
          50,
          45,
          30,
          43,
          37,
          46,
          29,
          20,
          29,
          26,
          58,
          20,
          44,
          32,
          37,
          55,
          28,
          33,
          26,
          28,
          47,
          38,
          31,
          40,
          37,
          26,
          35,
          27,
          29,
          46,
          54,
          38,
          42,
          38,
          40,
          66,
          37,
          40,
          64,
          34,
          29,
          32,
          48,
          25,
          38,
          32,
          38,
          70,
          49,
          37,
          35,
          36,
          29,
          42,
          42,
          33,
          50,
          55,
          69,
          44,
          46,
          31,
          36,
          36,
          33,
          43,
          30,
          31,
          31,
          39,
          37,
          38,
          34,
          29,
          28,
          22,
          34,
          43,
          35,
          38,
          28,
          32,
          30,
          41,
          36,
          58,
          39,
          29,
          27,
          38,
          22,
          71,
          40,
          27,
          42,
          36,
          30,
          33,
          28,
          38,
          37,
          38,
          38,
          35,
          22,
          29,
          43,
          28,
          20,
          38,
          29,
          22,
          72,
          43,
          66,
          39,
          23,
          29,
          35,
          40,
          29,
          26,
          30,
          44,
          24,
          41,
          43,
          38,
          32,
          59,
          39,
          24,
          39,
          44,
          27,
          20,
          31,
          38,
          52,
          35,
          26,
          30,
          41,
          27,
          31,
          26,
          28,
          33,
          32,
          43,
          42,
          29,
          40,
          40,
          31,
          32,
          23,
          51,
          41,
          38,
          30,
          19,
          32,
          28,
          41,
          32,
          29,
          36,
          71,
          33,
          39,
          39,
          25,
          42,
          27,
          31,
          36,
          40,
          48,
          72,
          36,
          40,
          37,
          31,
          25,
          36,
          25,
          40,
          32,
          31,
          25,
          27,
          41,
          29,
          29,
          33,
          24,
          39,
          42,
          51,
          47,
          47,
          25,
          34,
          31,
          32,
          41,
          23,
          31,
          29,
          31,
          39,
          35,
          46,
          37,
          33,
          39,
          42,
          41,
          39,
          30,
          23,
          38,
          38,
          72,
          27,
          21,
          36,
          32,
          40,
          28,
          28,
          22,
          32,
          27,
          32,
          44,
          48,
          42,
          40,
          35,
          30,
          47,
          37,
          22,
          37,
          64,
          47,
          37,
          54,
          28,
          28,
          40,
          42,
          40,
          28,
          50,
          32,
          35,
          28,
          39,
          31,
          35,
          44,
          36,
          36,
          35,
          48,
          24,
          25,
          51,
          37,
          32,
          33,
          34,
          30,
          34,
          61,
          29,
          28,
          33,
          36,
          28,
          50,
          46,
          33,
          43,
          25,
          39,
          34,
          62,
          35,
          36,
          41,
          31,
          29,
          36,
          36,
          41,
          32,
          33,
          45,
          21,
          25,
          42,
          38,
          34,
          42,
          34,
          44,
          35,
          34,
          46,
          28,
          38,
          41,
          35,
          35,
          33,
          78,
          35,
          31,
          35,
          42,
          36,
          35,
          27,
          47,
          31,
          40,
          24,
          32,
          53,
          34,
          75,
          33,
          32,
          37,
          33,
          28,
          37,
          33,
          39,
          61,
          37,
          37,
          35,
          53,
          51,
          49,
          38,
          32,
          34,
          34,
          31,
          33,
          44,
          29,
          45,
          41,
          28,
          39,
          51,
          38,
          42,
          33,
          32,
          38,
          33,
          44,
          26,
          41,
          31,
          38,
          39,
          40,
          39,
          35,
          42,
          46,
          39,
          35,
          42,
          28,
          38,
          36,
          34,
          29,
          36,
          40,
          62,
          50,
          22,
          30,
          67,
          38,
          31,
          31,
          38,
          25,
          37,
          35,
          25,
          38,
          19,
          40,
          33,
          42,
          57,
          37,
          44,
          50,
          39,
          49,
          58,
          41,
          27,
          40,
          28,
          42,
          31,
          32,
          46,
          29,
          26,
          38,
          41,
          31,
          44,
          38,
          42,
          45,
          60,
          35,
          29,
          44,
          28,
          37,
          40,
          28,
          38,
          27,
          33,
          29,
          38,
          61,
          42,
          41,
          37,
          19,
          35,
          29,
          36,
          61,
          29,
          41,
          43,
          27,
          30,
          68,
          26,
          40,
          38,
          33,
          34,
          33,
          32,
          73,
          29,
          34,
          28,
          26,
          26,
          32,
          33,
          33,
          39,
          29,
          25,
          37,
          23,
          50,
          39,
          44,
          30,
          32,
          31,
          46,
          41,
          39,
          64,
          35,
          36,
          42,
          40,
          48,
          25,
          60,
          39,
          34,
          35,
          47,
          39,
          31,
          37,
          37,
          37,
          27,
          46,
          34,
          26,
          40,
          33,
          46,
          41,
          43,
          29,
          40,
          54,
          44,
          31,
          35,
          38,
          30,
          34,
          42,
          38,
          43,
          32,
          41,
          34,
          45,
          29,
          40,
          36,
          41,
          45,
          50,
          28,
          32,
          37,
          23,
          31,
          39,
          32,
          34,
          30,
          40,
          45,
          36,
          29,
          51,
          44,
          35,
          36,
          31,
          49,
          66,
          36,
          42,
          36,
          33,
          71,
          29,
          48,
          40,
          26,
          27,
          38,
          32,
          57,
          39,
          45,
          37,
          54,
          30,
          35,
          38,
          38,
          47,
          33,
          32,
          42,
          38,
          41,
          30,
          40,
          41,
          43,
          69,
          34,
          29,
          37,
          35,
          29,
          35,
          37,
          32,
          37,
          26,
          37,
          29,
          35,
          40,
          71,
          38,
          21,
          29,
          33,
          29,
          33,
          51,
          22,
          33,
          22,
          34,
          31,
          38,
          37,
          48,
          40,
          40,
          32,
          39,
          62,
          46,
          31,
          43,
          21,
          19,
          33,
          39,
          26,
          36,
          41,
          28,
          31,
          38,
          38,
          29,
          40,
          31,
          38,
          34,
          35,
          48,
          39,
          37,
          30,
          23,
          34,
          27,
          27,
          42,
          40,
          30,
          32,
          66,
          33,
          39,
          33,
          38,
          42,
          27,
          39,
          31,
          28,
          49,
          36,
          54,
          39,
          39,
          36,
          32,
          30,
          47,
          34,
          37,
          31,
          38,
          30,
          33,
          55,
          43,
          40,
          32,
          45,
          35,
          41,
          31,
          33,
          38,
          76,
          40,
          33,
          32,
          40,
          35,
          30,
          43,
          37,
          28,
          29,
          35,
          37,
          37,
          45,
          44,
          40,
          41,
          24,
          31,
          37,
          37,
          28,
          41,
          33,
          25,
          35,
          32,
          27,
          32,
          45,
          35,
          59,
          62,
          20,
          28,
          31,
          41,
          19,
          22,
          24,
          31,
          28,
          24,
          33,
          38,
          26,
          37,
          59,
          38,
          34,
          30,
          35,
          35,
          52,
          27,
          46,
          41,
          44,
          33,
          40,
          39,
          36,
          37,
          34,
          27,
          32,
          27,
          26,
          46,
          45,
          29,
          31,
          46,
          37,
          69,
          40,
          36,
          41,
          44,
          45,
          52,
          42,
          23,
          25,
          31,
          44,
          32,
          31,
          23,
          45,
          34,
          41,
          52,
          35,
          52,
          45,
          36,
          45,
          42,
          24,
          37,
          41,
          31,
          40,
          31,
          37,
          30,
          27,
          26,
          33,
          43,
          38,
          31,
          37,
          41,
          57,
          30,
          36,
          28,
          34,
          28,
          35,
          41,
          31,
          23,
          34,
          36,
          40,
          73,
          37,
          49,
          33,
          40,
          48,
          33,
          32,
          34,
          29,
          33,
          35,
          43,
          35,
          34,
          33,
          25,
          37,
          33,
          37,
          31,
          24,
          38,
          24,
          46,
          22,
          33,
          31,
          30,
          34,
          31,
          64,
          31,
          39,
          26,
          33,
          29,
          31,
          21,
          38,
          34,
          28,
          58,
          64,
          75,
          26,
          29,
          32,
          61,
          73,
          26,
          31,
          38,
          40,
          34,
          37,
          39,
          37,
          53,
          36,
          36,
          39,
          43,
          27,
          43,
          28,
          56,
          41,
          29,
          31,
          33,
          31,
          41,
          49,
          49,
          33,
          51,
          33,
          34,
          30,
          40,
          62,
          36,
          35,
          41,
          47,
          31,
          43,
          37,
          33,
          31,
          32,
          39,
          32,
          34,
          42,
          36,
          71,
          34,
          37,
          36,
          38,
          28,
          26,
          47,
          27,
          33,
          52,
          33,
          20,
          39,
          46,
          47,
          48,
          42,
          37,
          32,
          37,
          36,
          27,
          28,
          32,
          35,
          37,
          44,
          37,
          33,
          45,
          36,
          24,
          33,
          34,
          72,
          26,
          31,
          22,
          37,
          35,
          41,
          32,
          40,
          27,
          24,
          33,
          27,
          42,
          34,
          34,
          24,
          41,
          45,
          42,
          38,
          33,
          33,
          27,
          25,
          43,
          29,
          28,
          27,
          37,
          29,
          19,
          32,
          47,
          50,
          34,
          31,
          36,
          41,
          34,
          39,
          35,
          35,
          34,
          35,
          35,
          35,
          43,
          39,
          24,
          37,
          40,
          37,
          41,
          35,
          35,
          31,
          25,
          48,
          27,
          38,
          35,
          41,
          43,
          68,
          32,
          39,
          25,
          34,
          40,
          28,
          73,
          41,
          38,
          35,
          34,
          47,
          67,
          38,
          37,
          33,
          24,
          36,
          31,
          32,
          43,
          30,
          37,
          38,
          28,
          41,
          41,
          36,
          44,
          33,
          26,
          30,
          46,
          36,
          41,
          33,
          44,
          33,
          63,
          21,
          20,
          21,
          42,
          26,
          37,
          27,
          44,
          47,
          23,
          47,
          41,
          39,
          45,
          37,
          38,
          40,
          39,
          33,
          53,
          45,
          26,
          33,
          37,
          44,
          45,
          33,
          92,
          37,
          30,
          34,
          31,
          37,
          28,
          29,
          43,
          44,
          35,
          29,
          31,
          51,
          36,
          45,
          29,
          36,
          57,
          30,
          26,
          35,
          23,
          41,
          40,
          22,
          37,
          40,
          34,
          35,
          24,
          39,
          32,
          41,
          44,
          26,
          40,
          31,
          44,
          31,
          34,
          30,
          35,
          35,
          28,
          27,
          32,
          43,
          30,
          40,
          37,
          32,
          32,
          40,
          24,
          41,
          26,
          65,
          32,
          51,
          41,
          35,
          42,
          31,
          34,
          34,
          38,
          27,
          37,
          75,
          45,
          67,
          47,
          27,
          36,
          37,
          39,
          33,
          35,
          35,
          29,
          45,
          27,
          20,
          30,
          38,
          32,
          30,
          34,
          31,
          35,
          40,
          38,
          38,
          32,
          25,
          33,
          30,
          54,
          38,
          21,
          35,
          38,
          37,
          38,
          28,
          36,
          30,
          60,
          21,
          23,
          39,
          33,
          33,
          28,
          45,
          30,
          33,
          33,
          30,
          24,
          32,
          29,
          38,
          35,
          47,
          33,
          31,
          41,
          40,
          41,
          54,
          27,
          64,
          28,
          34,
          26,
          33,
          54,
          29,
          32,
          36,
          43,
          28,
          46,
          41,
          66,
          57,
          39,
          36,
          44,
          31,
          42,
          59,
          24,
          36,
          36,
          41,
          36,
          33,
          37,
          34,
          33,
          37,
          42,
          37,
          26,
          47,
          41,
          46,
          38,
          23,
          30,
          44,
          35,
          33,
          39,
          29,
          36,
          36,
          31,
          42,
          32,
          32,
          26,
          34,
          43,
          49,
          35,
          36,
          36,
          36,
          52,
          26,
          32,
          30,
          60,
          31,
          29,
          48,
          34,
          50,
          38,
          22,
          41,
          30,
          24,
          39,
          27,
          37,
          33,
          48,
          41,
          31,
          41,
          39,
          37,
          33,
          64,
          34,
          39,
          36,
          43,
          36,
          67,
          29,
          34,
          39,
          26,
          77,
          29,
          51,
          40,
          33,
          46,
          32,
          37,
          28,
          38,
          35,
          55,
          40,
          44,
          26,
          30,
          55,
          39,
          34,
          31,
          24,
          38,
          38,
          28,
          38,
          36,
          28,
          92,
          41,
          27,
          37,
          67,
          37,
          40,
          48,
          42,
          44,
          38,
          29,
          39,
          43,
          43,
          27,
          50,
          37,
          42,
          31,
          32,
          41,
          30,
          37,
          37,
          46,
          40,
          39,
          34,
          54,
          48,
          25,
          46,
          60,
          35,
          32,
          30,
          35,
          35,
          36,
          30,
          26,
          42,
          42,
          44,
          25,
          36,
          41,
          39,
          29,
          47,
          38,
          44,
          51,
          34,
          43,
          43,
          21,
          34,
          50,
          33,
          42,
          40,
          29,
          36,
          30,
          26,
          36,
          33,
          33,
          24,
          40,
          30,
          33,
          44,
          42,
          39,
          43,
          36,
          34,
          46,
          38,
          41,
          33,
          24,
          26,
          32,
          32,
          39,
          36,
          27,
          37,
          28,
          42,
          37,
          25,
          23,
          29,
          32,
          30,
          35,
          27,
          45,
          19,
          31,
          25,
          50,
          26,
          42,
          41,
          41,
          31,
          44,
          41,
          29,
          35,
          46,
          34,
          38,
          43,
          40,
          40,
          31,
          24,
          41,
          24,
          33,
          38,
          39,
          60,
          34,
          43,
          29,
          34,
          37,
          30,
          37,
          42,
          46,
          39,
          33,
          31,
          50,
          33,
          43,
          46,
          25,
          42,
          40,
          36,
          31,
          36,
          31,
          37,
          38,
          37,
          35,
          38,
          35,
          49,
          44,
          33,
          46,
          39,
          33,
          26,
          39,
          30,
          22,
          26,
          50,
          38,
          66,
          44,
          39,
          44,
          38,
          39,
          42,
          47,
          40,
          34,
          50,
          35,
          32,
          48,
          60,
          44,
          36,
          41,
          35,
          24,
          32,
          50,
          68,
          28,
          48,
          32,
          50,
          43,
          33,
          38,
          28,
          35,
          25,
          44,
          34,
          35,
          30,
          50,
          36,
          28,
          28,
          29,
          45,
          27,
          37,
          26,
          33,
          41,
          45,
          56,
          37,
          31,
          60,
          48,
          38,
          44,
          34,
          26,
          36,
          20,
          31,
          57,
          29,
          43,
          32,
          38,
          33,
          31,
          72,
          35,
          32,
          35,
          41,
          76,
          39,
          53,
          42,
          24,
          46,
          39,
          63,
          37,
          40,
          36,
          34,
          25,
          24,
          67,
          30,
          36,
          36,
          32,
          38,
          38,
          35,
          48,
          47,
          40,
          67,
          50,
          37,
          24,
          44,
          39,
          41,
          45,
          40,
          45,
          37,
          39,
          28,
          39,
          35,
          24,
          39,
          42,
          32,
          31,
          23,
          34,
          46,
          38,
          34,
          32,
          26,
          44,
          38,
          33,
          33,
          35,
          30,
          41,
          57,
          28,
          67,
          39,
          38,
          54,
          30,
          41,
          36,
          30,
          37,
          32,
          34,
          36,
          33,
          65,
          32,
          23,
          36,
          34,
          46,
          34,
          40,
          29,
          33,
          34,
          36,
          30,
          33,
          30,
          50,
          38,
          39,
          28,
          38,
          42,
          30,
          49,
          36,
          23,
          44,
          44,
          38,
          34,
          40,
          52,
          42,
          44,
          34,
          70,
          33,
          35,
          42,
          33,
          32,
          28,
          72,
          33,
          39,
          29,
          47,
          30,
          25,
          28,
          37,
          36,
          32,
          41,
          36,
          40,
          41,
          39,
          34,
          35,
          46,
          29,
          37,
          40,
          30,
          38,
          35,
          35,
          34,
          43,
          32,
          37,
          77,
          33,
          36,
          37,
          25,
          28,
          31,
          40,
          36,
          31,
          32,
          41,
          53,
          40,
          46,
          33,
          38,
          31,
          27,
          51,
          42,
          74,
          38,
          34,
          42,
          35,
          32,
          33,
          37,
          55,
          31,
          35,
          29,
          43,
          32,
          30,
          35,
          39,
          34,
          34,
          31,
          31,
          37,
          43,
          28,
          51,
          45,
          33,
          72,
          43,
          58,
          28,
          38,
          28,
          22,
          37,
          43,
          36,
          33,
          32,
          37,
          31,
          36,
          24,
          34,
          49,
          34,
          34,
          59,
          42,
          43,
          18,
          41,
          28,
          39,
          30,
          34,
          28,
          49,
          27,
          42,
          25,
          42,
          25,
          34,
          38,
          30,
          35,
          37,
          29,
          36,
          54,
          73,
          40,
          34,
          35,
          42,
          36,
          26,
          37,
          30,
          34,
          37,
          77,
          23,
          40,
          34,
          36,
          41,
          28,
          41,
          38,
          37,
          44,
          29,
          34,
          20,
          31,
          67,
          28,
          22,
          37,
          39,
          33,
          39,
          34,
          58,
          22,
          35,
          42,
          34,
          23,
          36,
          31,
          45,
          29,
          36,
          37,
          36,
          40,
          38,
          36,
          29,
          36,
          33,
          32,
          43,
          35,
          38,
          31,
          35,
          29,
          32,
          27,
          47,
          54,
          36,
          24,
          29,
          35,
          30,
          37,
          39,
          20,
          44,
          46,
          20,
          43,
          29,
          30,
          32,
          40,
          36,
          30,
          30,
          37,
          26,
          35,
          47,
          55,
          36,
          32,
          31,
          44,
          22,
          35,
          40,
          34,
          43,
          35,
          32,
          49,
          42,
          26,
          35,
          40,
          37,
          36,
          27,
          49,
          27,
          36,
          47,
          58,
          44,
          27,
          54,
          37,
          36,
          38,
          50,
          29,
          35,
          40,
          30,
          42,
          26,
          43,
          72,
          40,
          35,
          81,
          35,
          46,
          33,
          52,
          40,
          33,
          32,
          36,
          38,
          28,
          42,
          37,
          28,
          34,
          43,
          34,
          26,
          42,
          29,
          62,
          38,
          37,
          76,
          35,
          41,
          34,
          30,
          51,
          41,
          33,
          53,
          54,
          28,
          37,
          37,
          33,
          49,
          27,
          43,
          39,
          40,
          42,
          33,
          26,
          39,
          42,
          38,
          33,
          35,
          30,
          44,
          28,
          33,
          50,
          40,
          29,
          30,
          31,
          29,
          39,
          31,
          41,
          31,
          46,
          36,
          38,
          28,
          37,
          37,
          37,
          27,
          33,
          40,
          32,
          27,
          39,
          46,
          61,
          69,
          19,
          46,
          40,
          28,
          42,
          40,
          43,
          38,
          29,
          32,
          23,
          46,
          34,
          31,
          40,
          32,
          28,
          39,
          32,
          25,
          31,
          31,
          42,
          45,
          24,
          38,
          38,
          51,
          40,
          31,
          36,
          39,
          35,
          37,
          25,
          29,
          61,
          38,
          29,
          30,
          37,
          28,
          37,
          33,
          36,
          32,
          25,
          29,
          26,
          41,
          40,
          48,
          46,
          31,
          38,
          74,
          46,
          64,
          41,
          36,
          31,
          31,
          48,
          34,
          31,
          35,
          39,
          64,
          40,
          30,
          56,
          30,
          32,
          46,
          71,
          68,
          33,
          18,
          35,
          35,
          55,
          63,
          31,
          43,
          31,
          41,
          41,
          33,
          41,
          60,
          22,
          35,
          36,
          40,
          35,
          24,
          25,
          39,
          38,
          28,
          34,
          36,
          40,
          41,
          30,
          34,
          36,
          49,
          35,
          20,
          27,
          29,
          29,
          43,
          40,
          63,
          21,
          22,
          46,
          33,
          34,
          54,
          64,
          26,
          33,
          57,
          76,
          38,
          22,
          31,
          40,
          56,
          25,
          44,
          36,
          33,
          46,
          46,
          63,
          52,
          59,
          34,
          25,
          34,
          34,
          30,
          24,
          33,
          38,
          42,
          58,
          25,
          29,
          40,
          28,
          32,
          44,
          41,
          40,
          36,
          33,
          42,
          33,
          41,
          42,
          32,
          21,
          47,
          43,
          38,
          34,
          27,
          20,
          49,
          41,
          36,
          39,
          49,
          59,
          33,
          27,
          22,
          28,
          32,
          28,
          35,
          47,
          33,
          30,
          38,
          46,
          29,
          29,
          36,
          46,
          36,
          32,
          38,
          44,
          38,
          46,
          45,
          42,
          36,
          30,
          31,
          57,
          49,
          48,
          31,
          40,
          43,
          41,
          30,
          72,
          40,
          28,
          38,
          34,
          32,
          35,
          37,
          39,
          35,
          28,
          26,
          35,
          24,
          35,
          33,
          38,
          37,
          31,
          34,
          35,
          39,
          38,
          47,
          33,
          38,
          30,
          38,
          47,
          40,
          70,
          31,
          33,
          22,
          39,
          26,
          29,
          33,
          45,
          35,
          35,
          25,
          33,
          40,
          33,
          33,
          30,
          38,
          81,
          34,
          34,
          40,
          37,
          38,
          37,
          30,
          34,
          40,
          45,
          30,
          42,
          36,
          31,
          42,
          35,
          47,
          30,
          26,
          27,
          38,
          33,
          36,
          46,
          27,
          45,
          32,
          51,
          39,
          32,
          39,
          40,
          33,
          67,
          22,
          24,
          26,
          36,
          32,
          37,
          45,
          36,
          41,
          44,
          34,
          35,
          34,
          32,
          39,
          26,
          41,
          50,
          73,
          46,
          41,
          36,
          30,
          24,
          33,
          37,
          50,
          36,
          34,
          36,
          42,
          30,
          21,
          62,
          50,
          43,
          36,
          31,
          47,
          47,
          33,
          33,
          33,
          34,
          29,
          41,
          34,
          50,
          34,
          31,
          34,
          29,
          43,
          29,
          29,
          44,
          31,
          34,
          27,
          40,
          50,
          37,
          47,
          30,
          36,
          29,
          28,
          33,
          50,
          38,
          24,
          48,
          29,
          38,
          47,
          66,
          38,
          38,
          40,
          45,
          31,
          51,
          50,
          35,
          34,
          36,
          31,
          35,
          34,
          49,
          32,
          28,
          45,
          35,
          33,
          38,
          39,
          31,
          47,
          33,
          29,
          34,
          41,
          24,
          38,
          36,
          30,
          36,
          24,
          41,
          23,
          34,
          37,
          48,
          47,
          38,
          29,
          40,
          36,
          38,
          71,
          32,
          37,
          25,
          25,
          31,
          27,
          38,
          37,
          37,
          24,
          33,
          27,
          31,
          31,
          31,
          22,
          40,
          40,
          46,
          27,
          42,
          28,
          36,
          59,
          40,
          39,
          59,
          21,
          47,
          40,
          36,
          66,
          42,
          59,
          30,
          54,
          32,
          49,
          27,
          33,
          34,
          39,
          34,
          63,
          29,
          32,
          31,
          39,
          34,
          32,
          41,
          75,
          40,
          39,
          25,
          27,
          50,
          38,
          30,
          39,
          37,
          32,
          25,
          33,
          37,
          37,
          39,
          40,
          34,
          32,
          29,
          32,
          35,
          24,
          25,
          29,
          38,
          35,
          37,
          56,
          28,
          40,
          58,
          40,
          41,
          38,
          30,
          38,
          33,
          32,
          33,
          35,
          38,
          42,
          34,
          37,
          32,
          32,
          31,
          46,
          32,
          40,
          36,
          34,
          53,
          40,
          21,
          57,
          39,
          25,
          28,
          36,
          34,
          40,
          37,
          38,
          41,
          28,
          36,
          40,
          34,
          35,
          48,
          39,
          43,
          69,
          30,
          36,
          27,
          43,
          47,
          38,
          33,
          41,
          53,
          27,
          39,
          50,
          33,
          64,
          35,
          30,
          55,
          27,
          36,
          35,
          34,
          43,
          38,
          38,
          49,
          30,
          35,
          41,
          42,
          42,
          25,
          31,
          34,
          46,
          32,
          38,
          30,
          31,
          44,
          26,
          34,
          33,
          35,
          36,
          31,
          41,
          60,
          32,
          44,
          29,
          38,
          40,
          32,
          36,
          25,
          36,
          34,
          62,
          41,
          44,
          25,
          38,
          69,
          30,
          34,
          39,
          28,
          47,
          40,
          26,
          28,
          36,
          38,
          46,
          56,
          36,
          29,
          38,
          32,
          26,
          39,
          26,
          29,
          43,
          29,
          26,
          36,
          28,
          38,
          33,
          41,
          40,
          29,
          22,
          33,
          23,
          34,
          23,
          70,
          26,
          33,
          33,
          33,
          44,
          22,
          35,
          53,
          37,
          32,
          71,
          23,
          44,
          59,
          34,
          36,
          62,
          27,
          71,
          26,
          31,
          33,
          33,
          51,
          66,
          50,
          29,
          38,
          34,
          34,
          25,
          34,
          41,
          42,
          28,
          36,
          43,
          36,
          37,
          35,
          37,
          29,
          37,
          48,
          28,
          48,
          38,
          27,
          42,
          28,
          39,
          27,
          29,
          35,
          34,
          20,
          29,
          52,
          37,
          18,
          34,
          29,
          27,
          39,
          35,
          45,
          33,
          34,
          31,
          43,
          46,
          33,
          25,
          40,
          47,
          40,
          46,
          34,
          35,
          47,
          46,
          37,
          32,
          22,
          58,
          25,
          41,
          32,
          39,
          39,
          28,
          36,
          48,
          30,
          64,
          36,
          28,
          42,
          38,
          26,
          59,
          45,
          37,
          47,
          34,
          31,
          43,
          32,
          38,
          19,
          46,
          41,
          29,
          34,
          39,
          40,
          36,
          37,
          32,
          49,
          35,
          45,
          63,
          39,
          49,
          42,
          38,
          31,
          40,
          23,
          30,
          39,
          26,
          32,
          39,
          27,
          37,
          41,
          36,
          40,
          33,
          36,
          38,
          35,
          42,
          44,
          23,
          44,
          30,
          42,
          35,
          39,
          34,
          27,
          30,
          32,
          44,
          40,
          29,
          20,
          25,
          43,
          30,
          27,
          43,
          43,
          57,
          42,
          30,
          31,
          38,
          25,
          27,
          36,
          39,
          48,
          40,
          35,
          46,
          37,
          39,
          55,
          38,
          54,
          41,
          40,
          28,
          40,
          34,
          27,
          43,
          71,
          42,
          67,
          43,
          39,
          32,
          48,
          31,
          34,
          37,
          30,
          32,
          23,
          37,
          37,
          31,
          42,
          35,
          48,
          39,
          37,
          65,
          35,
          40,
          41,
          41,
          38,
          44,
          44,
          28,
          27,
          35,
          30,
          27,
          30,
          41,
          48,
          30,
          41,
          29,
          30,
          44,
          34,
          43,
          59,
          29,
          23,
          45,
          25,
          28,
          34,
          29,
          47,
          32,
          30,
          30,
          32,
          43,
          44,
          34,
          66,
          34,
          51,
          39,
          36,
          29,
          31,
          59,
          31,
          30,
          34,
          33,
          37,
          44,
          24,
          37,
          34,
          60,
          27,
          27,
          19,
          73,
          35,
          36,
          35,
          25,
          34,
          66,
          33,
          45,
          23,
          34,
          37,
          40,
          41,
          41,
          39,
          38,
          38,
          21,
          35,
          26,
          26,
          51,
          31,
          40,
          37,
          36,
          36,
          42,
          64,
          50,
          35,
          29,
          41,
          38,
          40,
          41,
          35,
          50,
          34,
          34,
          43,
          40,
          33,
          36,
          27,
          42,
          35,
          39,
          53,
          40,
          29,
          38,
          42,
          38,
          39,
          43,
          26,
          36,
          37,
          32,
          24,
          43,
          29,
          72,
          34,
          38,
          38,
          41,
          30,
          30,
          34,
          50,
          36,
          24,
          43,
          29,
          39,
          28,
          45,
          36,
          23,
          39,
          34,
          32,
          46,
          39,
          40,
          34,
          40,
          41,
          71,
          51,
          39,
          35,
          36,
          32,
          34,
          32,
          29,
          32,
          24,
          31,
          39,
          46,
          62,
          32,
          36,
          37,
          35,
          46,
          32,
          28,
          39,
          29,
          35,
          69,
          32,
          37,
          31,
          47,
          34,
          38,
          34,
          37,
          37,
          49,
          35,
          28,
          43,
          46,
          35,
          23,
          42,
          37,
          52,
          26,
          44,
          38,
          37,
          58,
          43,
          25,
          33,
          51,
          61,
          40,
          32,
          33,
          43,
          41,
          29,
          31,
          41,
          35,
          35,
          35,
          32,
          37,
          25,
          41,
          43,
          36,
          37,
          31,
          28,
          40,
          35,
          43,
          28,
          32,
          33,
          38,
          38,
          37,
          32,
          36,
          33,
          33,
          38,
          20,
          31,
          54,
          42,
          41,
          34,
          60,
          41,
          31,
          40,
          67,
          34,
          34,
          61,
          23,
          28,
          29,
          36,
          37,
          45,
          18,
          39,
          27,
          34,
          45,
          36,
          44,
          38,
          49,
          29,
          39,
          23,
          41,
          40,
          33,
          33,
          31,
          35,
          30,
          33,
          48,
          34,
          38,
          39,
          49,
          30,
          30,
          41,
          38,
          26,
          44,
          43,
          41,
          27,
          36,
          27,
          81,
          54,
          36,
          40,
          42,
          29,
          35,
          34,
          39,
          40,
          31,
          32,
          38,
          37,
          43,
          32,
          29,
          35,
          38,
          61,
          29,
          31,
          38,
          41,
          33,
          29,
          40,
          73,
          29,
          36,
          36,
          62,
          32,
          23,
          58,
          40,
          29,
          33,
          37,
          39,
          27,
          33,
          36,
          40,
          20,
          38,
          29,
          21,
          43,
          35,
          34,
          43,
          45,
          40,
          35,
          37,
          43,
          28,
          49,
          23,
          27,
          39,
          32,
          31,
          32,
          24,
          40,
          47,
          36,
          46,
          26,
          43,
          45,
          30,
          54,
          39,
          61,
          38,
          35,
          28,
          39,
          34,
          44,
          47,
          28,
          42,
          56,
          35,
          58,
          38,
          28,
          32,
          46,
          30,
          58,
          26,
          40,
          37,
          34,
          28,
          30,
          43,
          31,
          30,
          31,
          44,
          24,
          38,
          37,
          40,
          30,
          31,
          31,
          28,
          67,
          39,
          32,
          27,
          31,
          39,
          35,
          35,
          38,
          31,
          27,
          47,
          50,
          32,
          46,
          35,
          32,
          37,
          25,
          41,
          20,
          29,
          34,
          39,
          42,
          39,
          31,
          49,
          32,
          37,
          37,
          20,
          40,
          39,
          61,
          52,
          31,
          60,
          38,
          32,
          29,
          35,
          21,
          47,
          42,
          31,
          33,
          42,
          29,
          35,
          62,
          45,
          31,
          34,
          27,
          61,
          48,
          32,
          36,
          31,
          33,
          36,
          74,
          38,
          36,
          45,
          56,
          30,
          27,
          41,
          43,
          36,
          38,
          40,
          39,
          37,
          40,
          27,
          83,
          47,
          40,
          37,
          42,
          69,
          27,
          31,
          35,
          71,
          41,
          40,
          35,
          35,
          34,
          19,
          78,
          25,
          50,
          49,
          58,
          29,
          45,
          29,
          28,
          43,
          28,
          50,
          41,
          36,
          34,
          43,
          42,
          63,
          40,
          37,
          43,
          40,
          29,
          39,
          45,
          35,
          35,
          49,
          29,
          36,
          28,
          39,
          31,
          30,
          36,
          32,
          26,
          35,
          26,
          70,
          45,
          38,
          23,
          44,
          33,
          32,
          39,
          32,
          37,
          61,
          39,
          35,
          52,
          40,
          52,
          34,
          39,
          31,
          69,
          36,
          43,
          31,
          27,
          55,
          34,
          46,
          26,
          44,
          43,
          37,
          33,
          27,
          26,
          28,
          34,
          33,
          28,
          40,
          72,
          39,
          70,
          32,
          33,
          24,
          28,
          39,
          34,
          38,
          38,
          27,
          31,
          33,
          37,
          41,
          30,
          35,
          28,
          33,
          27,
          27,
          52,
          55,
          39,
          28,
          36,
          47,
          35,
          40,
          46,
          24,
          39,
          56,
          36,
          45,
          25,
          28,
          22,
          74,
          51,
          46,
          48,
          35,
          33,
          35,
          36,
          30,
          37,
          32,
          32,
          32,
          80,
          35,
          36,
          33,
          37,
          25,
          52,
          25,
          27,
          18,
          29,
          48,
          44,
          28,
          69,
          41,
          26,
          29,
          26,
          33,
          45,
          28,
          38,
          32,
          37,
          44,
          27,
          18,
          40,
          35,
          32,
          38,
          18,
          34,
          41,
          41,
          60,
          29,
          52,
          41,
          40,
          29,
          38,
          37,
          35,
          37,
          57,
          29,
          34,
          43,
          36,
          40,
          31,
          41,
          38,
          67,
          39,
          36,
          39,
          28,
          42,
          29,
          33,
          30,
          35,
          35,
          37,
          30,
          42,
          34,
          45,
          38,
          28,
          62,
          34,
          35,
          20,
          76,
          42,
          71,
          34,
          40,
          28,
          67,
          55,
          61,
          37,
          26,
          35,
          32,
          33,
          39,
          31,
          29,
          44,
          28,
          44,
          35,
          40,
          37,
          36,
          37,
          35,
          35,
          24,
          35,
          37,
          33,
          31,
          47,
          27,
          31,
          22,
          44,
          31,
          37,
          34,
          31,
          27,
          31,
          32,
          35,
          34,
          38,
          41,
          35,
          31,
          31,
          40,
          38,
          33,
          33,
          58,
          34,
          40,
          32,
          32,
          39,
          42,
          30,
          39,
          39,
          40,
          30,
          30,
          35,
          37,
          34,
          37,
          32,
          78,
          28,
          62,
          31,
          39,
          34,
          29,
          19,
          36,
          63,
          39,
          32,
          33,
          45,
          63,
          31,
          68,
          57,
          42,
          52,
          25,
          37,
          32,
          49,
          23,
          36,
          38,
          31,
          43,
          22,
          36,
          30,
          41,
          22,
          57,
          37,
          41,
          32,
          40,
          56,
          34,
          30,
          40,
          38,
          36,
          32,
          41,
          43,
          23,
          38,
          29,
          39,
          64,
          70,
          78,
          22,
          25,
          29,
          35,
          45,
          32,
          36,
          41,
          35,
          59,
          21,
          68,
          40,
          36,
          35,
          43,
          27,
          31,
          60,
          21,
          27,
          40,
          64,
          39,
          33,
          44,
          39,
          30,
          36,
          42,
          26,
          29,
          39,
          43,
          40,
          40,
          18,
          49,
          27,
          34,
          32,
          28,
          45,
          39,
          28,
          42,
          23,
          43,
          22,
          40,
          30,
          30,
          40,
          31,
          36,
          33,
          35,
          36,
          39,
          27,
          31,
          31,
          29,
          36,
          34,
          48,
          30,
          31,
          45,
          28,
          39,
          26,
          26,
          40,
          33,
          39,
          38,
          32,
          41,
          31,
          39,
          38,
          41,
          26,
          46,
          30,
          24,
          40,
          38,
          25,
          34,
          38,
          34,
          26,
          28,
          37,
          37,
          24,
          39,
          30,
          38,
          27,
          33,
          49,
          24,
          32,
          43,
          38,
          40,
          34,
          37,
          33,
          44,
          39,
          36,
          43,
          42,
          40,
          41,
          33,
          31,
          24,
          21,
          32,
          37,
          49,
          40,
          40,
          77,
          40,
          61,
          28,
          39,
          56,
          27,
          36,
          36,
          38,
          28,
          45,
          58,
          44,
          34,
          44,
          34,
          41,
          44,
          31,
          26,
          36,
          36,
          29,
          38,
          36,
          31,
          38,
          38,
          40,
          34,
          18,
          46,
          28,
          77,
          42,
          36,
          57,
          20,
          36,
          25,
          23,
          41,
          44,
          33,
          53,
          47,
          39,
          46,
          37,
          47,
          45,
          29,
          25,
          37,
          38,
          44,
          33,
          34,
          33,
          35,
          48,
          40,
          41,
          42,
          34,
          26,
          27,
          33,
          33,
          32,
          40,
          58,
          35,
          40,
          35,
          36,
          47,
          30,
          30,
          28,
          33,
          36,
          28,
          29,
          39,
          35,
          28
         ],
         "x0": " ",
         "xaxis": "x",
         "y0": " ",
         "yaxis": "y"
        }
       ],
       "layout": {
        "boxmode": "group",
        "legend": {
         "title": {
          "text": "Exited"
         },
         "tracegroupgap": 0
        },
        "margin": {
         "t": 60
        },
        "template": {
         "data": {
          "bar": [
           {
            "error_x": {
             "color": "#2a3f5f"
            },
            "error_y": {
             "color": "#2a3f5f"
            },
            "marker": {
             "line": {
              "color": "#E5ECF6",
              "width": 0.5
             },
             "pattern": {
              "fillmode": "overlay",
              "size": 10,
              "solidity": 0.2
             }
            },
            "type": "bar"
           }
          ],
          "barpolar": [
           {
            "marker": {
             "line": {
              "color": "#E5ECF6",
              "width": 0.5
             },
             "pattern": {
              "fillmode": "overlay",
              "size": 10,
              "solidity": 0.2
             }
            },
            "type": "barpolar"
           }
          ],
          "carpet": [
           {
            "aaxis": {
             "endlinecolor": "#2a3f5f",
             "gridcolor": "white",
             "linecolor": "white",
             "minorgridcolor": "white",
             "startlinecolor": "#2a3f5f"
            },
            "baxis": {
             "endlinecolor": "#2a3f5f",
             "gridcolor": "white",
             "linecolor": "white",
             "minorgridcolor": "white",
             "startlinecolor": "#2a3f5f"
            },
            "type": "carpet"
           }
          ],
          "choropleth": [
           {
            "colorbar": {
             "outlinewidth": 0,
             "ticks": ""
            },
            "type": "choropleth"
           }
          ],
          "contour": [
           {
            "colorbar": {
             "outlinewidth": 0,
             "ticks": ""
            },
            "colorscale": [
             [
              0,
              "#0d0887"
             ],
             [
              0.1111111111111111,
              "#46039f"
             ],
             [
              0.2222222222222222,
              "#7201a8"
             ],
             [
              0.3333333333333333,
              "#9c179e"
             ],
             [
              0.4444444444444444,
              "#bd3786"
             ],
             [
              0.5555555555555556,
              "#d8576b"
             ],
             [
              0.6666666666666666,
              "#ed7953"
             ],
             [
              0.7777777777777778,
              "#fb9f3a"
             ],
             [
              0.8888888888888888,
              "#fdca26"
             ],
             [
              1,
              "#f0f921"
             ]
            ],
            "type": "contour"
           }
          ],
          "contourcarpet": [
           {
            "colorbar": {
             "outlinewidth": 0,
             "ticks": ""
            },
            "type": "contourcarpet"
           }
          ],
          "heatmap": [
           {
            "colorbar": {
             "outlinewidth": 0,
             "ticks": ""
            },
            "colorscale": [
             [
              0,
              "#0d0887"
             ],
             [
              0.1111111111111111,
              "#46039f"
             ],
             [
              0.2222222222222222,
              "#7201a8"
             ],
             [
              0.3333333333333333,
              "#9c179e"
             ],
             [
              0.4444444444444444,
              "#bd3786"
             ],
             [
              0.5555555555555556,
              "#d8576b"
             ],
             [
              0.6666666666666666,
              "#ed7953"
             ],
             [
              0.7777777777777778,
              "#fb9f3a"
             ],
             [
              0.8888888888888888,
              "#fdca26"
             ],
             [
              1,
              "#f0f921"
             ]
            ],
            "type": "heatmap"
           }
          ],
          "heatmapgl": [
           {
            "colorbar": {
             "outlinewidth": 0,
             "ticks": ""
            },
            "colorscale": [
             [
              0,
              "#0d0887"
             ],
             [
              0.1111111111111111,
              "#46039f"
             ],
             [
              0.2222222222222222,
              "#7201a8"
             ],
             [
              0.3333333333333333,
              "#9c179e"
             ],
             [
              0.4444444444444444,
              "#bd3786"
             ],
             [
              0.5555555555555556,
              "#d8576b"
             ],
             [
              0.6666666666666666,
              "#ed7953"
             ],
             [
              0.7777777777777778,
              "#fb9f3a"
             ],
             [
              0.8888888888888888,
              "#fdca26"
             ],
             [
              1,
              "#f0f921"
             ]
            ],
            "type": "heatmapgl"
           }
          ],
          "histogram": [
           {
            "marker": {
             "pattern": {
              "fillmode": "overlay",
              "size": 10,
              "solidity": 0.2
             }
            },
            "type": "histogram"
           }
          ],
          "histogram2d": [
           {
            "colorbar": {
             "outlinewidth": 0,
             "ticks": ""
            },
            "colorscale": [
             [
              0,
              "#0d0887"
             ],
             [
              0.1111111111111111,
              "#46039f"
             ],
             [
              0.2222222222222222,
              "#7201a8"
             ],
             [
              0.3333333333333333,
              "#9c179e"
             ],
             [
              0.4444444444444444,
              "#bd3786"
             ],
             [
              0.5555555555555556,
              "#d8576b"
             ],
             [
              0.6666666666666666,
              "#ed7953"
             ],
             [
              0.7777777777777778,
              "#fb9f3a"
             ],
             [
              0.8888888888888888,
              "#fdca26"
             ],
             [
              1,
              "#f0f921"
             ]
            ],
            "type": "histogram2d"
           }
          ],
          "histogram2dcontour": [
           {
            "colorbar": {
             "outlinewidth": 0,
             "ticks": ""
            },
            "colorscale": [
             [
              0,
              "#0d0887"
             ],
             [
              0.1111111111111111,
              "#46039f"
             ],
             [
              0.2222222222222222,
              "#7201a8"
             ],
             [
              0.3333333333333333,
              "#9c179e"
             ],
             [
              0.4444444444444444,
              "#bd3786"
             ],
             [
              0.5555555555555556,
              "#d8576b"
             ],
             [
              0.6666666666666666,
              "#ed7953"
             ],
             [
              0.7777777777777778,
              "#fb9f3a"
             ],
             [
              0.8888888888888888,
              "#fdca26"
             ],
             [
              1,
              "#f0f921"
             ]
            ],
            "type": "histogram2dcontour"
           }
          ],
          "mesh3d": [
           {
            "colorbar": {
             "outlinewidth": 0,
             "ticks": ""
            },
            "type": "mesh3d"
           }
          ],
          "parcoords": [
           {
            "line": {
             "colorbar": {
              "outlinewidth": 0,
              "ticks": ""
             }
            },
            "type": "parcoords"
           }
          ],
          "pie": [
           {
            "automargin": true,
            "type": "pie"
           }
          ],
          "scatter": [
           {
            "marker": {
             "colorbar": {
              "outlinewidth": 0,
              "ticks": ""
             }
            },
            "type": "scatter"
           }
          ],
          "scatter3d": [
           {
            "line": {
             "colorbar": {
              "outlinewidth": 0,
              "ticks": ""
             }
            },
            "marker": {
             "colorbar": {
              "outlinewidth": 0,
              "ticks": ""
             }
            },
            "type": "scatter3d"
           }
          ],
          "scattercarpet": [
           {
            "marker": {
             "colorbar": {
              "outlinewidth": 0,
              "ticks": ""
             }
            },
            "type": "scattercarpet"
           }
          ],
          "scattergeo": [
           {
            "marker": {
             "colorbar": {
              "outlinewidth": 0,
              "ticks": ""
             }
            },
            "type": "scattergeo"
           }
          ],
          "scattergl": [
           {
            "marker": {
             "colorbar": {
              "outlinewidth": 0,
              "ticks": ""
             }
            },
            "type": "scattergl"
           }
          ],
          "scattermapbox": [
           {
            "marker": {
             "colorbar": {
              "outlinewidth": 0,
              "ticks": ""
             }
            },
            "type": "scattermapbox"
           }
          ],
          "scatterpolar": [
           {
            "marker": {
             "colorbar": {
              "outlinewidth": 0,
              "ticks": ""
             }
            },
            "type": "scatterpolar"
           }
          ],
          "scatterpolargl": [
           {
            "marker": {
             "colorbar": {
              "outlinewidth": 0,
              "ticks": ""
             }
            },
            "type": "scatterpolargl"
           }
          ],
          "scatterternary": [
           {
            "marker": {
             "colorbar": {
              "outlinewidth": 0,
              "ticks": ""
             }
            },
            "type": "scatterternary"
           }
          ],
          "surface": [
           {
            "colorbar": {
             "outlinewidth": 0,
             "ticks": ""
            },
            "colorscale": [
             [
              0,
              "#0d0887"
             ],
             [
              0.1111111111111111,
              "#46039f"
             ],
             [
              0.2222222222222222,
              "#7201a8"
             ],
             [
              0.3333333333333333,
              "#9c179e"
             ],
             [
              0.4444444444444444,
              "#bd3786"
             ],
             [
              0.5555555555555556,
              "#d8576b"
             ],
             [
              0.6666666666666666,
              "#ed7953"
             ],
             [
              0.7777777777777778,
              "#fb9f3a"
             ],
             [
              0.8888888888888888,
              "#fdca26"
             ],
             [
              1,
              "#f0f921"
             ]
            ],
            "type": "surface"
           }
          ],
          "table": [
           {
            "cells": {
             "fill": {
              "color": "#EBF0F8"
             },
             "line": {
              "color": "white"
             }
            },
            "header": {
             "fill": {
              "color": "#C8D4E3"
             },
             "line": {
              "color": "white"
             }
            },
            "type": "table"
           }
          ]
         },
         "layout": {
          "annotationdefaults": {
           "arrowcolor": "#2a3f5f",
           "arrowhead": 0,
           "arrowwidth": 1
          },
          "autotypenumbers": "strict",
          "coloraxis": {
           "colorbar": {
            "outlinewidth": 0,
            "ticks": ""
           }
          },
          "colorscale": {
           "diverging": [
            [
             0,
             "#8e0152"
            ],
            [
             0.1,
             "#c51b7d"
            ],
            [
             0.2,
             "#de77ae"
            ],
            [
             0.3,
             "#f1b6da"
            ],
            [
             0.4,
             "#fde0ef"
            ],
            [
             0.5,
             "#f7f7f7"
            ],
            [
             0.6,
             "#e6f5d0"
            ],
            [
             0.7,
             "#b8e186"
            ],
            [
             0.8,
             "#7fbc41"
            ],
            [
             0.9,
             "#4d9221"
            ],
            [
             1,
             "#276419"
            ]
           ],
           "sequential": [
            [
             0,
             "#0d0887"
            ],
            [
             0.1111111111111111,
             "#46039f"
            ],
            [
             0.2222222222222222,
             "#7201a8"
            ],
            [
             0.3333333333333333,
             "#9c179e"
            ],
            [
             0.4444444444444444,
             "#bd3786"
            ],
            [
             0.5555555555555556,
             "#d8576b"
            ],
            [
             0.6666666666666666,
             "#ed7953"
            ],
            [
             0.7777777777777778,
             "#fb9f3a"
            ],
            [
             0.8888888888888888,
             "#fdca26"
            ],
            [
             1,
             "#f0f921"
            ]
           ],
           "sequentialminus": [
            [
             0,
             "#0d0887"
            ],
            [
             0.1111111111111111,
             "#46039f"
            ],
            [
             0.2222222222222222,
             "#7201a8"
            ],
            [
             0.3333333333333333,
             "#9c179e"
            ],
            [
             0.4444444444444444,
             "#bd3786"
            ],
            [
             0.5555555555555556,
             "#d8576b"
            ],
            [
             0.6666666666666666,
             "#ed7953"
            ],
            [
             0.7777777777777778,
             "#fb9f3a"
            ],
            [
             0.8888888888888888,
             "#fdca26"
            ],
            [
             1,
             "#f0f921"
            ]
           ]
          },
          "colorway": [
           "#636efa",
           "#EF553B",
           "#00cc96",
           "#ab63fa",
           "#FFA15A",
           "#19d3f3",
           "#FF6692",
           "#B6E880",
           "#FF97FF",
           "#FECB52"
          ],
          "font": {
           "color": "#2a3f5f"
          },
          "geo": {
           "bgcolor": "white",
           "lakecolor": "white",
           "landcolor": "#E5ECF6",
           "showlakes": true,
           "showland": true,
           "subunitcolor": "white"
          },
          "hoverlabel": {
           "align": "left"
          },
          "hovermode": "closest",
          "mapbox": {
           "style": "light"
          },
          "paper_bgcolor": "white",
          "plot_bgcolor": "#E5ECF6",
          "polar": {
           "angularaxis": {
            "gridcolor": "white",
            "linecolor": "white",
            "ticks": ""
           },
           "bgcolor": "#E5ECF6",
           "radialaxis": {
            "gridcolor": "white",
            "linecolor": "white",
            "ticks": ""
           }
          },
          "scene": {
           "xaxis": {
            "backgroundcolor": "#E5ECF6",
            "gridcolor": "white",
            "gridwidth": 2,
            "linecolor": "white",
            "showbackground": true,
            "ticks": "",
            "zerolinecolor": "white"
           },
           "yaxis": {
            "backgroundcolor": "#E5ECF6",
            "gridcolor": "white",
            "gridwidth": 2,
            "linecolor": "white",
            "showbackground": true,
            "ticks": "",
            "zerolinecolor": "white"
           },
           "zaxis": {
            "backgroundcolor": "#E5ECF6",
            "gridcolor": "white",
            "gridwidth": 2,
            "linecolor": "white",
            "showbackground": true,
            "ticks": "",
            "zerolinecolor": "white"
           }
          },
          "shapedefaults": {
           "line": {
            "color": "#2a3f5f"
           }
          },
          "ternary": {
           "aaxis": {
            "gridcolor": "white",
            "linecolor": "white",
            "ticks": ""
           },
           "baxis": {
            "gridcolor": "white",
            "linecolor": "white",
            "ticks": ""
           },
           "bgcolor": "#E5ECF6",
           "caxis": {
            "gridcolor": "white",
            "linecolor": "white",
            "ticks": ""
           }
          },
          "title": {
           "x": 0.05
          },
          "xaxis": {
           "automargin": true,
           "gridcolor": "white",
           "linecolor": "white",
           "ticks": "",
           "title": {
            "standoff": 15
           },
           "zerolinecolor": "white",
           "zerolinewidth": 2
          },
          "yaxis": {
           "automargin": true,
           "gridcolor": "white",
           "linecolor": "white",
           "ticks": "",
           "title": {
            "standoff": 15
           },
           "zerolinecolor": "white",
           "zerolinewidth": 2
          }
         }
        },
        "xaxis": {
         "anchor": "y",
         "domain": [
          0,
          1
         ],
         "title": {
          "text": "Age"
         }
        },
        "yaxis": {
         "anchor": "x",
         "domain": [
          0,
          1
         ]
        }
       }
      }
     },
     "metadata": {},
     "output_type": "display_data"
    }
   ],
   "source": [
    "fig = px.box(data_frame=churn_data, x = 'Age', color='Exited')\n",
    "fig"
   ]
  },
  {
   "cell_type": "markdown",
   "metadata": {},
   "source": [
    "### 9.5. Постройте график, который показывает взаимосвязь кредитного рейтинга клиента и его предполагаемой зарплаты. Добавьте расцветку по признаку оттока клиентов. Какова взаимосвязь между признаками? Если не видите явной взаимосвязи, укажите это."
   ]
  },
  {
   "cell_type": "code",
   "execution_count": null,
   "metadata": {},
   "outputs": [
    {
     "data": {
      "application/vnd.plotly.v1+json": {
       "config": {
        "plotlyServerURL": "https://plot.ly"
       },
       "data": [
        {
         "hovertemplate": "Exited=exited<br>Salary=%{x}<br>CreditScore=%{y}<extra></extra>",
         "legendgroup": "exited",
         "marker": {
          "color": "#636efa",
          "symbol": "circle"
         },
         "mode": "markers",
         "name": "exited",
         "orientation": "v",
         "showlegend": true,
         "type": "scatter",
         "x": [
          145503.34999999998,
          169621.69,
          141959.11,
          146955.71,
          100615.14,
          81537.85,
          168816.73,
          77786.37,
          138340.285,
          179540.73,
          137702.01,
          62514.65,
          17376.57,
          139994.68,
          175753.55,
          83715.66,
          160810.85,
          49161.12,
          188484.52,
          66333.56,
          77661.12,
          178587.36,
          81014.5,
          147170.70500000002,
          89017.38,
          118372.55,
          136365,
          72876.43,
          160435.51333333334,
          37688.31,
          76655.97,
          76953.24333333333,
          78945.69499999999,
          183540.22,
          148330.97,
          121664.52500000001,
          198874.52,
          78728.545,
          145831.675,
          46607.705,
          128260.86,
          115684.82500000001,
          133919.44999999998,
          154344,
          140758.07,
          185750.02,
          67313.06999999999,
          123855.355,
          56767.67,
          128098.225,
          175343.66499999998,
          105066.985,
          62256.87,
          152278.92666666667,
          85937.52,
          145177.345,
          94354.505,
          126498.825,
          114573.785,
          63100.48666666667,
          57883.314,
          67231.08666666667,
          117609.94,
          87642.235,
          177753.945,
          93737.35500000001,
          116828.51,
          168034.83,
          26612.266666666666,
          119520.44666666666,
          110327.1,
          78850.435,
          95007.96666666667,
          163365.115,
          188426.13,
          125619.5,
          65864.45,
          53820.07666666666,
          88806.18,
          97030.14000000001,
          101178.57500000001,
          81123.59,
          61901.62,
          132305.932,
          138321.42333333334,
          194421.12,
          125869.56666666667,
          132468.76,
          71244.59,
          77946.69750000001,
          119540.98999999999,
          69105.195,
          73473.6675,
          123799.43333333333,
          95094.196,
          134241.13142857145,
          111166.964,
          120047.58333333333,
          126135.10666666664,
          91586.8,
          87436.29400000001,
          174248.52,
          125145.5325,
          112852.04166666669,
          106257.8675,
          89264.1,
          95998.8,
          118440.9475,
          116738.51571428574,
          141366.72333333336,
          119878.7075,
          135658.448,
          104188.08,
          58982.98,
          83577.776,
          79389.50333333333,
          93755.56125,
          82531.98000000001,
          114047.22499999999,
          152662.63333333333,
          199808.1,
          68334.53666666667,
          108005.435,
          101693.27499999998,
          99919.42571428571,
          92348.18428571428,
          82420.8325,
          144540.2175,
          70792.82333333335,
          87974.03857142858,
          102137.01833333333,
          130917.192,
          113590.94750000001,
          111231.41124999999,
          118483.92333333334,
          122676.435,
          132867.68333333332,
          91362.89,
          113625.47875000001,
          117379.73333333334,
          109455.515,
          33581.325,
          116890.69833333335,
          61272.85000000001,
          151230.16,
          102359.3075,
          97222.23,
          91433.06666666667,
          87759.37624999999,
          133977.306,
          79855.58,
          100760.08799999999,
          155043.782,
          85981.53,
          99686.08499999999,
          117619.74333333333,
          111577.9,
          118477.39400000001,
          75283.53,
          101177.08,
          118458.80727272727,
          104282.23,
          93793.8025,
          114351.435,
          104374.56,
          123567.88749999998,
          74592.90000000001,
          85053.70125000001,
          100480.10428571429,
          111708.84999999998,
          159456.998,
          49836.61000000001,
          57298.714,
          26939.4175,
          99371.95125000001,
          111995.70428571428,
          63293.443750000006,
          110091.8925,
          109738.78199999998,
          86523.592,
          68189.46875,
          127063.43428571428,
          138591.082,
          67691.39600000001,
          90384.41500000001,
          100660.49666666666,
          108741.81800000001,
          108609.44727272727,
          121359.81400000001,
          141971.08125000002,
          100668.95999999999,
          99515.675,
          79426.06333333334,
          93198.97777777776,
          96397.55333333334,
          89739.31300000001,
          84059.14666666667,
          116600.11,
          100580.18583333334,
          54858.015,
          119119.66625,
          110143.11875000001,
          80395.92499999999,
          74973.45,
          118338.43461538461,
          91377.91625,
          96474.41625,
          87523.30090909092,
          81139.0088888889,
          71881.14624999999,
          103394.2425,
          84591.34999999999,
          65626.2675,
          88931.23625,
          107870.06999999999,
          108367.14249999999,
          95910.27571428572,
          102803.681,
          84361.72,
          86237.96857142857,
          101121.9057142857,
          75386.52166666667,
          60179.612499999996,
          114590.45090909091,
          100051.56454545452,
          101532.969,
          120610.45857142856,
          115616.74416666666,
          105468.25,
          109872.1825,
          85297.7488235294,
          131459.95375,
          84625.98571428572,
          141971.44333333333,
          97153.72272727272,
          56159.899999999994,
          122641.14142857141,
          129113.88,
          121526.79999999997,
          152728.14571428573,
          114537.36375,
          64234.583333333336,
          73449.95999999999,
          135482.38428571427,
          66998.7875,
          116354.56000000001,
          107004.64090909089,
          126080.91875,
          107543.3642857143,
          157465.18375,
          116677.08750000001,
          81857.89142857144,
          65913.03,
          99611.39333333333,
          117180.6088888889,
          85204.03333333334,
          69136.514,
          142236.74384615384,
          163006.03249999997,
          89455.46857142856,
          59928.6825,
          78701.89125000002,
          77398.40428571429,
          69109.38,
          102340.284,
          86680.50857142858,
          115953.12125,
          113516.75375000002,
          84620.42333333332,
          107568.70250000001,
          131733.7875,
          115148.124,
          74870.7775,
          109500.59499999999,
          116623.57000000002,
          102083.12333333334,
          74239.78666666668,
          107320.63166666667,
          121980.45500000002,
          142944.27000000002,
          149132.5,
          63929.172,
          79502.49999999999,
          117305.41000000002,
          96474.61374999999,
          121383.00272727273,
          94978.19375000002,
          118279.3975,
          70044.26,
          97530.00100000002,
          40900.32400000001,
          97017.6575,
          125050.79666666666,
          72241.91666666666,
          114487.39199999999,
          21698.32,
          134410.85,
          81468.52,
          70278.21,
          100065.41222222222,
          101755.43000000001,
          74674.398,
          136748.066,
          143154.6,
          130420.29666666665,
          119228.9725,
          110742.45153846152,
          85855.93400000001,
          81883.446,
          73655.13333333335,
          114613.00666666667,
          81393.95142857144,
          48559.19,
          115837.23333333332,
          123346.14499999997,
          92181.50833333335,
          101185.54000000001,
          93520.70375000002,
          135659.51142857145,
          99403.68571428572,
          88651.3925,
          63162.5957142857,
          111981.67624999999,
          141746.53,
          93527.54285714286,
          81947.27333333333,
          102197.57888888888,
          105946.06999999999,
          110856.5525,
          97242.61374999999,
          97822.785,
          113599.32,
          103284.21111111112,
          78743.12666666666,
          95520.83666666666,
          99980.51142857144,
          49125.104,
          111928.85800000001,
          97588.19999999998,
          86920.97,
          93061.40428571428,
          77870.515,
          124907.18000000001,
          108395.9375,
          122859.63,
          78080.2725,
          74759.03666666667,
          111543.04750000002,
          83935.92199999999,
          98059.32833333335,
          108042.90000000001,
          98287.40666666666,
          113763.23,
          89167.05250000002,
          129525.5,
          91915.39499999999,
          126910.535,
          100028.34999999999,
          167908.83666666667,
          112767.09,
          105336.7475,
          113660.82,
          100083.21500000001,
          94851.45999999999,
          20955.03,
          125872.41333333333,
          86613.385,
          86634.5075,
          128855.33,
          79437.69200000001,
          123858.28333333334,
          148494.04499999998,
          61837.27,
          91986.765,
          49418.87,
          60888.443333333336,
          63034.445,
          98640.15,
          49485.32,
          91067.17666666665,
          8546.87,
          95192.532,
          85028.36,
          83237.735,
          35140.49,
          148044.56000000003,
          79912.225,
          114694.24666666666,
          134100.05333333334,
          62024.943333333336,
          71905.77,
          84399.1075,
          192298.84,
          96605.37999999999,
          39154.37,
          126241.4,
          9149.96,
          79815.27500000001,
          87474.89,
          26342.33,
          170256.40000000002,
          83611.45,
          125568.44666666667,
          28144.07,
          127804.66,
          37522.87,
          141524.64,
          81950.34,
          37141.62,
          150659.35,
          118642.92499999999,
          36687.11,
          134378.03999999998,
          87936.77,
          110103.18333333333,
          31726.76,
          35917.055,
          80104.615,
          170130.08000000002,
          91793.33837209301
         ],
         "xaxis": "x",
         "y": [
          350,
          351,
          358,
          359,
          363,
          365,
          367,
          373,
          376,
          382,
          383,
          386,
          395,
          399,
          401,
          404,
          405,
          407,
          408,
          410,
          414,
          415,
          418,
          420,
          421,
          423,
          425,
          428,
          430,
          431,
          432,
          434,
          435,
          436,
          437,
          438,
          439,
          443,
          444,
          445,
          446,
          447,
          453,
          454,
          456,
          457,
          459,
          460,
          461,
          465,
          466,
          467,
          468,
          469,
          473,
          474,
          475,
          476,
          477,
          478,
          479,
          480,
          481,
          482,
          483,
          484,
          485,
          486,
          487,
          489,
          490,
          491,
          492,
          493,
          494,
          495,
          496,
          497,
          498,
          499,
          500,
          501,
          502,
          504,
          505,
          506,
          507,
          508,
          509,
          510,
          511,
          512,
          513,
          514,
          515,
          516,
          517,
          518,
          519,
          520,
          521,
          522,
          523,
          524,
          525,
          526,
          527,
          528,
          529,
          530,
          531,
          532,
          533,
          534,
          535,
          536,
          537,
          538,
          539,
          540,
          541,
          542,
          543,
          544,
          545,
          546,
          547,
          548,
          549,
          550,
          551,
          552,
          553,
          554,
          555,
          556,
          557,
          558,
          559,
          560,
          561,
          562,
          563,
          564,
          565,
          566,
          567,
          568,
          569,
          570,
          571,
          572,
          573,
          574,
          575,
          576,
          577,
          578,
          579,
          580,
          581,
          582,
          583,
          584,
          585,
          586,
          587,
          588,
          589,
          590,
          591,
          592,
          593,
          594,
          595,
          596,
          597,
          598,
          599,
          600,
          601,
          602,
          603,
          604,
          605,
          606,
          607,
          608,
          609,
          610,
          611,
          612,
          613,
          614,
          615,
          616,
          617,
          618,
          619,
          620,
          621,
          622,
          623,
          624,
          625,
          626,
          627,
          628,
          629,
          630,
          631,
          632,
          633,
          634,
          635,
          636,
          637,
          638,
          639,
          640,
          641,
          642,
          643,
          644,
          645,
          646,
          647,
          648,
          649,
          650,
          651,
          652,
          653,
          654,
          655,
          656,
          657,
          658,
          659,
          660,
          661,
          662,
          663,
          664,
          665,
          666,
          667,
          668,
          669,
          670,
          671,
          672,
          673,
          674,
          675,
          676,
          677,
          678,
          679,
          680,
          681,
          682,
          683,
          684,
          685,
          686,
          687,
          688,
          689,
          690,
          691,
          692,
          693,
          694,
          695,
          696,
          697,
          698,
          699,
          700,
          701,
          702,
          703,
          704,
          705,
          706,
          707,
          708,
          709,
          710,
          711,
          712,
          713,
          714,
          715,
          716,
          717,
          718,
          719,
          720,
          721,
          722,
          723,
          724,
          725,
          726,
          727,
          728,
          729,
          730,
          731,
          732,
          733,
          734,
          735,
          736,
          737,
          738,
          739,
          740,
          741,
          742,
          743,
          744,
          745,
          746,
          747,
          748,
          749,
          750,
          751,
          752,
          753,
          754,
          755,
          756,
          757,
          758,
          760,
          761,
          762,
          763,
          764,
          765,
          766,
          767,
          768,
          769,
          770,
          771,
          772,
          773,
          774,
          775,
          776,
          777,
          778,
          779,
          780,
          781,
          782,
          783,
          785,
          786,
          787,
          788,
          789,
          790,
          791,
          792,
          793,
          794,
          795,
          796,
          797,
          798,
          799,
          800,
          802,
          803,
          804,
          805,
          806,
          807,
          808,
          809,
          811,
          812,
          813,
          815,
          816,
          817,
          818,
          819,
          820,
          821,
          822,
          823,
          824,
          825,
          826,
          828,
          829,
          831,
          832,
          833,
          834,
          835,
          836,
          838,
          839,
          840,
          841,
          842,
          844,
          845,
          846,
          847,
          849,
          850
         ],
         "yaxis": "y"
        },
        {
         "hovertemplate": "Exited=loyal<br>Salary=%{x}<br>CreditScore=%{y}<extra></extra>",
         "legendgroup": "loyal",
         "marker": {
          "color": "#EF553B",
          "symbol": "circle"
         },
         "mode": "markers",
         "name": "loyal",
         "orientation": "v",
         "showlegend": true,
         "type": "scatter",
         "x": [
          72950.14,
          124874.23,
          99778.105,
          86156.20749999999,
          12510.53,
          75466.27,
          93844.82,
          12710.95,
          94854.14749999999,
          55003.79,
          88695.394,
          134720.51,
          9904.63,
          54388.994999999995,
          51959.02,
          16250.61,
          170271.55666666667,
          84553.87,
          66253.41166666667,
          56434.6,
          77188.4275,
          67023.35666666667,
          112021.0275,
          92103.95,
          87032.75,
          61790.9,
          123461.27,
          35687.43,
          116321.50600000001,
          73910.415,
          114865.54666666668,
          49826.68,
          174381.23,
          68343.08,
          60247.54750000001,
          138594.7225,
          113683.647,
          143000.11250000002,
          113612,
          88607.63,
          131303.935,
          117162.9925,
          120209.134,
          106051.604,
          91831.31333333334,
          146759.82333333333,
          84099.91499999998,
          118087.6725,
          143235.94,
          89088.04714285713,
          102868.66,
          158146.05,
          120894.41571428571,
          103697.73500000002,
          79615.2225,
          118445.12428571426,
          121390.46714285715,
          101263.99500000001,
          60932.365000000005,
          126914.907,
          120452.185,
          80771.01444444444,
          111372.09428571428,
          68006.08625,
          106074.81428571428,
          113123.67142857143,
          95032.64,
          91046.70000000001,
          130011.68888888888,
          133012.20500000002,
          95941.03583333333,
          115218.39333333333,
          95860.4775,
          75812.9825,
          88234.58600000001,
          107364.19444444444,
          102364.03818181815,
          79651.20125,
          106281.20818181816,
          99828.36499999999,
          117048.03555555554,
          105987.12727272726,
          105735.1075,
          118460.75333333334,
          85721.698,
          83382.30416666667,
          97032.665,
          119885.26777777777,
          89447.52083333333,
          112407.60076923078,
          96598.5475,
          131122.32666666666,
          98497.78222222225,
          95259.43363636364,
          114411.5823076923,
          92095.83888888889,
          118160.07,
          95204.31066666667,
          96756.30866666666,
          94037.03000000001,
          98792.77500000001,
          84984.152,
          132623.30545454545,
          83266.122,
          108106.36384615386,
          60733.31125,
          120523.55272727272,
          101969.17217391302,
          70792.005,
          114714.6125,
          114534.89727272728,
          70794.51095238095,
          77533.43857142859,
          113475.2175,
          104297.17882352941,
          125545.41615384616,
          114518.93666666666,
          92740.31444444445,
          107828.60062499999,
          109763.39999999998,
          77689.56521739131,
          107236.969375,
          78677.81764705882,
          75696.22624999999,
          113694.79142857142,
          90419.93571428572,
          97046.8505263158,
          74244.62363636364,
          102109.2835,
          93977.49374999998,
          85738.32523809522,
          96360.81285714284,
          90463.12384615386,
          82433.69941176473,
          106163.22185185186,
          95816.40263157894,
          119799.37058823528,
          102672.68090909091,
          84737.95714285717,
          85918.07352941178,
          92167.42222222225,
          126492.37041666666,
          100817.88533333334,
          79125.33749999998,
          79729.52900000001,
          116565.78818181818,
          106032.87652173913,
          114205.73052631579,
          96018.88277777779,
          131681.37421052632,
          95785.0376,
          81814.369375,
          84436.2823809524,
          90523.10086956523,
          60446.20846153846,
          91889.66222222224,
          104499.7257894737,
          109559.9690909091,
          95135.47538461538,
          90188.36647058824,
          121917.34666666668,
          100166.86,
          104337.59916666667,
          95136.35277777779,
          102844.58692307693,
          92576.84157894737,
          93069.349,
          89521.53388888891,
          115915.48166666669,
          102181.35352941175,
          91293.05066666663,
          96103.56333333332,
          96517.89814814815,
          86899.83,
          73531.82655172417,
          109269.42028571427,
          96878.83000000002,
          79164.16769230769,
          84113.03959999999,
          93175.5723076923,
          95816.26130434782,
          103109.43433333332,
          95287.13730769232,
          87790.21375000001,
          94399.9021212121,
          103978.03586206898,
          101740.55666666667,
          84681.09565217393,
          93239.17125,
          119706.13636363634,
          99318.09958333331,
          86589.69074074074,
          100793.2271875,
          103835.17777777778,
          96409.20347826085,
          88278.76310344828,
          100390.5921212121,
          112222.26903225806,
          111267.15548387099,
          100570.33031250002,
          104502.52639999999,
          110960.62857142856,
          106279.25033333336,
          123242.85999999999,
          96681.63444444444,
          94504.67178571431,
          107020.06793103447,
          103170.89703703702,
          100716.33199999998,
          93398.90631578946,
          97376.60562500003,
          85988.84413793104,
          84698.75000000001,
          98327.50142857144,
          102601.51249999998,
          107973.98599999998,
          104355.17899999997,
          91268.9355,
          122465.77888888889,
          106212.32624999998,
          93892.0257142857,
          97990.32333333333,
          110055.41896551725,
          104302.64575757574,
          97611.04658536587,
          105366.6015625,
          112487.09242424245,
          90043.8214285714,
          115022.60343749999,
          90274.15958333336,
          104091.3336111111,
          100237.1945,
          85793.77290322584,
          98804.95774193548,
          108727.96821428569,
          82229.515,
          86212.82029411767,
          96398.42588235294,
          95199.56916666665,
          99020.76472222226,
          91191.29433333335,
          91777.28034482757,
          113446.7290909091,
          121111.32899999998,
          76327.47233333335,
          112953.60814814812,
          96937.39930232558,
          99511.35914285715,
          75407.99719999998,
          95358.80655172412,
          106188.82068965519,
          102812.56731707319,
          98304.1314814815,
          94614.79548387096,
          105854.55384615384,
          116846.8112,
          107964.2256,
          95531.75387096773,
          81911.93428571429,
          92898.60592592592,
          113135.99551724135,
          93786.6461904762,
          100612.71633333332,
          116504.69349999998,
          85997.15933333336,
          94710.89916666667,
          85875.32142857143,
          96492.54233333333,
          98279.17799999999,
          88391.64460000003,
          100723.73902439025,
          93444.75484848487,
          102121.98914285716,
          97753.36846153847,
          102613.58390243906,
          109634.2641860465,
          113822.9483333333,
          111123.56368421055,
          98908.69783783783,
          129768.82045454545,
          112525.99833333334,
          95341.4064,
          106739.33615384616,
          107246.37409090911,
          88676.79160000003,
          84588.91275862067,
          92896.73312500001,
          97660.93314285715,
          90145.19444444444,
          85891.21344827584,
          110842.45794117649,
          113353.55481481484,
          99251.59128205127,
          101665.22136363639,
          93334.37333333331,
          125940.6656,
          92951.11675675675,
          82016.82090909091,
          101039.35499999998,
          84957.42150000001,
          94601.26212121214,
          93907.89657142859,
          81386.87794117647,
          116627.82027027028,
          93732.91705882351,
          101078.46179487176,
          104876.7181818182,
          117440.9877272727,
          112662.75724137931,
          78241.08742857144,
          118422.68500000001,
          108179.25157894737,
          97392.87384615386,
          120421.54470588233,
          90117.30866666666,
          93585.5384375,
          118590.01166666666,
          84663.004,
          102242.45999999998,
          89969.89444444444,
          102784.6723076923,
          119049.958,
          133747.26280000003,
          122381.97727272728,
          94673.60137931035,
          80061.63764705883,
          94835.02199999998,
          101575.88285714285,
          90127.7335294118,
          87379.97260869565,
          117465.6355,
          81012.66416666667,
          85121.75608695652,
          74981.49142857143,
          113578.60714285716,
          103608.59653846153,
          108850.0377272727,
          106375.004,
          114133.17461538462,
          105966.28041666666,
          92767.32,
          71150.04352941175,
          82771.37913043478,
          100236.13380952382,
          109992.43117647059,
          80968.07619047619,
          90743.39428571428,
          107430.90913043478,
          131220.0648,
          91123.12272727274,
          88810.78157894737,
          103534.36642857143,
          130625.269,
          114277.49999999997,
          73686.674375,
          109485.10785714285,
          92609.30666666666,
          74342.7075,
          100173.92941176471,
          74428.95583333334,
          96430.764,
          111950.228,
          80668.99615384615,
          91082.18538461538,
          89380.80086956522,
          90628.32,
          98559.43624999998,
          122178.55588235296,
          90247.06375,
          123047.62833333334,
          91959.47499999999,
          94354.93375,
          106818.34399999997,
          111688.0307142857,
          111672.78,
          127416.77333333336,
          110621.1175,
          94553.45062500003,
          71529.10769230769,
          83083.159,
          96004.25444444445,
          133659.4857894737,
          114355.95555555557,
          96200.75615384615,
          109156.77333333335,
          103896.20882352942,
          160046.00625000003,
          102705.45230769232,
          104166.04384615387,
          108397.317,
          96876.11200000001,
          95929.25444444445,
          72805.20857142858,
          122067.35333333335,
          104681.73749999999,
          117407.15857142855,
          66663.95,
          107332.91142857145,
          103551.16533333334,
          111086.92,
          134679.92833333334,
          110944.93666666666,
          114456.86000000002,
          137834.0033333333,
          78122.06375,
          144566.1890909091,
          129711.83249999999,
          63896.404,
          93891.77,
          99199.58200000001,
          79547.58,
          75447.905,
          89478.59428571428,
          81933.98749999999,
          136903.418,
          97127.544,
          66225.77285714287,
          145788.848,
          94174.524,
          121575.41777777778,
          63906.86,
          50567.450000000004,
          120625.834,
          100252.09000000001,
          97526.64857142858,
          68514.90625,
          98497.5088888889,
          119081.5875,
          91413.92749999999,
          78952.82285714286,
          62674.42,
          92718.555,
          138255.214,
          87630.56,
          39149.134999999995,
          133982.515,
          136830.83,
          108445.01333333335,
          107291.3075,
          130616.95800000001,
          123653.06333333334,
          96853.09942105267
         ],
         "xaxis": "x",
         "y": [
          405,
          408,
          410,
          411,
          412,
          413,
          414,
          415,
          416,
          417,
          418,
          419,
          420,
          421,
          422,
          424,
          425,
          426,
          427,
          428,
          429,
          430,
          431,
          432,
          433,
          434,
          435,
          436,
          437,
          438,
          439,
          440,
          441,
          442,
          443,
          444,
          445,
          446,
          447,
          448,
          449,
          450,
          451,
          452,
          453,
          454,
          455,
          456,
          457,
          458,
          459,
          460,
          461,
          462,
          463,
          464,
          465,
          466,
          467,
          468,
          469,
          470,
          471,
          472,
          473,
          474,
          475,
          476,
          477,
          478,
          479,
          480,
          481,
          482,
          483,
          484,
          485,
          486,
          487,
          488,
          489,
          490,
          491,
          492,
          493,
          494,
          495,
          496,
          497,
          498,
          499,
          500,
          501,
          502,
          503,
          504,
          505,
          506,
          507,
          508,
          509,
          510,
          511,
          512,
          513,
          514,
          515,
          516,
          517,
          518,
          519,
          520,
          521,
          522,
          523,
          524,
          525,
          526,
          527,
          528,
          529,
          530,
          531,
          532,
          533,
          534,
          535,
          536,
          537,
          538,
          539,
          540,
          541,
          542,
          543,
          544,
          545,
          546,
          547,
          548,
          549,
          550,
          551,
          552,
          553,
          554,
          555,
          556,
          557,
          558,
          559,
          560,
          561,
          562,
          563,
          564,
          565,
          566,
          567,
          568,
          569,
          570,
          571,
          572,
          573,
          574,
          575,
          576,
          577,
          578,
          579,
          580,
          581,
          582,
          583,
          584,
          585,
          586,
          587,
          588,
          589,
          590,
          591,
          592,
          593,
          594,
          595,
          596,
          597,
          598,
          599,
          600,
          601,
          602,
          603,
          604,
          605,
          606,
          607,
          608,
          609,
          610,
          611,
          612,
          613,
          614,
          615,
          616,
          617,
          618,
          619,
          620,
          621,
          622,
          623,
          624,
          625,
          626,
          627,
          628,
          629,
          630,
          631,
          632,
          633,
          634,
          635,
          636,
          637,
          638,
          639,
          640,
          641,
          642,
          643,
          644,
          645,
          646,
          647,
          648,
          649,
          650,
          651,
          652,
          653,
          654,
          655,
          656,
          657,
          658,
          659,
          660,
          661,
          662,
          663,
          664,
          665,
          666,
          667,
          668,
          669,
          670,
          671,
          672,
          673,
          674,
          675,
          676,
          677,
          678,
          679,
          680,
          681,
          682,
          683,
          684,
          685,
          686,
          687,
          688,
          689,
          690,
          691,
          692,
          693,
          694,
          695,
          696,
          697,
          698,
          699,
          700,
          701,
          702,
          703,
          704,
          705,
          706,
          707,
          708,
          709,
          710,
          711,
          712,
          713,
          714,
          715,
          716,
          717,
          718,
          719,
          720,
          721,
          722,
          723,
          724,
          725,
          726,
          727,
          728,
          729,
          730,
          731,
          732,
          733,
          734,
          735,
          736,
          737,
          738,
          739,
          740,
          741,
          742,
          743,
          744,
          745,
          746,
          747,
          748,
          749,
          750,
          751,
          752,
          753,
          754,
          755,
          756,
          757,
          758,
          759,
          760,
          761,
          762,
          763,
          764,
          765,
          766,
          767,
          768,
          769,
          770,
          771,
          772,
          773,
          774,
          775,
          776,
          777,
          778,
          779,
          780,
          781,
          782,
          783,
          784,
          785,
          786,
          787,
          788,
          789,
          790,
          791,
          792,
          793,
          794,
          795,
          796,
          797,
          798,
          799,
          800,
          801,
          802,
          803,
          804,
          805,
          806,
          807,
          808,
          809,
          810,
          811,
          812,
          813,
          814,
          815,
          816,
          817,
          818,
          819,
          820,
          821,
          822,
          823,
          824,
          825,
          826,
          827,
          828,
          829,
          830,
          831,
          832,
          833,
          834,
          835,
          836,
          837,
          838,
          839,
          840,
          841,
          842,
          843,
          844,
          845,
          846,
          847,
          848,
          849,
          850
         ],
         "yaxis": "y"
        }
       ],
       "layout": {
        "legend": {
         "title": {
          "text": "Exited"
         },
         "tracegroupgap": 0
        },
        "margin": {
         "t": 60
        },
        "template": {
         "data": {
          "bar": [
           {
            "error_x": {
             "color": "#2a3f5f"
            },
            "error_y": {
             "color": "#2a3f5f"
            },
            "marker": {
             "line": {
              "color": "#E5ECF6",
              "width": 0.5
             },
             "pattern": {
              "fillmode": "overlay",
              "size": 10,
              "solidity": 0.2
             }
            },
            "type": "bar"
           }
          ],
          "barpolar": [
           {
            "marker": {
             "line": {
              "color": "#E5ECF6",
              "width": 0.5
             },
             "pattern": {
              "fillmode": "overlay",
              "size": 10,
              "solidity": 0.2
             }
            },
            "type": "barpolar"
           }
          ],
          "carpet": [
           {
            "aaxis": {
             "endlinecolor": "#2a3f5f",
             "gridcolor": "white",
             "linecolor": "white",
             "minorgridcolor": "white",
             "startlinecolor": "#2a3f5f"
            },
            "baxis": {
             "endlinecolor": "#2a3f5f",
             "gridcolor": "white",
             "linecolor": "white",
             "minorgridcolor": "white",
             "startlinecolor": "#2a3f5f"
            },
            "type": "carpet"
           }
          ],
          "choropleth": [
           {
            "colorbar": {
             "outlinewidth": 0,
             "ticks": ""
            },
            "type": "choropleth"
           }
          ],
          "contour": [
           {
            "colorbar": {
             "outlinewidth": 0,
             "ticks": ""
            },
            "colorscale": [
             [
              0,
              "#0d0887"
             ],
             [
              0.1111111111111111,
              "#46039f"
             ],
             [
              0.2222222222222222,
              "#7201a8"
             ],
             [
              0.3333333333333333,
              "#9c179e"
             ],
             [
              0.4444444444444444,
              "#bd3786"
             ],
             [
              0.5555555555555556,
              "#d8576b"
             ],
             [
              0.6666666666666666,
              "#ed7953"
             ],
             [
              0.7777777777777778,
              "#fb9f3a"
             ],
             [
              0.8888888888888888,
              "#fdca26"
             ],
             [
              1,
              "#f0f921"
             ]
            ],
            "type": "contour"
           }
          ],
          "contourcarpet": [
           {
            "colorbar": {
             "outlinewidth": 0,
             "ticks": ""
            },
            "type": "contourcarpet"
           }
          ],
          "heatmap": [
           {
            "colorbar": {
             "outlinewidth": 0,
             "ticks": ""
            },
            "colorscale": [
             [
              0,
              "#0d0887"
             ],
             [
              0.1111111111111111,
              "#46039f"
             ],
             [
              0.2222222222222222,
              "#7201a8"
             ],
             [
              0.3333333333333333,
              "#9c179e"
             ],
             [
              0.4444444444444444,
              "#bd3786"
             ],
             [
              0.5555555555555556,
              "#d8576b"
             ],
             [
              0.6666666666666666,
              "#ed7953"
             ],
             [
              0.7777777777777778,
              "#fb9f3a"
             ],
             [
              0.8888888888888888,
              "#fdca26"
             ],
             [
              1,
              "#f0f921"
             ]
            ],
            "type": "heatmap"
           }
          ],
          "heatmapgl": [
           {
            "colorbar": {
             "outlinewidth": 0,
             "ticks": ""
            },
            "colorscale": [
             [
              0,
              "#0d0887"
             ],
             [
              0.1111111111111111,
              "#46039f"
             ],
             [
              0.2222222222222222,
              "#7201a8"
             ],
             [
              0.3333333333333333,
              "#9c179e"
             ],
             [
              0.4444444444444444,
              "#bd3786"
             ],
             [
              0.5555555555555556,
              "#d8576b"
             ],
             [
              0.6666666666666666,
              "#ed7953"
             ],
             [
              0.7777777777777778,
              "#fb9f3a"
             ],
             [
              0.8888888888888888,
              "#fdca26"
             ],
             [
              1,
              "#f0f921"
             ]
            ],
            "type": "heatmapgl"
           }
          ],
          "histogram": [
           {
            "marker": {
             "pattern": {
              "fillmode": "overlay",
              "size": 10,
              "solidity": 0.2
             }
            },
            "type": "histogram"
           }
          ],
          "histogram2d": [
           {
            "colorbar": {
             "outlinewidth": 0,
             "ticks": ""
            },
            "colorscale": [
             [
              0,
              "#0d0887"
             ],
             [
              0.1111111111111111,
              "#46039f"
             ],
             [
              0.2222222222222222,
              "#7201a8"
             ],
             [
              0.3333333333333333,
              "#9c179e"
             ],
             [
              0.4444444444444444,
              "#bd3786"
             ],
             [
              0.5555555555555556,
              "#d8576b"
             ],
             [
              0.6666666666666666,
              "#ed7953"
             ],
             [
              0.7777777777777778,
              "#fb9f3a"
             ],
             [
              0.8888888888888888,
              "#fdca26"
             ],
             [
              1,
              "#f0f921"
             ]
            ],
            "type": "histogram2d"
           }
          ],
          "histogram2dcontour": [
           {
            "colorbar": {
             "outlinewidth": 0,
             "ticks": ""
            },
            "colorscale": [
             [
              0,
              "#0d0887"
             ],
             [
              0.1111111111111111,
              "#46039f"
             ],
             [
              0.2222222222222222,
              "#7201a8"
             ],
             [
              0.3333333333333333,
              "#9c179e"
             ],
             [
              0.4444444444444444,
              "#bd3786"
             ],
             [
              0.5555555555555556,
              "#d8576b"
             ],
             [
              0.6666666666666666,
              "#ed7953"
             ],
             [
              0.7777777777777778,
              "#fb9f3a"
             ],
             [
              0.8888888888888888,
              "#fdca26"
             ],
             [
              1,
              "#f0f921"
             ]
            ],
            "type": "histogram2dcontour"
           }
          ],
          "mesh3d": [
           {
            "colorbar": {
             "outlinewidth": 0,
             "ticks": ""
            },
            "type": "mesh3d"
           }
          ],
          "parcoords": [
           {
            "line": {
             "colorbar": {
              "outlinewidth": 0,
              "ticks": ""
             }
            },
            "type": "parcoords"
           }
          ],
          "pie": [
           {
            "automargin": true,
            "type": "pie"
           }
          ],
          "scatter": [
           {
            "marker": {
             "colorbar": {
              "outlinewidth": 0,
              "ticks": ""
             }
            },
            "type": "scatter"
           }
          ],
          "scatter3d": [
           {
            "line": {
             "colorbar": {
              "outlinewidth": 0,
              "ticks": ""
             }
            },
            "marker": {
             "colorbar": {
              "outlinewidth": 0,
              "ticks": ""
             }
            },
            "type": "scatter3d"
           }
          ],
          "scattercarpet": [
           {
            "marker": {
             "colorbar": {
              "outlinewidth": 0,
              "ticks": ""
             }
            },
            "type": "scattercarpet"
           }
          ],
          "scattergeo": [
           {
            "marker": {
             "colorbar": {
              "outlinewidth": 0,
              "ticks": ""
             }
            },
            "type": "scattergeo"
           }
          ],
          "scattergl": [
           {
            "marker": {
             "colorbar": {
              "outlinewidth": 0,
              "ticks": ""
             }
            },
            "type": "scattergl"
           }
          ],
          "scattermapbox": [
           {
            "marker": {
             "colorbar": {
              "outlinewidth": 0,
              "ticks": ""
             }
            },
            "type": "scattermapbox"
           }
          ],
          "scatterpolar": [
           {
            "marker": {
             "colorbar": {
              "outlinewidth": 0,
              "ticks": ""
             }
            },
            "type": "scatterpolar"
           }
          ],
          "scatterpolargl": [
           {
            "marker": {
             "colorbar": {
              "outlinewidth": 0,
              "ticks": ""
             }
            },
            "type": "scatterpolargl"
           }
          ],
          "scatterternary": [
           {
            "marker": {
             "colorbar": {
              "outlinewidth": 0,
              "ticks": ""
             }
            },
            "type": "scatterternary"
           }
          ],
          "surface": [
           {
            "colorbar": {
             "outlinewidth": 0,
             "ticks": ""
            },
            "colorscale": [
             [
              0,
              "#0d0887"
             ],
             [
              0.1111111111111111,
              "#46039f"
             ],
             [
              0.2222222222222222,
              "#7201a8"
             ],
             [
              0.3333333333333333,
              "#9c179e"
             ],
             [
              0.4444444444444444,
              "#bd3786"
             ],
             [
              0.5555555555555556,
              "#d8576b"
             ],
             [
              0.6666666666666666,
              "#ed7953"
             ],
             [
              0.7777777777777778,
              "#fb9f3a"
             ],
             [
              0.8888888888888888,
              "#fdca26"
             ],
             [
              1,
              "#f0f921"
             ]
            ],
            "type": "surface"
           }
          ],
          "table": [
           {
            "cells": {
             "fill": {
              "color": "#EBF0F8"
             },
             "line": {
              "color": "white"
             }
            },
            "header": {
             "fill": {
              "color": "#C8D4E3"
             },
             "line": {
              "color": "white"
             }
            },
            "type": "table"
           }
          ]
         },
         "layout": {
          "annotationdefaults": {
           "arrowcolor": "#2a3f5f",
           "arrowhead": 0,
           "arrowwidth": 1
          },
          "autotypenumbers": "strict",
          "coloraxis": {
           "colorbar": {
            "outlinewidth": 0,
            "ticks": ""
           }
          },
          "colorscale": {
           "diverging": [
            [
             0,
             "#8e0152"
            ],
            [
             0.1,
             "#c51b7d"
            ],
            [
             0.2,
             "#de77ae"
            ],
            [
             0.3,
             "#f1b6da"
            ],
            [
             0.4,
             "#fde0ef"
            ],
            [
             0.5,
             "#f7f7f7"
            ],
            [
             0.6,
             "#e6f5d0"
            ],
            [
             0.7,
             "#b8e186"
            ],
            [
             0.8,
             "#7fbc41"
            ],
            [
             0.9,
             "#4d9221"
            ],
            [
             1,
             "#276419"
            ]
           ],
           "sequential": [
            [
             0,
             "#0d0887"
            ],
            [
             0.1111111111111111,
             "#46039f"
            ],
            [
             0.2222222222222222,
             "#7201a8"
            ],
            [
             0.3333333333333333,
             "#9c179e"
            ],
            [
             0.4444444444444444,
             "#bd3786"
            ],
            [
             0.5555555555555556,
             "#d8576b"
            ],
            [
             0.6666666666666666,
             "#ed7953"
            ],
            [
             0.7777777777777778,
             "#fb9f3a"
            ],
            [
             0.8888888888888888,
             "#fdca26"
            ],
            [
             1,
             "#f0f921"
            ]
           ],
           "sequentialminus": [
            [
             0,
             "#0d0887"
            ],
            [
             0.1111111111111111,
             "#46039f"
            ],
            [
             0.2222222222222222,
             "#7201a8"
            ],
            [
             0.3333333333333333,
             "#9c179e"
            ],
            [
             0.4444444444444444,
             "#bd3786"
            ],
            [
             0.5555555555555556,
             "#d8576b"
            ],
            [
             0.6666666666666666,
             "#ed7953"
            ],
            [
             0.7777777777777778,
             "#fb9f3a"
            ],
            [
             0.8888888888888888,
             "#fdca26"
            ],
            [
             1,
             "#f0f921"
            ]
           ]
          },
          "colorway": [
           "#636efa",
           "#EF553B",
           "#00cc96",
           "#ab63fa",
           "#FFA15A",
           "#19d3f3",
           "#FF6692",
           "#B6E880",
           "#FF97FF",
           "#FECB52"
          ],
          "font": {
           "color": "#2a3f5f"
          },
          "geo": {
           "bgcolor": "white",
           "lakecolor": "white",
           "landcolor": "#E5ECF6",
           "showlakes": true,
           "showland": true,
           "subunitcolor": "white"
          },
          "hoverlabel": {
           "align": "left"
          },
          "hovermode": "closest",
          "mapbox": {
           "style": "light"
          },
          "paper_bgcolor": "white",
          "plot_bgcolor": "#E5ECF6",
          "polar": {
           "angularaxis": {
            "gridcolor": "white",
            "linecolor": "white",
            "ticks": ""
           },
           "bgcolor": "#E5ECF6",
           "radialaxis": {
            "gridcolor": "white",
            "linecolor": "white",
            "ticks": ""
           }
          },
          "scene": {
           "xaxis": {
            "backgroundcolor": "#E5ECF6",
            "gridcolor": "white",
            "gridwidth": 2,
            "linecolor": "white",
            "showbackground": true,
            "ticks": "",
            "zerolinecolor": "white"
           },
           "yaxis": {
            "backgroundcolor": "#E5ECF6",
            "gridcolor": "white",
            "gridwidth": 2,
            "linecolor": "white",
            "showbackground": true,
            "ticks": "",
            "zerolinecolor": "white"
           },
           "zaxis": {
            "backgroundcolor": "#E5ECF6",
            "gridcolor": "white",
            "gridwidth": 2,
            "linecolor": "white",
            "showbackground": true,
            "ticks": "",
            "zerolinecolor": "white"
           }
          },
          "shapedefaults": {
           "line": {
            "color": "#2a3f5f"
           }
          },
          "ternary": {
           "aaxis": {
            "gridcolor": "white",
            "linecolor": "white",
            "ticks": ""
           },
           "baxis": {
            "gridcolor": "white",
            "linecolor": "white",
            "ticks": ""
           },
           "bgcolor": "#E5ECF6",
           "caxis": {
            "gridcolor": "white",
            "linecolor": "white",
            "ticks": ""
           }
          },
          "title": {
           "x": 0.05
          },
          "xaxis": {
           "automargin": true,
           "gridcolor": "white",
           "linecolor": "white",
           "ticks": "",
           "title": {
            "standoff": 15
           },
           "zerolinecolor": "white",
           "zerolinewidth": 2
          },
          "yaxis": {
           "automargin": true,
           "gridcolor": "white",
           "linecolor": "white",
           "ticks": "",
           "title": {
            "standoff": 15
           },
           "zerolinecolor": "white",
           "zerolinewidth": 2
          }
         }
        },
        "xaxis": {
         "anchor": "y",
         "domain": [
          0,
          1
         ],
         "title": {
          "text": "Salary"
         }
        },
        "yaxis": {
         "anchor": "x",
         "domain": [
          0,
          1
         ],
         "title": {
          "text": "CreditScore"
         }
        }
       }
      }
     },
     "metadata": {},
     "output_type": "display_data"
    }
   ],
   "source": [
    "credit_data = churn_data.groupby(['CreditScore', 'Exited'], as_index=False)['EstimatedSalary'].mean()\n",
    "credit_data.columns=['CreditScore', 'Exited', 'Salary']\n",
    "\n",
    "fig = px.scatter(credit_data,  x='Salary', y = 'CreditScore', color='Exited')\n",
    "fig"
   ]
  },
  {
   "cell_type": "markdown",
   "metadata": {},
   "source": [
    "### 9.6. Кто чаще уходит, мужчины или женщины? Постройте график, который иллюстрирует это."
   ]
  },
  {
   "cell_type": "code",
   "execution_count": null,
   "metadata": {},
   "outputs": [
    {
     "data": {
      "application/vnd.plotly.v1+json": {
       "config": {
        "plotlyServerURL": "https://plot.ly"
       },
       "data": [
        {
         "domain": {
          "x": [
           0,
           1
          ],
          "y": [
           0,
           1
          ]
         },
         "hole": 0.3,
         "hovertemplate": "index=%{label}<br>value=%{value}<extra></extra>",
         "labels": [
          "Female",
          "Male"
         ],
         "legendgroup": "",
         "name": "",
         "showlegend": true,
         "type": "pie",
         "values": [
          1139,
          898
         ]
        }
       ],
       "layout": {
        "height": 400,
        "legend": {
         "tracegroupgap": 0
        },
        "template": {
         "data": {
          "bar": [
           {
            "error_x": {
             "color": "#2a3f5f"
            },
            "error_y": {
             "color": "#2a3f5f"
            },
            "marker": {
             "line": {
              "color": "#E5ECF6",
              "width": 0.5
             },
             "pattern": {
              "fillmode": "overlay",
              "size": 10,
              "solidity": 0.2
             }
            },
            "type": "bar"
           }
          ],
          "barpolar": [
           {
            "marker": {
             "line": {
              "color": "#E5ECF6",
              "width": 0.5
             },
             "pattern": {
              "fillmode": "overlay",
              "size": 10,
              "solidity": 0.2
             }
            },
            "type": "barpolar"
           }
          ],
          "carpet": [
           {
            "aaxis": {
             "endlinecolor": "#2a3f5f",
             "gridcolor": "white",
             "linecolor": "white",
             "minorgridcolor": "white",
             "startlinecolor": "#2a3f5f"
            },
            "baxis": {
             "endlinecolor": "#2a3f5f",
             "gridcolor": "white",
             "linecolor": "white",
             "minorgridcolor": "white",
             "startlinecolor": "#2a3f5f"
            },
            "type": "carpet"
           }
          ],
          "choropleth": [
           {
            "colorbar": {
             "outlinewidth": 0,
             "ticks": ""
            },
            "type": "choropleth"
           }
          ],
          "contour": [
           {
            "colorbar": {
             "outlinewidth": 0,
             "ticks": ""
            },
            "colorscale": [
             [
              0,
              "#0d0887"
             ],
             [
              0.1111111111111111,
              "#46039f"
             ],
             [
              0.2222222222222222,
              "#7201a8"
             ],
             [
              0.3333333333333333,
              "#9c179e"
             ],
             [
              0.4444444444444444,
              "#bd3786"
             ],
             [
              0.5555555555555556,
              "#d8576b"
             ],
             [
              0.6666666666666666,
              "#ed7953"
             ],
             [
              0.7777777777777778,
              "#fb9f3a"
             ],
             [
              0.8888888888888888,
              "#fdca26"
             ],
             [
              1,
              "#f0f921"
             ]
            ],
            "type": "contour"
           }
          ],
          "contourcarpet": [
           {
            "colorbar": {
             "outlinewidth": 0,
             "ticks": ""
            },
            "type": "contourcarpet"
           }
          ],
          "heatmap": [
           {
            "colorbar": {
             "outlinewidth": 0,
             "ticks": ""
            },
            "colorscale": [
             [
              0,
              "#0d0887"
             ],
             [
              0.1111111111111111,
              "#46039f"
             ],
             [
              0.2222222222222222,
              "#7201a8"
             ],
             [
              0.3333333333333333,
              "#9c179e"
             ],
             [
              0.4444444444444444,
              "#bd3786"
             ],
             [
              0.5555555555555556,
              "#d8576b"
             ],
             [
              0.6666666666666666,
              "#ed7953"
             ],
             [
              0.7777777777777778,
              "#fb9f3a"
             ],
             [
              0.8888888888888888,
              "#fdca26"
             ],
             [
              1,
              "#f0f921"
             ]
            ],
            "type": "heatmap"
           }
          ],
          "heatmapgl": [
           {
            "colorbar": {
             "outlinewidth": 0,
             "ticks": ""
            },
            "colorscale": [
             [
              0,
              "#0d0887"
             ],
             [
              0.1111111111111111,
              "#46039f"
             ],
             [
              0.2222222222222222,
              "#7201a8"
             ],
             [
              0.3333333333333333,
              "#9c179e"
             ],
             [
              0.4444444444444444,
              "#bd3786"
             ],
             [
              0.5555555555555556,
              "#d8576b"
             ],
             [
              0.6666666666666666,
              "#ed7953"
             ],
             [
              0.7777777777777778,
              "#fb9f3a"
             ],
             [
              0.8888888888888888,
              "#fdca26"
             ],
             [
              1,
              "#f0f921"
             ]
            ],
            "type": "heatmapgl"
           }
          ],
          "histogram": [
           {
            "marker": {
             "pattern": {
              "fillmode": "overlay",
              "size": 10,
              "solidity": 0.2
             }
            },
            "type": "histogram"
           }
          ],
          "histogram2d": [
           {
            "colorbar": {
             "outlinewidth": 0,
             "ticks": ""
            },
            "colorscale": [
             [
              0,
              "#0d0887"
             ],
             [
              0.1111111111111111,
              "#46039f"
             ],
             [
              0.2222222222222222,
              "#7201a8"
             ],
             [
              0.3333333333333333,
              "#9c179e"
             ],
             [
              0.4444444444444444,
              "#bd3786"
             ],
             [
              0.5555555555555556,
              "#d8576b"
             ],
             [
              0.6666666666666666,
              "#ed7953"
             ],
             [
              0.7777777777777778,
              "#fb9f3a"
             ],
             [
              0.8888888888888888,
              "#fdca26"
             ],
             [
              1,
              "#f0f921"
             ]
            ],
            "type": "histogram2d"
           }
          ],
          "histogram2dcontour": [
           {
            "colorbar": {
             "outlinewidth": 0,
             "ticks": ""
            },
            "colorscale": [
             [
              0,
              "#0d0887"
             ],
             [
              0.1111111111111111,
              "#46039f"
             ],
             [
              0.2222222222222222,
              "#7201a8"
             ],
             [
              0.3333333333333333,
              "#9c179e"
             ],
             [
              0.4444444444444444,
              "#bd3786"
             ],
             [
              0.5555555555555556,
              "#d8576b"
             ],
             [
              0.6666666666666666,
              "#ed7953"
             ],
             [
              0.7777777777777778,
              "#fb9f3a"
             ],
             [
              0.8888888888888888,
              "#fdca26"
             ],
             [
              1,
              "#f0f921"
             ]
            ],
            "type": "histogram2dcontour"
           }
          ],
          "mesh3d": [
           {
            "colorbar": {
             "outlinewidth": 0,
             "ticks": ""
            },
            "type": "mesh3d"
           }
          ],
          "parcoords": [
           {
            "line": {
             "colorbar": {
              "outlinewidth": 0,
              "ticks": ""
             }
            },
            "type": "parcoords"
           }
          ],
          "pie": [
           {
            "automargin": true,
            "type": "pie"
           }
          ],
          "scatter": [
           {
            "marker": {
             "colorbar": {
              "outlinewidth": 0,
              "ticks": ""
             }
            },
            "type": "scatter"
           }
          ],
          "scatter3d": [
           {
            "line": {
             "colorbar": {
              "outlinewidth": 0,
              "ticks": ""
             }
            },
            "marker": {
             "colorbar": {
              "outlinewidth": 0,
              "ticks": ""
             }
            },
            "type": "scatter3d"
           }
          ],
          "scattercarpet": [
           {
            "marker": {
             "colorbar": {
              "outlinewidth": 0,
              "ticks": ""
             }
            },
            "type": "scattercarpet"
           }
          ],
          "scattergeo": [
           {
            "marker": {
             "colorbar": {
              "outlinewidth": 0,
              "ticks": ""
             }
            },
            "type": "scattergeo"
           }
          ],
          "scattergl": [
           {
            "marker": {
             "colorbar": {
              "outlinewidth": 0,
              "ticks": ""
             }
            },
            "type": "scattergl"
           }
          ],
          "scattermapbox": [
           {
            "marker": {
             "colorbar": {
              "outlinewidth": 0,
              "ticks": ""
             }
            },
            "type": "scattermapbox"
           }
          ],
          "scatterpolar": [
           {
            "marker": {
             "colorbar": {
              "outlinewidth": 0,
              "ticks": ""
             }
            },
            "type": "scatterpolar"
           }
          ],
          "scatterpolargl": [
           {
            "marker": {
             "colorbar": {
              "outlinewidth": 0,
              "ticks": ""
             }
            },
            "type": "scatterpolargl"
           }
          ],
          "scatterternary": [
           {
            "marker": {
             "colorbar": {
              "outlinewidth": 0,
              "ticks": ""
             }
            },
            "type": "scatterternary"
           }
          ],
          "surface": [
           {
            "colorbar": {
             "outlinewidth": 0,
             "ticks": ""
            },
            "colorscale": [
             [
              0,
              "#0d0887"
             ],
             [
              0.1111111111111111,
              "#46039f"
             ],
             [
              0.2222222222222222,
              "#7201a8"
             ],
             [
              0.3333333333333333,
              "#9c179e"
             ],
             [
              0.4444444444444444,
              "#bd3786"
             ],
             [
              0.5555555555555556,
              "#d8576b"
             ],
             [
              0.6666666666666666,
              "#ed7953"
             ],
             [
              0.7777777777777778,
              "#fb9f3a"
             ],
             [
              0.8888888888888888,
              "#fdca26"
             ],
             [
              1,
              "#f0f921"
             ]
            ],
            "type": "surface"
           }
          ],
          "table": [
           {
            "cells": {
             "fill": {
              "color": "#EBF0F8"
             },
             "line": {
              "color": "white"
             }
            },
            "header": {
             "fill": {
              "color": "#C8D4E3"
             },
             "line": {
              "color": "white"
             }
            },
            "type": "table"
           }
          ]
         },
         "layout": {
          "annotationdefaults": {
           "arrowcolor": "#2a3f5f",
           "arrowhead": 0,
           "arrowwidth": 1
          },
          "autotypenumbers": "strict",
          "coloraxis": {
           "colorbar": {
            "outlinewidth": 0,
            "ticks": ""
           }
          },
          "colorscale": {
           "diverging": [
            [
             0,
             "#8e0152"
            ],
            [
             0.1,
             "#c51b7d"
            ],
            [
             0.2,
             "#de77ae"
            ],
            [
             0.3,
             "#f1b6da"
            ],
            [
             0.4,
             "#fde0ef"
            ],
            [
             0.5,
             "#f7f7f7"
            ],
            [
             0.6,
             "#e6f5d0"
            ],
            [
             0.7,
             "#b8e186"
            ],
            [
             0.8,
             "#7fbc41"
            ],
            [
             0.9,
             "#4d9221"
            ],
            [
             1,
             "#276419"
            ]
           ],
           "sequential": [
            [
             0,
             "#0d0887"
            ],
            [
             0.1111111111111111,
             "#46039f"
            ],
            [
             0.2222222222222222,
             "#7201a8"
            ],
            [
             0.3333333333333333,
             "#9c179e"
            ],
            [
             0.4444444444444444,
             "#bd3786"
            ],
            [
             0.5555555555555556,
             "#d8576b"
            ],
            [
             0.6666666666666666,
             "#ed7953"
            ],
            [
             0.7777777777777778,
             "#fb9f3a"
            ],
            [
             0.8888888888888888,
             "#fdca26"
            ],
            [
             1,
             "#f0f921"
            ]
           ],
           "sequentialminus": [
            [
             0,
             "#0d0887"
            ],
            [
             0.1111111111111111,
             "#46039f"
            ],
            [
             0.2222222222222222,
             "#7201a8"
            ],
            [
             0.3333333333333333,
             "#9c179e"
            ],
            [
             0.4444444444444444,
             "#bd3786"
            ],
            [
             0.5555555555555556,
             "#d8576b"
            ],
            [
             0.6666666666666666,
             "#ed7953"
            ],
            [
             0.7777777777777778,
             "#fb9f3a"
            ],
            [
             0.8888888888888888,
             "#fdca26"
            ],
            [
             1,
             "#f0f921"
            ]
           ]
          },
          "colorway": [
           "#636efa",
           "#EF553B",
           "#00cc96",
           "#ab63fa",
           "#FFA15A",
           "#19d3f3",
           "#FF6692",
           "#B6E880",
           "#FF97FF",
           "#FECB52"
          ],
          "font": {
           "color": "#2a3f5f"
          },
          "geo": {
           "bgcolor": "white",
           "lakecolor": "white",
           "landcolor": "#E5ECF6",
           "showlakes": true,
           "showland": true,
           "subunitcolor": "white"
          },
          "hoverlabel": {
           "align": "left"
          },
          "hovermode": "closest",
          "mapbox": {
           "style": "light"
          },
          "paper_bgcolor": "white",
          "plot_bgcolor": "#E5ECF6",
          "polar": {
           "angularaxis": {
            "gridcolor": "white",
            "linecolor": "white",
            "ticks": ""
           },
           "bgcolor": "#E5ECF6",
           "radialaxis": {
            "gridcolor": "white",
            "linecolor": "white",
            "ticks": ""
           }
          },
          "scene": {
           "xaxis": {
            "backgroundcolor": "#E5ECF6",
            "gridcolor": "white",
            "gridwidth": 2,
            "linecolor": "white",
            "showbackground": true,
            "ticks": "",
            "zerolinecolor": "white"
           },
           "yaxis": {
            "backgroundcolor": "#E5ECF6",
            "gridcolor": "white",
            "gridwidth": 2,
            "linecolor": "white",
            "showbackground": true,
            "ticks": "",
            "zerolinecolor": "white"
           },
           "zaxis": {
            "backgroundcolor": "#E5ECF6",
            "gridcolor": "white",
            "gridwidth": 2,
            "linecolor": "white",
            "showbackground": true,
            "ticks": "",
            "zerolinecolor": "white"
           }
          },
          "shapedefaults": {
           "line": {
            "color": "#2a3f5f"
           }
          },
          "ternary": {
           "aaxis": {
            "gridcolor": "white",
            "linecolor": "white",
            "ticks": ""
           },
           "baxis": {
            "gridcolor": "white",
            "linecolor": "white",
            "ticks": ""
           },
           "bgcolor": "#E5ECF6",
           "caxis": {
            "gridcolor": "white",
            "linecolor": "white",
            "ticks": ""
           }
          },
          "title": {
           "x": 0.05
          },
          "xaxis": {
           "automargin": true,
           "gridcolor": "white",
           "linecolor": "white",
           "ticks": "",
           "title": {
            "standoff": 15
           },
           "zerolinecolor": "white",
           "zerolinewidth": 2
          },
          "yaxis": {
           "automargin": true,
           "gridcolor": "white",
           "linecolor": "white",
           "ticks": "",
           "title": {
            "standoff": 15
           },
           "zerolinecolor": "white",
           "zerolinewidth": 2
          }
         }
        },
        "title": {
         "text": "Соотношение ушедших мужчин и женщин"
        },
        "width": 600
       }
      }
     },
     "metadata": {},
     "output_type": "display_data"
    }
   ],
   "source": [
    "#меняем 0 и 1 на loyal и exited\n",
    "churn_data['Exited'] = churn_data['Exited'].replace([0, 1], ['loyal', 'exited'])\n",
    "# Мое решение:\n",
    "exited_clients = churn_data[churn_data['Exited'] == 'exited']\n",
    "pie_data = exited_clients['Gender'].value_counts()\n",
    "\n",
    "pie_fig = px.pie(pie_data, values = pie_data, names=pie_data.index, hole=0.3, width = 600, height = 400, title='Соотношение ушедших мужчин и женщин')\n",
    "pie_fig.show()\n",
    "\n",
    "# # Решение согласно подсказке\n",
    "# # вернул loyal и exited на 0 и 1 )))  глупое решение, но другого не нашел)\n",
    "# churn_data['Exited'] = churn_data['Exited'].replace(['loyal', 'exited'], [0, 1])\n",
    "# bar_data = churn_data.groupby('Gender', as_index=False).mean()\n",
    "# bar_fig = px.bar(\n",
    "#     data_frame=bar_data,\n",
    "#     x='Gender',\n",
    "#     y='Exited',\n",
    "#     height=300, \n",
    "#     width=700,\n",
    "#     title = 'Соотношение ушедших мужчин и женщин'\n",
    "# )\n",
    "# bar_fig.show()"
   ]
  },
  {
   "cell_type": "markdown",
   "metadata": {},
   "source": [
    "### 9.7. Как отток клиентов зависит от числа приобретённых у банка услуг? Для ответа на этот вопрос постройте многоуровневую столбчатую диаграмму."
   ]
  },
  {
   "cell_type": "code",
   "execution_count": null,
   "metadata": {},
   "outputs": [
    {
     "data": {
      "application/vnd.plotly.v1+json": {
       "config": {
        "plotlyServerURL": "https://plot.ly"
       },
       "data": [
        {
         "alignmentgroup": "True",
         "hovertemplate": "Exited=exited<br>Кол-во услуг=%{x}<br>Кол-во клиентов=%{y}<extra></extra>",
         "legendgroup": "exited",
         "marker": {
          "color": "#636efa",
          "pattern": {
           "shape": ""
          }
         },
         "name": "exited",
         "offsetgroup": "exited",
         "orientation": "v",
         "showlegend": true,
         "textposition": "auto",
         "texttemplate": "%{y}",
         "type": "bar",
         "x": [
          1,
          2,
          3,
          4
         ],
         "xaxis": "x",
         "y": [
          1409,
          348,
          220,
          60
         ],
         "yaxis": "y"
        },
        {
         "alignmentgroup": "True",
         "hovertemplate": "Exited=loyal<br>Кол-во услуг=%{x}<br>Кол-во клиентов=%{y}<extra></extra>",
         "legendgroup": "loyal",
         "marker": {
          "color": "#EF553B",
          "pattern": {
           "shape": ""
          }
         },
         "name": "loyal",
         "offsetgroup": "loyal",
         "orientation": "v",
         "showlegend": true,
         "textposition": "auto",
         "texttemplate": "%{y}",
         "type": "bar",
         "x": [
          1,
          2,
          3
         ],
         "xaxis": "x",
         "y": [
          3675,
          4242,
          46
         ],
         "yaxis": "y"
        }
       ],
       "layout": {
        "barmode": "relative",
        "legend": {
         "title": {
          "text": "Exited"
         },
         "tracegroupgap": 0
        },
        "template": {
         "data": {
          "bar": [
           {
            "error_x": {
             "color": "#2a3f5f"
            },
            "error_y": {
             "color": "#2a3f5f"
            },
            "marker": {
             "line": {
              "color": "#E5ECF6",
              "width": 0.5
             },
             "pattern": {
              "fillmode": "overlay",
              "size": 10,
              "solidity": 0.2
             }
            },
            "type": "bar"
           }
          ],
          "barpolar": [
           {
            "marker": {
             "line": {
              "color": "#E5ECF6",
              "width": 0.5
             },
             "pattern": {
              "fillmode": "overlay",
              "size": 10,
              "solidity": 0.2
             }
            },
            "type": "barpolar"
           }
          ],
          "carpet": [
           {
            "aaxis": {
             "endlinecolor": "#2a3f5f",
             "gridcolor": "white",
             "linecolor": "white",
             "minorgridcolor": "white",
             "startlinecolor": "#2a3f5f"
            },
            "baxis": {
             "endlinecolor": "#2a3f5f",
             "gridcolor": "white",
             "linecolor": "white",
             "minorgridcolor": "white",
             "startlinecolor": "#2a3f5f"
            },
            "type": "carpet"
           }
          ],
          "choropleth": [
           {
            "colorbar": {
             "outlinewidth": 0,
             "ticks": ""
            },
            "type": "choropleth"
           }
          ],
          "contour": [
           {
            "colorbar": {
             "outlinewidth": 0,
             "ticks": ""
            },
            "colorscale": [
             [
              0,
              "#0d0887"
             ],
             [
              0.1111111111111111,
              "#46039f"
             ],
             [
              0.2222222222222222,
              "#7201a8"
             ],
             [
              0.3333333333333333,
              "#9c179e"
             ],
             [
              0.4444444444444444,
              "#bd3786"
             ],
             [
              0.5555555555555556,
              "#d8576b"
             ],
             [
              0.6666666666666666,
              "#ed7953"
             ],
             [
              0.7777777777777778,
              "#fb9f3a"
             ],
             [
              0.8888888888888888,
              "#fdca26"
             ],
             [
              1,
              "#f0f921"
             ]
            ],
            "type": "contour"
           }
          ],
          "contourcarpet": [
           {
            "colorbar": {
             "outlinewidth": 0,
             "ticks": ""
            },
            "type": "contourcarpet"
           }
          ],
          "heatmap": [
           {
            "colorbar": {
             "outlinewidth": 0,
             "ticks": ""
            },
            "colorscale": [
             [
              0,
              "#0d0887"
             ],
             [
              0.1111111111111111,
              "#46039f"
             ],
             [
              0.2222222222222222,
              "#7201a8"
             ],
             [
              0.3333333333333333,
              "#9c179e"
             ],
             [
              0.4444444444444444,
              "#bd3786"
             ],
             [
              0.5555555555555556,
              "#d8576b"
             ],
             [
              0.6666666666666666,
              "#ed7953"
             ],
             [
              0.7777777777777778,
              "#fb9f3a"
             ],
             [
              0.8888888888888888,
              "#fdca26"
             ],
             [
              1,
              "#f0f921"
             ]
            ],
            "type": "heatmap"
           }
          ],
          "heatmapgl": [
           {
            "colorbar": {
             "outlinewidth": 0,
             "ticks": ""
            },
            "colorscale": [
             [
              0,
              "#0d0887"
             ],
             [
              0.1111111111111111,
              "#46039f"
             ],
             [
              0.2222222222222222,
              "#7201a8"
             ],
             [
              0.3333333333333333,
              "#9c179e"
             ],
             [
              0.4444444444444444,
              "#bd3786"
             ],
             [
              0.5555555555555556,
              "#d8576b"
             ],
             [
              0.6666666666666666,
              "#ed7953"
             ],
             [
              0.7777777777777778,
              "#fb9f3a"
             ],
             [
              0.8888888888888888,
              "#fdca26"
             ],
             [
              1,
              "#f0f921"
             ]
            ],
            "type": "heatmapgl"
           }
          ],
          "histogram": [
           {
            "marker": {
             "pattern": {
              "fillmode": "overlay",
              "size": 10,
              "solidity": 0.2
             }
            },
            "type": "histogram"
           }
          ],
          "histogram2d": [
           {
            "colorbar": {
             "outlinewidth": 0,
             "ticks": ""
            },
            "colorscale": [
             [
              0,
              "#0d0887"
             ],
             [
              0.1111111111111111,
              "#46039f"
             ],
             [
              0.2222222222222222,
              "#7201a8"
             ],
             [
              0.3333333333333333,
              "#9c179e"
             ],
             [
              0.4444444444444444,
              "#bd3786"
             ],
             [
              0.5555555555555556,
              "#d8576b"
             ],
             [
              0.6666666666666666,
              "#ed7953"
             ],
             [
              0.7777777777777778,
              "#fb9f3a"
             ],
             [
              0.8888888888888888,
              "#fdca26"
             ],
             [
              1,
              "#f0f921"
             ]
            ],
            "type": "histogram2d"
           }
          ],
          "histogram2dcontour": [
           {
            "colorbar": {
             "outlinewidth": 0,
             "ticks": ""
            },
            "colorscale": [
             [
              0,
              "#0d0887"
             ],
             [
              0.1111111111111111,
              "#46039f"
             ],
             [
              0.2222222222222222,
              "#7201a8"
             ],
             [
              0.3333333333333333,
              "#9c179e"
             ],
             [
              0.4444444444444444,
              "#bd3786"
             ],
             [
              0.5555555555555556,
              "#d8576b"
             ],
             [
              0.6666666666666666,
              "#ed7953"
             ],
             [
              0.7777777777777778,
              "#fb9f3a"
             ],
             [
              0.8888888888888888,
              "#fdca26"
             ],
             [
              1,
              "#f0f921"
             ]
            ],
            "type": "histogram2dcontour"
           }
          ],
          "mesh3d": [
           {
            "colorbar": {
             "outlinewidth": 0,
             "ticks": ""
            },
            "type": "mesh3d"
           }
          ],
          "parcoords": [
           {
            "line": {
             "colorbar": {
              "outlinewidth": 0,
              "ticks": ""
             }
            },
            "type": "parcoords"
           }
          ],
          "pie": [
           {
            "automargin": true,
            "type": "pie"
           }
          ],
          "scatter": [
           {
            "marker": {
             "colorbar": {
              "outlinewidth": 0,
              "ticks": ""
             }
            },
            "type": "scatter"
           }
          ],
          "scatter3d": [
           {
            "line": {
             "colorbar": {
              "outlinewidth": 0,
              "ticks": ""
             }
            },
            "marker": {
             "colorbar": {
              "outlinewidth": 0,
              "ticks": ""
             }
            },
            "type": "scatter3d"
           }
          ],
          "scattercarpet": [
           {
            "marker": {
             "colorbar": {
              "outlinewidth": 0,
              "ticks": ""
             }
            },
            "type": "scattercarpet"
           }
          ],
          "scattergeo": [
           {
            "marker": {
             "colorbar": {
              "outlinewidth": 0,
              "ticks": ""
             }
            },
            "type": "scattergeo"
           }
          ],
          "scattergl": [
           {
            "marker": {
             "colorbar": {
              "outlinewidth": 0,
              "ticks": ""
             }
            },
            "type": "scattergl"
           }
          ],
          "scattermapbox": [
           {
            "marker": {
             "colorbar": {
              "outlinewidth": 0,
              "ticks": ""
             }
            },
            "type": "scattermapbox"
           }
          ],
          "scatterpolar": [
           {
            "marker": {
             "colorbar": {
              "outlinewidth": 0,
              "ticks": ""
             }
            },
            "type": "scatterpolar"
           }
          ],
          "scatterpolargl": [
           {
            "marker": {
             "colorbar": {
              "outlinewidth": 0,
              "ticks": ""
             }
            },
            "type": "scatterpolargl"
           }
          ],
          "scatterternary": [
           {
            "marker": {
             "colorbar": {
              "outlinewidth": 0,
              "ticks": ""
             }
            },
            "type": "scatterternary"
           }
          ],
          "surface": [
           {
            "colorbar": {
             "outlinewidth": 0,
             "ticks": ""
            },
            "colorscale": [
             [
              0,
              "#0d0887"
             ],
             [
              0.1111111111111111,
              "#46039f"
             ],
             [
              0.2222222222222222,
              "#7201a8"
             ],
             [
              0.3333333333333333,
              "#9c179e"
             ],
             [
              0.4444444444444444,
              "#bd3786"
             ],
             [
              0.5555555555555556,
              "#d8576b"
             ],
             [
              0.6666666666666666,
              "#ed7953"
             ],
             [
              0.7777777777777778,
              "#fb9f3a"
             ],
             [
              0.8888888888888888,
              "#fdca26"
             ],
             [
              1,
              "#f0f921"
             ]
            ],
            "type": "surface"
           }
          ],
          "table": [
           {
            "cells": {
             "fill": {
              "color": "#EBF0F8"
             },
             "line": {
              "color": "white"
             }
            },
            "header": {
             "fill": {
              "color": "#C8D4E3"
             },
             "line": {
              "color": "white"
             }
            },
            "type": "table"
           }
          ]
         },
         "layout": {
          "annotationdefaults": {
           "arrowcolor": "#2a3f5f",
           "arrowhead": 0,
           "arrowwidth": 1
          },
          "autotypenumbers": "strict",
          "coloraxis": {
           "colorbar": {
            "outlinewidth": 0,
            "ticks": ""
           }
          },
          "colorscale": {
           "diverging": [
            [
             0,
             "#8e0152"
            ],
            [
             0.1,
             "#c51b7d"
            ],
            [
             0.2,
             "#de77ae"
            ],
            [
             0.3,
             "#f1b6da"
            ],
            [
             0.4,
             "#fde0ef"
            ],
            [
             0.5,
             "#f7f7f7"
            ],
            [
             0.6,
             "#e6f5d0"
            ],
            [
             0.7,
             "#b8e186"
            ],
            [
             0.8,
             "#7fbc41"
            ],
            [
             0.9,
             "#4d9221"
            ],
            [
             1,
             "#276419"
            ]
           ],
           "sequential": [
            [
             0,
             "#0d0887"
            ],
            [
             0.1111111111111111,
             "#46039f"
            ],
            [
             0.2222222222222222,
             "#7201a8"
            ],
            [
             0.3333333333333333,
             "#9c179e"
            ],
            [
             0.4444444444444444,
             "#bd3786"
            ],
            [
             0.5555555555555556,
             "#d8576b"
            ],
            [
             0.6666666666666666,
             "#ed7953"
            ],
            [
             0.7777777777777778,
             "#fb9f3a"
            ],
            [
             0.8888888888888888,
             "#fdca26"
            ],
            [
             1,
             "#f0f921"
            ]
           ],
           "sequentialminus": [
            [
             0,
             "#0d0887"
            ],
            [
             0.1111111111111111,
             "#46039f"
            ],
            [
             0.2222222222222222,
             "#7201a8"
            ],
            [
             0.3333333333333333,
             "#9c179e"
            ],
            [
             0.4444444444444444,
             "#bd3786"
            ],
            [
             0.5555555555555556,
             "#d8576b"
            ],
            [
             0.6666666666666666,
             "#ed7953"
            ],
            [
             0.7777777777777778,
             "#fb9f3a"
            ],
            [
             0.8888888888888888,
             "#fdca26"
            ],
            [
             1,
             "#f0f921"
            ]
           ]
          },
          "colorway": [
           "#636efa",
           "#EF553B",
           "#00cc96",
           "#ab63fa",
           "#FFA15A",
           "#19d3f3",
           "#FF6692",
           "#B6E880",
           "#FF97FF",
           "#FECB52"
          ],
          "font": {
           "color": "#2a3f5f"
          },
          "geo": {
           "bgcolor": "white",
           "lakecolor": "white",
           "landcolor": "#E5ECF6",
           "showlakes": true,
           "showland": true,
           "subunitcolor": "white"
          },
          "hoverlabel": {
           "align": "left"
          },
          "hovermode": "closest",
          "mapbox": {
           "style": "light"
          },
          "paper_bgcolor": "white",
          "plot_bgcolor": "#E5ECF6",
          "polar": {
           "angularaxis": {
            "gridcolor": "white",
            "linecolor": "white",
            "ticks": ""
           },
           "bgcolor": "#E5ECF6",
           "radialaxis": {
            "gridcolor": "white",
            "linecolor": "white",
            "ticks": ""
           }
          },
          "scene": {
           "xaxis": {
            "backgroundcolor": "#E5ECF6",
            "gridcolor": "white",
            "gridwidth": 2,
            "linecolor": "white",
            "showbackground": true,
            "ticks": "",
            "zerolinecolor": "white"
           },
           "yaxis": {
            "backgroundcolor": "#E5ECF6",
            "gridcolor": "white",
            "gridwidth": 2,
            "linecolor": "white",
            "showbackground": true,
            "ticks": "",
            "zerolinecolor": "white"
           },
           "zaxis": {
            "backgroundcolor": "#E5ECF6",
            "gridcolor": "white",
            "gridwidth": 2,
            "linecolor": "white",
            "showbackground": true,
            "ticks": "",
            "zerolinecolor": "white"
           }
          },
          "shapedefaults": {
           "line": {
            "color": "#2a3f5f"
           }
          },
          "ternary": {
           "aaxis": {
            "gridcolor": "white",
            "linecolor": "white",
            "ticks": ""
           },
           "baxis": {
            "gridcolor": "white",
            "linecolor": "white",
            "ticks": ""
           },
           "bgcolor": "#E5ECF6",
           "caxis": {
            "gridcolor": "white",
            "linecolor": "white",
            "ticks": ""
           }
          },
          "title": {
           "x": 0.05
          },
          "xaxis": {
           "automargin": true,
           "gridcolor": "white",
           "linecolor": "white",
           "ticks": "",
           "title": {
            "standoff": 15
           },
           "zerolinecolor": "white",
           "zerolinewidth": 2
          },
          "yaxis": {
           "automargin": true,
           "gridcolor": "white",
           "linecolor": "white",
           "ticks": "",
           "title": {
            "standoff": 15
           },
           "zerolinecolor": "white",
           "zerolinewidth": 2
          }
         }
        },
        "title": {
         "text": "Распределение лояльных и ушедших клиентов от кол-ва приобретенных у банка услуг"
        },
        "xaxis": {
         "anchor": "y",
         "domain": [
          0,
          1
         ],
         "title": {
          "text": "Кол-во услуг"
         }
        },
        "yaxis": {
         "anchor": "x",
         "domain": [
          0,
          1
         ],
         "title": {
          "text": "Кол-во клиентов"
         }
        }
       }
      }
     },
     "metadata": {},
     "output_type": "display_data"
    }
   ],
   "source": [
    "products_data = churn_data.groupby(['NumOfProducts', 'Exited'], as_index=False).count()\n",
    "products_data\n",
    "bar_data = px.bar(\n",
    "    products_data, \n",
    "    x = 'NumOfProducts', \n",
    "    y='CustomerId', \n",
    "    color='Exited', \n",
    "    text_auto=True, \n",
    "    title = 'Распределение лояльных и ушедших клиентов от кол-ва приобретенных у банка услуг',\n",
    "    labels={'CustomerId': 'Кол-во клиентов', 'NumOfProducts': 'Кол-во услуг'}\n",
    "    )\n",
    "bar_data"
   ]
  },
  {
   "cell_type": "markdown",
   "metadata": {},
   "source": [
    "### 9.8. Как влияет наличие статуса активного клиента на отток клиентов? Постройте диаграмму, иллюстрирующую это. Что бы вы предложили банку, чтобы уменьшить отток клиентов среди неактивных?"
   ]
  },
  {
   "cell_type": "code",
   "execution_count": null,
   "metadata": {},
   "outputs": [
    {
     "ename": "NameError",
     "evalue": "name 'exited_clients' is not defined",
     "output_type": "error",
     "traceback": [
      "\u001b[0;31m---------------------------------------------------------------------------\u001b[0m",
      "\u001b[0;31mNameError\u001b[0m                                 Traceback (most recent call last)",
      "\u001b[0;32m<ipython-input-7-9b133a4b1870>\u001b[0m in \u001b[0;36m<module>\u001b[0;34m\u001b[0m\n\u001b[0;32m----> 1\u001b[0;31m \u001b[0mproducts_data\u001b[0m \u001b[0;34m=\u001b[0m \u001b[0mexited_clients\u001b[0m\u001b[0;34m.\u001b[0m\u001b[0mgroupby\u001b[0m\u001b[0;34m(\u001b[0m\u001b[0;34m[\u001b[0m\u001b[0;34m'IsActiveMember'\u001b[0m\u001b[0;34m,\u001b[0m \u001b[0;34m'Exited'\u001b[0m\u001b[0;34m]\u001b[0m\u001b[0;34m,\u001b[0m \u001b[0mas_index\u001b[0m\u001b[0;34m=\u001b[0m\u001b[0;32mFalse\u001b[0m\u001b[0;34m)\u001b[0m\u001b[0;34m.\u001b[0m\u001b[0mcount\u001b[0m\u001b[0;34m(\u001b[0m\u001b[0;34m)\u001b[0m\u001b[0;34m\u001b[0m\u001b[0;34m\u001b[0m\u001b[0m\n\u001b[0m\u001b[1;32m      2\u001b[0m \u001b[0mproducts_data\u001b[0m\u001b[0;34m\u001b[0m\u001b[0;34m\u001b[0m\u001b[0m\n\u001b[1;32m      3\u001b[0m bar_data = px.bar(\n\u001b[1;32m      4\u001b[0m     \u001b[0mproducts_data\u001b[0m\u001b[0;34m,\u001b[0m\u001b[0;34m\u001b[0m\u001b[0;34m\u001b[0m\u001b[0m\n\u001b[1;32m      5\u001b[0m     \u001b[0mx\u001b[0m \u001b[0;34m=\u001b[0m \u001b[0;34m'IsActiveMember'\u001b[0m\u001b[0;34m,\u001b[0m\u001b[0;34m\u001b[0m\u001b[0;34m\u001b[0m\u001b[0m\n",
      "\u001b[0;31mNameError\u001b[0m: name 'exited_clients' is not defined"
     ]
    }
   ],
   "source": [
    "products_data = exited_clients.groupby(['IsActiveMember', 'Exited'], as_index=False).count()\n",
    "products_data\n",
    "bar_data = px.bar(\n",
    "    products_data, \n",
    "    x = 'IsActiveMember', \n",
    "    y='CustomerId', \n",
    "    text_auto=True, \n",
    "    title = 'Взаимосвязь статуса активности клиента на отток клиентов банка',\n",
    "    labels={'CustomerId': 'Кол-во клиентов', 'IsActiveMember': 'Статус активности'}\n",
    "    )\n",
    "bar_data"
   ]
  },
  {
   "cell_type": "markdown",
   "metadata": {},
   "source": [
    "### 9.9. В какой стране доля ушедших клиентов больше? Постройте тепловую картограмму, которая покажет это соотношение на карте мира. Предположите, с чем это может быть связано."
   ]
  },
  {
   "cell_type": "code",
   "execution_count": null,
   "metadata": {},
   "outputs": [
    {
     "data": {
      "application/vnd.plotly.v1+json": {
       "config": {
        "plotlyServerURL": "https://plot.ly"
       },
       "data": [
        {
         "coloraxis": "coloraxis",
         "geo": "geo",
         "hovertemplate": "Geography=%{location}<br>CustomerId=%{z}<extra></extra>",
         "locationmode": "country names",
         "locations": [
          "France",
          "Germany",
          "Spain"
         ],
         "name": "",
         "type": "choropleth",
         "z": [
          810,
          814,
          413
         ]
        }
       ],
       "layout": {
        "coloraxis": {
         "cmax": 30000000,
         "cmin": 0,
         "colorbar": {
          "title": {
           "text": "CustomerId"
          }
         },
         "colorscale": [
          [
           0,
           "#000004"
          ],
          [
           0.1111111111111111,
           "#1b0c41"
          ],
          [
           0.2222222222222222,
           "#4a0c6b"
          ],
          [
           0.3333333333333333,
           "#781c6d"
          ],
          [
           0.4444444444444444,
           "#a52c60"
          ],
          [
           0.5555555555555556,
           "#cf4446"
          ],
          [
           0.6666666666666666,
           "#ed6925"
          ],
          [
           0.7777777777777778,
           "#fb9b06"
          ],
          [
           0.8888888888888888,
           "#f7d13d"
          ],
          [
           1,
           "#fcffa4"
          ]
         ]
        },
        "geo": {
         "center": {},
         "domain": {
          "x": [
           0,
           1
          ],
          "y": [
           0,
           1
          ]
         }
        },
        "height": 500,
        "legend": {
         "tracegroupgap": 0
        },
        "template": {
         "data": {
          "bar": [
           {
            "error_x": {
             "color": "#2a3f5f"
            },
            "error_y": {
             "color": "#2a3f5f"
            },
            "marker": {
             "line": {
              "color": "#E5ECF6",
              "width": 0.5
             },
             "pattern": {
              "fillmode": "overlay",
              "size": 10,
              "solidity": 0.2
             }
            },
            "type": "bar"
           }
          ],
          "barpolar": [
           {
            "marker": {
             "line": {
              "color": "#E5ECF6",
              "width": 0.5
             },
             "pattern": {
              "fillmode": "overlay",
              "size": 10,
              "solidity": 0.2
             }
            },
            "type": "barpolar"
           }
          ],
          "carpet": [
           {
            "aaxis": {
             "endlinecolor": "#2a3f5f",
             "gridcolor": "white",
             "linecolor": "white",
             "minorgridcolor": "white",
             "startlinecolor": "#2a3f5f"
            },
            "baxis": {
             "endlinecolor": "#2a3f5f",
             "gridcolor": "white",
             "linecolor": "white",
             "minorgridcolor": "white",
             "startlinecolor": "#2a3f5f"
            },
            "type": "carpet"
           }
          ],
          "choropleth": [
           {
            "colorbar": {
             "outlinewidth": 0,
             "ticks": ""
            },
            "type": "choropleth"
           }
          ],
          "contour": [
           {
            "colorbar": {
             "outlinewidth": 0,
             "ticks": ""
            },
            "colorscale": [
             [
              0,
              "#0d0887"
             ],
             [
              0.1111111111111111,
              "#46039f"
             ],
             [
              0.2222222222222222,
              "#7201a8"
             ],
             [
              0.3333333333333333,
              "#9c179e"
             ],
             [
              0.4444444444444444,
              "#bd3786"
             ],
             [
              0.5555555555555556,
              "#d8576b"
             ],
             [
              0.6666666666666666,
              "#ed7953"
             ],
             [
              0.7777777777777778,
              "#fb9f3a"
             ],
             [
              0.8888888888888888,
              "#fdca26"
             ],
             [
              1,
              "#f0f921"
             ]
            ],
            "type": "contour"
           }
          ],
          "contourcarpet": [
           {
            "colorbar": {
             "outlinewidth": 0,
             "ticks": ""
            },
            "type": "contourcarpet"
           }
          ],
          "heatmap": [
           {
            "colorbar": {
             "outlinewidth": 0,
             "ticks": ""
            },
            "colorscale": [
             [
              0,
              "#0d0887"
             ],
             [
              0.1111111111111111,
              "#46039f"
             ],
             [
              0.2222222222222222,
              "#7201a8"
             ],
             [
              0.3333333333333333,
              "#9c179e"
             ],
             [
              0.4444444444444444,
              "#bd3786"
             ],
             [
              0.5555555555555556,
              "#d8576b"
             ],
             [
              0.6666666666666666,
              "#ed7953"
             ],
             [
              0.7777777777777778,
              "#fb9f3a"
             ],
             [
              0.8888888888888888,
              "#fdca26"
             ],
             [
              1,
              "#f0f921"
             ]
            ],
            "type": "heatmap"
           }
          ],
          "heatmapgl": [
           {
            "colorbar": {
             "outlinewidth": 0,
             "ticks": ""
            },
            "colorscale": [
             [
              0,
              "#0d0887"
             ],
             [
              0.1111111111111111,
              "#46039f"
             ],
             [
              0.2222222222222222,
              "#7201a8"
             ],
             [
              0.3333333333333333,
              "#9c179e"
             ],
             [
              0.4444444444444444,
              "#bd3786"
             ],
             [
              0.5555555555555556,
              "#d8576b"
             ],
             [
              0.6666666666666666,
              "#ed7953"
             ],
             [
              0.7777777777777778,
              "#fb9f3a"
             ],
             [
              0.8888888888888888,
              "#fdca26"
             ],
             [
              1,
              "#f0f921"
             ]
            ],
            "type": "heatmapgl"
           }
          ],
          "histogram": [
           {
            "marker": {
             "pattern": {
              "fillmode": "overlay",
              "size": 10,
              "solidity": 0.2
             }
            },
            "type": "histogram"
           }
          ],
          "histogram2d": [
           {
            "colorbar": {
             "outlinewidth": 0,
             "ticks": ""
            },
            "colorscale": [
             [
              0,
              "#0d0887"
             ],
             [
              0.1111111111111111,
              "#46039f"
             ],
             [
              0.2222222222222222,
              "#7201a8"
             ],
             [
              0.3333333333333333,
              "#9c179e"
             ],
             [
              0.4444444444444444,
              "#bd3786"
             ],
             [
              0.5555555555555556,
              "#d8576b"
             ],
             [
              0.6666666666666666,
              "#ed7953"
             ],
             [
              0.7777777777777778,
              "#fb9f3a"
             ],
             [
              0.8888888888888888,
              "#fdca26"
             ],
             [
              1,
              "#f0f921"
             ]
            ],
            "type": "histogram2d"
           }
          ],
          "histogram2dcontour": [
           {
            "colorbar": {
             "outlinewidth": 0,
             "ticks": ""
            },
            "colorscale": [
             [
              0,
              "#0d0887"
             ],
             [
              0.1111111111111111,
              "#46039f"
             ],
             [
              0.2222222222222222,
              "#7201a8"
             ],
             [
              0.3333333333333333,
              "#9c179e"
             ],
             [
              0.4444444444444444,
              "#bd3786"
             ],
             [
              0.5555555555555556,
              "#d8576b"
             ],
             [
              0.6666666666666666,
              "#ed7953"
             ],
             [
              0.7777777777777778,
              "#fb9f3a"
             ],
             [
              0.8888888888888888,
              "#fdca26"
             ],
             [
              1,
              "#f0f921"
             ]
            ],
            "type": "histogram2dcontour"
           }
          ],
          "mesh3d": [
           {
            "colorbar": {
             "outlinewidth": 0,
             "ticks": ""
            },
            "type": "mesh3d"
           }
          ],
          "parcoords": [
           {
            "line": {
             "colorbar": {
              "outlinewidth": 0,
              "ticks": ""
             }
            },
            "type": "parcoords"
           }
          ],
          "pie": [
           {
            "automargin": true,
            "type": "pie"
           }
          ],
          "scatter": [
           {
            "marker": {
             "colorbar": {
              "outlinewidth": 0,
              "ticks": ""
             }
            },
            "type": "scatter"
           }
          ],
          "scatter3d": [
           {
            "line": {
             "colorbar": {
              "outlinewidth": 0,
              "ticks": ""
             }
            },
            "marker": {
             "colorbar": {
              "outlinewidth": 0,
              "ticks": ""
             }
            },
            "type": "scatter3d"
           }
          ],
          "scattercarpet": [
           {
            "marker": {
             "colorbar": {
              "outlinewidth": 0,
              "ticks": ""
             }
            },
            "type": "scattercarpet"
           }
          ],
          "scattergeo": [
           {
            "marker": {
             "colorbar": {
              "outlinewidth": 0,
              "ticks": ""
             }
            },
            "type": "scattergeo"
           }
          ],
          "scattergl": [
           {
            "marker": {
             "colorbar": {
              "outlinewidth": 0,
              "ticks": ""
             }
            },
            "type": "scattergl"
           }
          ],
          "scattermapbox": [
           {
            "marker": {
             "colorbar": {
              "outlinewidth": 0,
              "ticks": ""
             }
            },
            "type": "scattermapbox"
           }
          ],
          "scatterpolar": [
           {
            "marker": {
             "colorbar": {
              "outlinewidth": 0,
              "ticks": ""
             }
            },
            "type": "scatterpolar"
           }
          ],
          "scatterpolargl": [
           {
            "marker": {
             "colorbar": {
              "outlinewidth": 0,
              "ticks": ""
             }
            },
            "type": "scatterpolargl"
           }
          ],
          "scatterternary": [
           {
            "marker": {
             "colorbar": {
              "outlinewidth": 0,
              "ticks": ""
             }
            },
            "type": "scatterternary"
           }
          ],
          "surface": [
           {
            "colorbar": {
             "outlinewidth": 0,
             "ticks": ""
            },
            "colorscale": [
             [
              0,
              "#0d0887"
             ],
             [
              0.1111111111111111,
              "#46039f"
             ],
             [
              0.2222222222222222,
              "#7201a8"
             ],
             [
              0.3333333333333333,
              "#9c179e"
             ],
             [
              0.4444444444444444,
              "#bd3786"
             ],
             [
              0.5555555555555556,
              "#d8576b"
             ],
             [
              0.6666666666666666,
              "#ed7953"
             ],
             [
              0.7777777777777778,
              "#fb9f3a"
             ],
             [
              0.8888888888888888,
              "#fdca26"
             ],
             [
              1,
              "#f0f921"
             ]
            ],
            "type": "surface"
           }
          ],
          "table": [
           {
            "cells": {
             "fill": {
              "color": "#EBF0F8"
             },
             "line": {
              "color": "white"
             }
            },
            "header": {
             "fill": {
              "color": "#C8D4E3"
             },
             "line": {
              "color": "white"
             }
            },
            "type": "table"
           }
          ]
         },
         "layout": {
          "annotationdefaults": {
           "arrowcolor": "#2a3f5f",
           "arrowhead": 0,
           "arrowwidth": 1
          },
          "autotypenumbers": "strict",
          "coloraxis": {
           "colorbar": {
            "outlinewidth": 0,
            "ticks": ""
           }
          },
          "colorscale": {
           "diverging": [
            [
             0,
             "#8e0152"
            ],
            [
             0.1,
             "#c51b7d"
            ],
            [
             0.2,
             "#de77ae"
            ],
            [
             0.3,
             "#f1b6da"
            ],
            [
             0.4,
             "#fde0ef"
            ],
            [
             0.5,
             "#f7f7f7"
            ],
            [
             0.6,
             "#e6f5d0"
            ],
            [
             0.7,
             "#b8e186"
            ],
            [
             0.8,
             "#7fbc41"
            ],
            [
             0.9,
             "#4d9221"
            ],
            [
             1,
             "#276419"
            ]
           ],
           "sequential": [
            [
             0,
             "#0d0887"
            ],
            [
             0.1111111111111111,
             "#46039f"
            ],
            [
             0.2222222222222222,
             "#7201a8"
            ],
            [
             0.3333333333333333,
             "#9c179e"
            ],
            [
             0.4444444444444444,
             "#bd3786"
            ],
            [
             0.5555555555555556,
             "#d8576b"
            ],
            [
             0.6666666666666666,
             "#ed7953"
            ],
            [
             0.7777777777777778,
             "#fb9f3a"
            ],
            [
             0.8888888888888888,
             "#fdca26"
            ],
            [
             1,
             "#f0f921"
            ]
           ],
           "sequentialminus": [
            [
             0,
             "#0d0887"
            ],
            [
             0.1111111111111111,
             "#46039f"
            ],
            [
             0.2222222222222222,
             "#7201a8"
            ],
            [
             0.3333333333333333,
             "#9c179e"
            ],
            [
             0.4444444444444444,
             "#bd3786"
            ],
            [
             0.5555555555555556,
             "#d8576b"
            ],
            [
             0.6666666666666666,
             "#ed7953"
            ],
            [
             0.7777777777777778,
             "#fb9f3a"
            ],
            [
             0.8888888888888888,
             "#fdca26"
            ],
            [
             1,
             "#f0f921"
            ]
           ]
          },
          "colorway": [
           "#636efa",
           "#EF553B",
           "#00cc96",
           "#ab63fa",
           "#FFA15A",
           "#19d3f3",
           "#FF6692",
           "#B6E880",
           "#FF97FF",
           "#FECB52"
          ],
          "font": {
           "color": "#2a3f5f"
          },
          "geo": {
           "bgcolor": "white",
           "lakecolor": "white",
           "landcolor": "#E5ECF6",
           "showlakes": true,
           "showland": true,
           "subunitcolor": "white"
          },
          "hoverlabel": {
           "align": "left"
          },
          "hovermode": "closest",
          "mapbox": {
           "style": "light"
          },
          "paper_bgcolor": "white",
          "plot_bgcolor": "#E5ECF6",
          "polar": {
           "angularaxis": {
            "gridcolor": "white",
            "linecolor": "white",
            "ticks": ""
           },
           "bgcolor": "#E5ECF6",
           "radialaxis": {
            "gridcolor": "white",
            "linecolor": "white",
            "ticks": ""
           }
          },
          "scene": {
           "xaxis": {
            "backgroundcolor": "#E5ECF6",
            "gridcolor": "white",
            "gridwidth": 2,
            "linecolor": "white",
            "showbackground": true,
            "ticks": "",
            "zerolinecolor": "white"
           },
           "yaxis": {
            "backgroundcolor": "#E5ECF6",
            "gridcolor": "white",
            "gridwidth": 2,
            "linecolor": "white",
            "showbackground": true,
            "ticks": "",
            "zerolinecolor": "white"
           },
           "zaxis": {
            "backgroundcolor": "#E5ECF6",
            "gridcolor": "white",
            "gridwidth": 2,
            "linecolor": "white",
            "showbackground": true,
            "ticks": "",
            "zerolinecolor": "white"
           }
          },
          "shapedefaults": {
           "line": {
            "color": "#2a3f5f"
           }
          },
          "ternary": {
           "aaxis": {
            "gridcolor": "white",
            "linecolor": "white",
            "ticks": ""
           },
           "baxis": {
            "gridcolor": "white",
            "linecolor": "white",
            "ticks": ""
           },
           "bgcolor": "#E5ECF6",
           "caxis": {
            "gridcolor": "white",
            "linecolor": "white",
            "ticks": ""
           }
          },
          "title": {
           "x": 0.05
          },
          "xaxis": {
           "automargin": true,
           "gridcolor": "white",
           "linecolor": "white",
           "ticks": "",
           "title": {
            "standoff": 15
           },
           "zerolinecolor": "white",
           "zerolinewidth": 2
          },
          "yaxis": {
           "automargin": true,
           "gridcolor": "white",
           "linecolor": "white",
           "ticks": "",
           "title": {
            "standoff": 15
           },
           "zerolinecolor": "white",
           "zerolinewidth": 2
          }
         }
        },
        "title": {
         "text": "Доля ушедших клиентов по странам"
        },
        "width": 800
       }
      }
     },
     "metadata": {},
     "output_type": "display_data"
    }
   ],
   "source": [
    "map_data = exited_clients.groupby(['Exited', 'Geography'], as_index=False).count()\n",
    "map_fig = px.choropleth(\n",
    "    map_data,\n",
    "    locations='Geography',\n",
    "    locationmode='country names',\n",
    "    color='CustomerId',\n",
    "    range_color=[0, 30e6],\n",
    "    title='Доля ушедших клиентов по странам',\n",
    "    \n",
    "    width = 800,\n",
    "    height = 500,\n",
    "    color_continuous_scale='inferno'\n",
    ")\n",
    "map_fig"
   ]
  },
  {
   "cell_type": "markdown",
   "metadata": {},
   "source": [
    "### 9.10. Переведите числовой признак CreditScore в категориальный. Для этого воспользуйтесь функцией get_credit_score_cat(), которая приведена ниже. Примените её к столбцу CreditScore и создайте новый признак CreditScoreCat — категории кредитного рейтинга."
   ]
  },
  {
   "cell_type": "code",
   "execution_count": null,
   "metadata": {},
   "outputs": [
    {
     "data": {
      "text/html": [
       "<div>\n",
       "<style scoped>\n",
       "    .dataframe tbody tr th:only-of-type {\n",
       "        vertical-align: middle;\n",
       "    }\n",
       "\n",
       "    .dataframe tbody tr th {\n",
       "        vertical-align: top;\n",
       "    }\n",
       "\n",
       "    .dataframe thead th {\n",
       "        text-align: right;\n",
       "    }\n",
       "</style>\n",
       "<table border=\"1\" class=\"dataframe\">\n",
       "  <thead>\n",
       "    <tr style=\"text-align: right;\">\n",
       "      <th></th>\n",
       "      <th>CustomerId</th>\n",
       "      <th>Surname</th>\n",
       "      <th>CreditScore</th>\n",
       "      <th>Geography</th>\n",
       "      <th>Gender</th>\n",
       "      <th>Age</th>\n",
       "      <th>Tenure</th>\n",
       "      <th>Balance</th>\n",
       "      <th>NumOfProducts</th>\n",
       "      <th>HasCrCard</th>\n",
       "      <th>IsActiveMember</th>\n",
       "      <th>EstimatedSalary</th>\n",
       "      <th>Exited</th>\n",
       "      <th>CreditScoreCat</th>\n",
       "    </tr>\n",
       "  </thead>\n",
       "  <tbody>\n",
       "    <tr>\n",
       "      <th>0</th>\n",
       "      <td>15634602</td>\n",
       "      <td>Hargrave</td>\n",
       "      <td>619</td>\n",
       "      <td>France</td>\n",
       "      <td>Female</td>\n",
       "      <td>42</td>\n",
       "      <td>2</td>\n",
       "      <td>0.00</td>\n",
       "      <td>1</td>\n",
       "      <td>1</td>\n",
       "      <td>active</td>\n",
       "      <td>101348.88</td>\n",
       "      <td>exited</td>\n",
       "      <td>Fair</td>\n",
       "    </tr>\n",
       "    <tr>\n",
       "      <th>1</th>\n",
       "      <td>15647311</td>\n",
       "      <td>Hill</td>\n",
       "      <td>608</td>\n",
       "      <td>Spain</td>\n",
       "      <td>Female</td>\n",
       "      <td>41</td>\n",
       "      <td>1</td>\n",
       "      <td>83807.86</td>\n",
       "      <td>1</td>\n",
       "      <td>0</td>\n",
       "      <td>active</td>\n",
       "      <td>112542.58</td>\n",
       "      <td>loyal</td>\n",
       "      <td>Fair</td>\n",
       "    </tr>\n",
       "    <tr>\n",
       "      <th>2</th>\n",
       "      <td>15619304</td>\n",
       "      <td>Onio</td>\n",
       "      <td>502</td>\n",
       "      <td>France</td>\n",
       "      <td>Female</td>\n",
       "      <td>42</td>\n",
       "      <td>8</td>\n",
       "      <td>159660.80</td>\n",
       "      <td>3</td>\n",
       "      <td>1</td>\n",
       "      <td>inactive</td>\n",
       "      <td>113931.57</td>\n",
       "      <td>exited</td>\n",
       "      <td>Poor</td>\n",
       "    </tr>\n",
       "    <tr>\n",
       "      <th>3</th>\n",
       "      <td>15701354</td>\n",
       "      <td>Boni</td>\n",
       "      <td>699</td>\n",
       "      <td>France</td>\n",
       "      <td>Female</td>\n",
       "      <td>39</td>\n",
       "      <td>1</td>\n",
       "      <td>0.00</td>\n",
       "      <td>2</td>\n",
       "      <td>0</td>\n",
       "      <td>inactive</td>\n",
       "      <td>93826.63</td>\n",
       "      <td>loyal</td>\n",
       "      <td>Good</td>\n",
       "    </tr>\n",
       "    <tr>\n",
       "      <th>4</th>\n",
       "      <td>15737888</td>\n",
       "      <td>Mitchell</td>\n",
       "      <td>850</td>\n",
       "      <td>Spain</td>\n",
       "      <td>Female</td>\n",
       "      <td>43</td>\n",
       "      <td>2</td>\n",
       "      <td>125510.82</td>\n",
       "      <td>1</td>\n",
       "      <td>1</td>\n",
       "      <td>active</td>\n",
       "      <td>79084.10</td>\n",
       "      <td>loyal</td>\n",
       "      <td>Excellent</td>\n",
       "    </tr>\n",
       "    <tr>\n",
       "      <th>...</th>\n",
       "      <td>...</td>\n",
       "      <td>...</td>\n",
       "      <td>...</td>\n",
       "      <td>...</td>\n",
       "      <td>...</td>\n",
       "      <td>...</td>\n",
       "      <td>...</td>\n",
       "      <td>...</td>\n",
       "      <td>...</td>\n",
       "      <td>...</td>\n",
       "      <td>...</td>\n",
       "      <td>...</td>\n",
       "      <td>...</td>\n",
       "      <td>...</td>\n",
       "    </tr>\n",
       "    <tr>\n",
       "      <th>9995</th>\n",
       "      <td>15606229</td>\n",
       "      <td>Obijiaku</td>\n",
       "      <td>771</td>\n",
       "      <td>France</td>\n",
       "      <td>Male</td>\n",
       "      <td>39</td>\n",
       "      <td>5</td>\n",
       "      <td>0.00</td>\n",
       "      <td>2</td>\n",
       "      <td>1</td>\n",
       "      <td>inactive</td>\n",
       "      <td>96270.64</td>\n",
       "      <td>loyal</td>\n",
       "      <td>Good</td>\n",
       "    </tr>\n",
       "    <tr>\n",
       "      <th>9996</th>\n",
       "      <td>15569892</td>\n",
       "      <td>Johnstone</td>\n",
       "      <td>516</td>\n",
       "      <td>France</td>\n",
       "      <td>Male</td>\n",
       "      <td>35</td>\n",
       "      <td>10</td>\n",
       "      <td>57369.61</td>\n",
       "      <td>1</td>\n",
       "      <td>1</td>\n",
       "      <td>active</td>\n",
       "      <td>101699.77</td>\n",
       "      <td>loyal</td>\n",
       "      <td>Poor</td>\n",
       "    </tr>\n",
       "    <tr>\n",
       "      <th>9997</th>\n",
       "      <td>15584532</td>\n",
       "      <td>Liu</td>\n",
       "      <td>709</td>\n",
       "      <td>France</td>\n",
       "      <td>Female</td>\n",
       "      <td>36</td>\n",
       "      <td>7</td>\n",
       "      <td>0.00</td>\n",
       "      <td>1</td>\n",
       "      <td>0</td>\n",
       "      <td>active</td>\n",
       "      <td>42085.58</td>\n",
       "      <td>exited</td>\n",
       "      <td>Good</td>\n",
       "    </tr>\n",
       "    <tr>\n",
       "      <th>9998</th>\n",
       "      <td>15682355</td>\n",
       "      <td>Sabbatini</td>\n",
       "      <td>772</td>\n",
       "      <td>Germany</td>\n",
       "      <td>Male</td>\n",
       "      <td>42</td>\n",
       "      <td>3</td>\n",
       "      <td>75075.31</td>\n",
       "      <td>2</td>\n",
       "      <td>1</td>\n",
       "      <td>inactive</td>\n",
       "      <td>92888.52</td>\n",
       "      <td>exited</td>\n",
       "      <td>Good</td>\n",
       "    </tr>\n",
       "    <tr>\n",
       "      <th>9999</th>\n",
       "      <td>15628319</td>\n",
       "      <td>Walker</td>\n",
       "      <td>792</td>\n",
       "      <td>France</td>\n",
       "      <td>Female</td>\n",
       "      <td>28</td>\n",
       "      <td>4</td>\n",
       "      <td>130142.79</td>\n",
       "      <td>1</td>\n",
       "      <td>1</td>\n",
       "      <td>inactive</td>\n",
       "      <td>38190.78</td>\n",
       "      <td>loyal</td>\n",
       "      <td>Excellent</td>\n",
       "    </tr>\n",
       "  </tbody>\n",
       "</table>\n",
       "<p>10000 rows × 14 columns</p>\n",
       "</div>"
      ],
      "text/plain": [
       "      CustomerId    Surname  CreditScore Geography  Gender  Age  Tenure  \\\n",
       "0       15634602   Hargrave          619    France  Female   42       2   \n",
       "1       15647311       Hill          608     Spain  Female   41       1   \n",
       "2       15619304       Onio          502    France  Female   42       8   \n",
       "3       15701354       Boni          699    France  Female   39       1   \n",
       "4       15737888   Mitchell          850     Spain  Female   43       2   \n",
       "...          ...        ...          ...       ...     ...  ...     ...   \n",
       "9995    15606229   Obijiaku          771    France    Male   39       5   \n",
       "9996    15569892  Johnstone          516    France    Male   35      10   \n",
       "9997    15584532        Liu          709    France  Female   36       7   \n",
       "9998    15682355  Sabbatini          772   Germany    Male   42       3   \n",
       "9999    15628319     Walker          792    France  Female   28       4   \n",
       "\n",
       "        Balance  NumOfProducts  HasCrCard IsActiveMember  EstimatedSalary  \\\n",
       "0          0.00              1          1         active        101348.88   \n",
       "1      83807.86              1          0         active        112542.58   \n",
       "2     159660.80              3          1       inactive        113931.57   \n",
       "3          0.00              2          0       inactive         93826.63   \n",
       "4     125510.82              1          1         active         79084.10   \n",
       "...         ...            ...        ...            ...              ...   \n",
       "9995       0.00              2          1       inactive         96270.64   \n",
       "9996   57369.61              1          1         active        101699.77   \n",
       "9997       0.00              1          0         active         42085.58   \n",
       "9998   75075.31              2          1       inactive         92888.52   \n",
       "9999  130142.79              1          1       inactive         38190.78   \n",
       "\n",
       "      Exited CreditScoreCat  \n",
       "0     exited           Fair  \n",
       "1      loyal           Fair  \n",
       "2     exited           Poor  \n",
       "3      loyal           Good  \n",
       "4      loyal      Excellent  \n",
       "...      ...            ...  \n",
       "9995   loyal           Good  \n",
       "9996   loyal           Poor  \n",
       "9997  exited           Good  \n",
       "9998  exited           Good  \n",
       "9999   loyal      Excellent  \n",
       "\n",
       "[10000 rows x 14 columns]"
      ]
     },
     "execution_count": 937,
     "metadata": {},
     "output_type": "execute_result"
    }
   ],
   "source": [
    "def get_credit_score_cat(credit_score):\n",
    "    if credit_score >= 300 and credit_score < 500:\n",
    "        return \"Very_Poor\"\n",
    "    elif credit_score >= 500 and credit_score < 601:\n",
    "        return \"Poor\"\n",
    "    elif credit_score >= 601 and credit_score < 661:\n",
    "        return \"Fair\"\n",
    "    elif credit_score >= 661 and credit_score < 781:\n",
    "        return \"Good\"\n",
    "    elif credit_score >= 781 and credit_score < 851:\n",
    "        return \"Excellent\"\n",
    "    elif credit_score >= 851:\n",
    "        return \"Top\"\n",
    "    elif credit_score < 300:\n",
    "        return \"Deep\"\n",
    "    \n",
    "churn_data['CreditScoreCat'] = churn_data['CreditScore'].apply(get_credit_score_cat)\n",
    "churn_data['CreditScoreCat'] = churn_data['CreditScoreCat'].astype('category')\n",
    "churn_data\n"
   ]
  },
  {
   "cell_type": "code",
   "execution_count": null,
   "metadata": {},
   "outputs": [
    {
     "data": {
      "text/html": [
       "<div>\n",
       "<style scoped>\n",
       "    .dataframe tbody tr th:only-of-type {\n",
       "        vertical-align: middle;\n",
       "    }\n",
       "\n",
       "    .dataframe tbody tr th {\n",
       "        vertical-align: top;\n",
       "    }\n",
       "\n",
       "    .dataframe thead th {\n",
       "        text-align: right;\n",
       "    }\n",
       "</style>\n",
       "<table border=\"1\" class=\"dataframe\">\n",
       "  <thead>\n",
       "    <tr style=\"text-align: right;\">\n",
       "      <th>Tenure</th>\n",
       "      <th>0</th>\n",
       "      <th>1</th>\n",
       "      <th>2</th>\n",
       "      <th>3</th>\n",
       "      <th>4</th>\n",
       "      <th>5</th>\n",
       "      <th>6</th>\n",
       "      <th>7</th>\n",
       "      <th>8</th>\n",
       "      <th>9</th>\n",
       "      <th>10</th>\n",
       "    </tr>\n",
       "    <tr>\n",
       "      <th>CreditScoreCat</th>\n",
       "      <th></th>\n",
       "      <th></th>\n",
       "      <th></th>\n",
       "      <th></th>\n",
       "      <th></th>\n",
       "      <th></th>\n",
       "      <th></th>\n",
       "      <th></th>\n",
       "      <th></th>\n",
       "      <th></th>\n",
       "      <th></th>\n",
       "    </tr>\n",
       "  </thead>\n",
       "  <tbody>\n",
       "    <tr>\n",
       "      <th>Excellent</th>\n",
       "      <td>815.454545</td>\n",
       "      <td>818.100000</td>\n",
       "      <td>818.785714</td>\n",
       "      <td>813.647059</td>\n",
       "      <td>814.916667</td>\n",
       "      <td>820.666667</td>\n",
       "      <td>827.428571</td>\n",
       "      <td>824.666667</td>\n",
       "      <td>822.300000</td>\n",
       "      <td>809.269231</td>\n",
       "      <td>822.769231</td>\n",
       "    </tr>\n",
       "    <tr>\n",
       "      <th>Fair</th>\n",
       "      <td>632.700000</td>\n",
       "      <td>630.936170</td>\n",
       "      <td>633.836735</td>\n",
       "      <td>627.680000</td>\n",
       "      <td>630.604651</td>\n",
       "      <td>631.895833</td>\n",
       "      <td>629.769231</td>\n",
       "      <td>630.400000</td>\n",
       "      <td>629.313725</td>\n",
       "      <td>634.690476</td>\n",
       "      <td>625.869565</td>\n",
       "    </tr>\n",
       "    <tr>\n",
       "      <th>Good</th>\n",
       "      <td>710.656250</td>\n",
       "      <td>712.126582</td>\n",
       "      <td>710.256757</td>\n",
       "      <td>716.552632</td>\n",
       "      <td>716.986111</td>\n",
       "      <td>712.975904</td>\n",
       "      <td>718.625000</td>\n",
       "      <td>712.197183</td>\n",
       "      <td>706.109091</td>\n",
       "      <td>723.164384</td>\n",
       "      <td>711.416667</td>\n",
       "    </tr>\n",
       "    <tr>\n",
       "      <th>Poor</th>\n",
       "      <td>555.750000</td>\n",
       "      <td>552.521739</td>\n",
       "      <td>555.462963</td>\n",
       "      <td>558.980769</td>\n",
       "      <td>558.474576</td>\n",
       "      <td>557.382979</td>\n",
       "      <td>555.697674</td>\n",
       "      <td>555.000000</td>\n",
       "      <td>557.207547</td>\n",
       "      <td>555.931034</td>\n",
       "      <td>569.150000</td>\n",
       "    </tr>\n",
       "    <tr>\n",
       "      <th>Very_Poor</th>\n",
       "      <td>424.375000</td>\n",
       "      <td>458.823529</td>\n",
       "      <td>459.100000</td>\n",
       "      <td>454.166667</td>\n",
       "      <td>456.000000</td>\n",
       "      <td>462.400000</td>\n",
       "      <td>431.687500</td>\n",
       "      <td>457.384615</td>\n",
       "      <td>447.500000</td>\n",
       "      <td>460.857143</td>\n",
       "      <td>445.777778</td>\n",
       "    </tr>\n",
       "  </tbody>\n",
       "</table>\n",
       "</div>"
      ],
      "text/plain": [
       "Tenure                  0           1           2           3           4   \\\n",
       "CreditScoreCat                                                               \n",
       "Excellent       815.454545  818.100000  818.785714  813.647059  814.916667   \n",
       "Fair            632.700000  630.936170  633.836735  627.680000  630.604651   \n",
       "Good            710.656250  712.126582  710.256757  716.552632  716.986111   \n",
       "Poor            555.750000  552.521739  555.462963  558.980769  558.474576   \n",
       "Very_Poor       424.375000  458.823529  459.100000  454.166667  456.000000   \n",
       "\n",
       "Tenure                  5           6           7           8           9   \\\n",
       "CreditScoreCat                                                               \n",
       "Excellent       820.666667  827.428571  824.666667  822.300000  809.269231   \n",
       "Fair            631.895833  629.769231  630.400000  629.313725  634.690476   \n",
       "Good            712.975904  718.625000  712.197183  706.109091  723.164384   \n",
       "Poor            557.382979  555.697674  555.000000  557.207547  555.931034   \n",
       "Very_Poor       462.400000  431.687500  457.384615  447.500000  460.857143   \n",
       "\n",
       "Tenure                  10  \n",
       "CreditScoreCat              \n",
       "Excellent       822.769231  \n",
       "Fair            625.869565  \n",
       "Good            711.416667  \n",
       "Poor            569.150000  \n",
       "Very_Poor       445.777778  "
      ]
     },
     "execution_count": 967,
     "metadata": {},
     "output_type": "execute_result"
    }
   ],
   "source": [
    "pivot = pd.pivot_table(\n",
    "    churn_data[churn_data['Exited']== 'exited'],\n",
    "    columns='Tenure',\n",
    "    index='CreditScoreCat',\n",
    "    values='CreditScore',\n",
    "    fill_value=0\n",
    "    \n",
    ")\n",
    "pivot"
   ]
  },
  {
   "cell_type": "code",
   "execution_count": null,
   "metadata": {},
   "outputs": [
    {
     "data": {
      "text/plain": [
       "<AxesSubplot:xlabel='Tenure', ylabel='CreditScoreCat'>"
      ]
     },
     "execution_count": 968,
     "metadata": {},
     "output_type": "execute_result"
    },
    {
     "data": {
      "image/png": "[encoded data removed]",
      "text/plain": [
       "<Figure size 1080x576 with 2 Axes>"
      ]
     },
     "metadata": {
      "needs_background": "light"
     },
     "output_type": "display_data"
    }
   ],
   "source": [
    "plt.figure(figsize = (15,8))\n",
    "heatmap = sns.heatmap(data = pivot, cmap='PiYG', annot=True, fmt='.0f', square=True)\n",
    "heatmap"
   ]
  },
  {
   "cell_type": "markdown",
   "metadata": {},
   "source": []
  },
  {
   "cell_type": "code",
   "execution_count": null,
   "metadata": {},
   "outputs": [],
   "source": []
  }
 ],
 "metadata": {
  "interpreter": {
   "hash": "40d3a090f54c6569ab1632332b64b2c03c39dcf918b08424e98f38b5ae0af88f"
  },
  "kernelspec": {
   "display_name": "Python 3.8.8 64-bit ('base': conda)",
   "language": "python",
   "name": "python3"
  },
  "language_info": {
   "codemirror_mode": {
    "name": "ipython",
    "version": 3
   },
   "file_extension": ".py",
   "mimetype": "text/x-python",
   "name": "python",
   "nbconvert_exporter": "python",
   "pygments_lexer": "ipython3",
   "version": "3.8.8"
  },
  "orig_nbformat": 4
 },
 "nbformat": 4,
 "nbformat_minor": 2
}
