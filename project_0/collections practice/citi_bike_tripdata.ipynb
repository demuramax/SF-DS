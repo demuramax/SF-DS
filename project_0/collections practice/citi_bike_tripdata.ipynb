{
 "cells": [
  {
   "cell_type": "code",
   "execution_count": 1,
   "metadata": {},
   "outputs": [],
   "source": [
    "import pandas as pd"
   ]
  },
  {
   "cell_type": "code",
   "execution_count": 67,
   "metadata": {},
   "outputs": [],
   "source": [
    "citi_bike_data = pd.read_csv('data/citibike-tripdata.csv', sep=',')\n",
    "bike_df = citi_bike_data.copy()\n",
    "\n"
   ]
  },
  {
   "cell_type": "code",
   "execution_count": null,
   "metadata": {},
   "outputs": [],
   "source": [
    "print(bike_df['start station id'].count())\n",
    "print(bike_df.shape[0] - bike_df['start station id'].count())"
   ]
  },
  {
   "cell_type": "code",
   "execution_count": null,
   "metadata": {},
   "outputs": [],
   "source": [
    "# bike_df.info()\n",
    "print()\n",
    "bike_df['start station id'].mode()\n",
    "bike_df['bikeid'].mode()"
   ]
  },
  {
   "cell_type": "code",
   "execution_count": 5,
   "metadata": {},
   "outputs": [
    {
     "name": "stdout",
     "output_type": "stream",
     "text": [
      "\n",
      "232202\n",
      "0.77\n",
      "ok\n"
     ]
    },
    {
     "data": {
      "text/plain": [
       "Subscriber    0.774007\n",
       "Customer      0.225993\n",
       "Name: usertype, dtype: float64"
      ]
     },
     "execution_count": 5,
     "metadata": {},
     "output_type": "execute_result"
    }
   ],
   "source": [
    "mode_usertype = bike_df['usertype'].mode()[0]\n",
    "print()\n",
    "# print(bike_df['usertype'].value_counts(0))\n",
    "count_mode_user = bike_df[bike_df['usertype'] == mode_usertype].shape[0]\n",
    "print(count_mode_user)\n",
    "print(round(count_mode_user / bike_df.shape[0], 2))\n",
    "print('ok')\n",
    "bike_df['usertype'].value_counts(normalize=True)\n"
   ]
  },
  {
   "cell_type": "code",
   "execution_count": 6,
   "metadata": {},
   "outputs": [
    {
     "data": {
      "text/plain": [
       "1    183582\n",
       "2     74506\n",
       "0     41912\n",
       "Name: gender, dtype: int64"
      ]
     },
     "execution_count": 6,
     "metadata": {},
     "output_type": "execute_result"
    }
   ],
   "source": [
    "bike_df['gender'].value_counts()\n",
    "\n",
    "# male_count = bike_df[bike_df['gender'] == 1].shape[0]\n",
    "# female_count = bike_df[bike_df['gender'] == 2].shape[0]\n",
    "# non_count = bike_df[bike_df['gender'] == 0].shape[0]\n",
    "# print(male_count, female_count, non_count)\n"
   ]
  },
  {
   "cell_type": "code",
   "execution_count": 7,
   "metadata": {},
   "outputs": [
    {
     "name": "stdout",
     "output_type": "stream",
     "text": [
      "426.0     1963\n",
      "514.0     1909\n",
      "519.0     1850\n",
      "2006.0    1828\n",
      "497.0     1804\n",
      "          ... \n",
      "3183.0       3\n",
      "3191.0       1\n",
      "3074.0       1\n",
      "3192.0       1\n",
      "3187.0       1\n",
      "Name: end station id, Length: 765, dtype: int64\n"
     ]
    }
   ],
   "source": [
    "\n",
    "bike_df['birth year'].value_counts()\n",
    "# print(bike_df.describe().loc[:, ['birth year']])\n",
    "# print(bike_df['start station name'].value_counts())\n",
    "print(bike_df['end station id'].value_counts())"
   ]
  },
  {
   "cell_type": "code",
   "execution_count": null,
   "metadata": {},
   "outputs": [],
   "source": [
    "bike_df.info()\n",
    "# bike_df = bike_df.drop(['start station id', 'end station id'], axis=1)\n",
    "bike_df.shape"
   ]
  },
  {
   "cell_type": "code",
   "execution_count": null,
   "metadata": {},
   "outputs": [],
   "source": [
    "\n",
    "# print(bike_df['birth year'])\n",
    "print()\n",
    "def get_age(birth_year):\n",
    "    start_year = 2018\n",
    "    age = start_year - birth_year\n",
    "    return age\n",
    "\n",
    "bike_df['ages'] = bike_df['birth year'].apply(get_age)\n",
    "\n",
    "# print(bike_df['ages'])\n",
    "print(bike_df[bike_df['ages'] > 60].shape[0])\n",
    "# bike_df = bike_df.drop(['birth year'], axis=1)\n",
    "\n",
    "\n"
   ]
  },
  {
   "cell_type": "code",
   "execution_count": 71,
   "metadata": {},
   "outputs": [
    {
     "name": "stdout",
     "output_type": "stream",
     "text": [
      "999.9145033333333\n"
     ]
    }
   ],
   "source": [
    "bike_df['starttime'] = pd.to_datetime(bike_df['starttime'])\n",
    "bike_df['stoptime'] = pd.to_datetime(bike_df['stoptime'])\n",
    "bike_df['trip duration'] = (bike_df['stoptime'] - bike_df['starttime']).dt.seconds\n",
    "print(bike_df['trip duration'].mean())\n"
   ]
  },
  {
   "cell_type": "code",
   "execution_count": 83,
   "metadata": {},
   "outputs": [
    {
     "name": "stdout",
     "output_type": "stream",
     "text": [
      "0    184865\n",
      "1    115135\n",
      "Name: weekend, dtype: int64\n"
     ]
    }
   ],
   "source": [
    "day_number = bike_df['starttime'].dt.dayofweek\n",
    "\n",
    "\n",
    "bike_df['weekend'] = day_number.apply(lambda x: 1 if x == 5 or x == 6 in day_number else 0)\n",
    "print(bike_df['weekend'].value_counts())"
   ]
  },
  {
   "cell_type": "code",
   "execution_count": 111,
   "metadata": {},
   "outputs": [
    {
     "name": "stdout",
     "output_type": "stream",
     "text": [
      "0           night\n",
      "1           night\n",
      "2           night\n",
      "3           night\n",
      "4           night\n",
      "           ...   \n",
      "299995    evening\n",
      "299996    evening\n",
      "299997    evening\n",
      "299998    evening\n",
      "299999    evening\n",
      "Name: time_of_day, Length: 300000, dtype: object\n",
      "\n",
      "9.0\n"
     ]
    }
   ],
   "source": [
    "\n",
    "day_time = bike_df['starttime'].dt.hour\n",
    "\n",
    "def get_time_of_day(timeframe):\n",
    "    day_type = ''\n",
    "    if 0 <= timeframe <= 6:\n",
    "        day_type = 'night'\n",
    "    elif 6 < timeframe <= 12:\n",
    "        day_type = 'morning'\n",
    "    elif 12 < timeframe <= 18:\n",
    "        day_type = 'day'\n",
    "    else: \n",
    "        day_type = 'evening'\n",
    "    \n",
    "    return day_type\n",
    "\n",
    "bike_df['time_of_day'] = day_time.apply(get_time_of_day)\n",
    "print(bike_df['time_of_day'])\n",
    "print()\n",
    "\n",
    "day_rides = bike_df[bike_df['time_of_day'] == 'day'].shape[0]\n",
    "night_rides = bike_df[bike_df['time_of_day'] == 'night'].shape[0]\n",
    "print(round(day_rides / night_rides, 0))\n",
    "\n",
    "\n",
    "    "
   ]
  },
  {
   "cell_type": "code",
   "execution_count": null,
   "metadata": {},
   "outputs": [],
   "source": []
  }
 ],
 "metadata": {
  "interpreter": {
   "hash": "40d3a090f54c6569ab1632332b64b2c03c39dcf918b08424e98f38b5ae0af88f"
  },
  "kernelspec": {
   "display_name": "Python 3.8.8 64-bit ('base': conda)",
   "language": "python",
   "name": "python3"
  },
  "language_info": {
   "codemirror_mode": {
    "name": "ipython",
    "version": 3
   },
   "file_extension": ".py",
   "mimetype": "text/x-python",
   "name": "python",
   "nbconvert_exporter": "python",
   "pygments_lexer": "ipython3",
   "version": "3.8.8"
  },
  "orig_nbformat": 4
 },
 "nbformat": 4,
 "nbformat_minor": 2
}
