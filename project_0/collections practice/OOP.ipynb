{
 "cells": [
  {
   "cell_type": "code",
   "execution_count": 3,
   "metadata": {},
   "outputs": [
    {
     "data": {
      "text/plain": [
       "(5, 2)"
      ]
     },
     "execution_count": 3,
     "metadata": {},
     "output_type": "execute_result"
    }
   ],
   "source": [
    "number = 2.5\n",
    "number.is_integer()\n",
    "number.as_integer_ratio()"
   ]
  },
  {
   "cell_type": "code",
   "execution_count": 6,
   "metadata": {},
   "outputs": [
    {
     "name": "stdout",
     "output_type": "stream",
     "text": [
      "2\n",
      "['Alexandra', 'Stanislav', 'Vasiliy', 'Vasiliy']\n"
     ]
    }
   ],
   "source": [
    "people = [\"Vasiliy\", \"Stanislav\", \"Alexandra\", \"Vasiliy\"]  \n",
    "\n",
    "print(people.count('Vasiliy'))\n",
    "people.sort()\n",
    "print(people)"
   ]
  },
  {
   "cell_type": "code",
   "execution_count": 40,
   "metadata": {},
   "outputs": [
    {
     "name": "stdout",
     "output_type": "stream",
     "text": [
      "Employee: Ivan Semenov\n",
      "Total sales: 390000\n",
      "Average sales: 130000.0\n",
      "Companies: ['SkyEng', 'PepsiCo']\n"
     ]
    }
   ],
   "source": [
    "class SalesReport():   \n",
    "    def __init__(self, employee_name):\n",
    "        self.deals = [] \n",
    "        self.employee_name = employee_name\n",
    "     \n",
    "    def add_deal(self, company, amount):\n",
    "        self.deals.append({'company': company, 'amount': amount})\n",
    "        \n",
    "    def total_amount(self):\n",
    "        return sum(deal['amount'] for deal in self.deals)\n",
    "    \n",
    "    def average_deal(self):\n",
    "        return self.total_amount()/len(self.deals)\n",
    "    \n",
    "    def all_companies(self):\n",
    "        return list(set([deal['company'] for deal in self.deals]))\n",
    "    \n",
    "    def print_report(self):\n",
    "        print('Employee:', self.employee_name)\n",
    "        print('Total sales:', self.total_amount())\n",
    "        print('Average sales:', self.average_deal())\n",
    "        print('Companies:', self.all_companies())\n",
    "      \n",
    "\n",
    "report = SalesReport(\"Ivan Semenov\")  \n",
    "  \n",
    "report.add_deal(\"PepsiCo\", 120_000)  \n",
    "report.add_deal(\"SkyEng\", 250_000)  \n",
    "report.add_deal(\"PepsiCo\", 20_000)  \n",
    "\n",
    "report.print_report()  \n",
    "\n"
   ]
  },
  {
   "cell_type": "code",
   "execution_count": 37,
   "metadata": {},
   "outputs": [
    {
     "name": "stdout",
     "output_type": "stream",
     "text": [
      "Average department revenue for Danon: 700000\n"
     ]
    }
   ],
   "source": [
    "class DepartmentReport():\n",
    "        def __init__(self, company_name):\n",
    "            self.revenues = []\n",
    "            self.company_name = company_name\n",
    "        \n",
    "        def add_revenue(self, revenue):\n",
    "            self.revenues.append(revenue)\n",
    "         \n",
    "        def average_revenue(self):\n",
    "            return (f'Average department revenue for {self.company_name}: {round(sum(self.revenues) / len(self.revenues))}')\n",
    "\n",
    "\n",
    "report = DepartmentReport(\"Danon\")\n",
    "report.add_revenue(1_000_000)\n",
    "report.add_revenue(400_000)\n",
    "\n",
    "print(report.average_revenue())\n",
    "# => Average department revenue for Danon: 700000"
   ]
  },
  {
   "cell_type": "code",
   "execution_count": 54,
   "metadata": {},
   "outputs": [
    {
     "name": "stdout",
     "output_type": "stream",
     "text": [
      "Order price for max@gmail.com is 100\n",
      "Order price for lova@yandex.ru is 180.0\n",
      "Order price for german@sberbank.ru is 500\n",
      "Order price for german@sberbank.ru is 450.0\n"
     ]
    }
   ],
   "source": [
    "class Client():  \n",
    "    # Базовые данные  \n",
    "    def __init__(self, email, order_num, registration_year):  \n",
    "        self.email = email  \n",
    "        self.order_num = order_num  \n",
    "        self.registration_year = registration_year  \n",
    "        self.discount = 0  \n",
    "          \n",
    "    # Оформление заказа  \n",
    "    def make_order(self, price):  \n",
    "        self.update_discount()  \n",
    "        self.order_num += 1  \n",
    "        # Здесь было бы оформление заказа, но мы просто выведем его цену  \n",
    "        discounted_price = price * (1 - self.discount)   \n",
    "        print(f\"Order price for {self.email} is {discounted_price}\")  \n",
    "              \n",
    "    # Назначение скидки  \n",
    "    def update_discount(self):   \n",
    "        if self.registration_year < 2018 and self.order_num >= 5:  \n",
    "            self.discount = 0.1  \n",
    "            \n",
    "            \n",
    "    client_db = [\n",
    "        Client('max@gmail.com', 2, 2019),\n",
    "        Client('lova@yandex.ru', 10, 2015),\n",
    "        Client('german@sberbank.ru', 4, 2017)\n",
    "    ]\n",
    "    \n",
    "    client_db[0].make_order(100)\n",
    "    client_db[1].make_order(200)\n",
    "    client_db[2].make_order(500)\n",
    "    client_db[2].make_order(500)"
   ]
  },
  {
   "cell_type": "code",
   "execution_count": 57,
   "metadata": {},
   "outputs": [],
   "source": [
    "class User():\n",
    "    def __init__(self, email, password, balance):\n",
    "        self.email = email\n",
    "        self.password = password\n",
    "        self.balance = balance\n",
    "    \n",
    "    def login(self, email, password):\n",
    "        if self.email == email and self.password == password:\n",
    "            return True\n",
    "        else: \n",
    "            return False\n",
    "    \n",
    "    def update_balance(self, amount):\n",
    "        self.balance += amount\n",
    "        "
   ]
  },
  {
   "cell_type": "code",
   "execution_count": 59,
   "metadata": {},
   "outputs": [
    {
     "name": "stdout",
     "output_type": "stream",
     "text": [
      "False\n",
      "True\n",
      "19700\n"
     ]
    }
   ],
   "source": [
    "user = User(\"gosha@roskino.org\", \"qwerty\", 20_000)\n",
    "print(user.login(\"gosha@roskino.org\", \"qwerty123\"))\n",
    "# => False\n",
    "print(user.login(\"gosha@roskino.org\", \"qwerty\"))\n",
    "# => True\n",
    "user.update_balance(200)\n",
    "user.update_balance(-500)\n",
    "print(user.balance)\n",
    "# => 19700"
   ]
  },
  {
   "cell_type": "markdown",
   "metadata": {},
   "source": [
    "### Комбинация операций"
   ]
  },
  {
   "cell_type": "code",
   "execution_count": 62,
   "metadata": {},
   "outputs": [
    {
     "name": "stdout",
     "output_type": "stream",
     "text": [
      "[1.0, 17.0, 4.0, 0.0, 8.0]\n",
      "6.892024376045111\n",
      "4.0\n"
     ]
    }
   ],
   "source": [
    "import statistics\n",
    "\n",
    "class DataFrame():\n",
    "    def __init__(self, column, fill_value=0):\n",
    "        self.column = column\n",
    "        self.fill_value = fill_value\n",
    "        self.fill_missed()\n",
    "        self.to_float()\n",
    "        \n",
    "    def fill_missed(self):\n",
    "        for i, value in enumerate(self.column):\n",
    "            if value is None or value == '':\n",
    "                self.column[i] = self.fill_value\n",
    "                \n",
    "    def to_float(self):\n",
    "        self.column = [float(value) for value in self.column]\n",
    "        \n",
    "    def median(self):\n",
    "        return statistics.median(self.column)\n",
    "    \n",
    "    def mean(self):\n",
    "        return statistics.mean(self.column)\n",
    "    \n",
    "    def deviation(self):\n",
    "        return statistics.stdev(self.column)\n",
    "    \n",
    "# Воспользуемся классом  \n",
    "df = DataFrame([\"1\", 17, 4, None, 8])  \n",
    "  \n",
    "print(df.column)  \n",
    "# => [1.0, 17.0, 4.0, 0.0, 8.0]  \n",
    "print(df.deviation())  \n",
    "# => 6.89  \n",
    "print(df.median())  \n",
    "# => 4.0  "
   ]
  },
  {
   "cell_type": "code",
   "execution_count": 73,
   "metadata": {},
   "outputs": [
    {
     "name": "stdout",
     "output_type": "stream",
     "text": [
      "[0, 2, 3, 4]\n"
     ]
    }
   ],
   "source": [
    "opa = [4, 4, 3, 0, 2, 0, 4]\n",
    "print( list(set(opa)))"
   ]
  },
  {
   "cell_type": "code",
   "execution_count": 81,
   "metadata": {},
   "outputs": [
    {
     "name": "stdout",
     "output_type": "stream",
     "text": [
      "5\n",
      "4\n"
     ]
    }
   ],
   "source": [
    "class IntDataFrame():\n",
    "    def __init__(self, list):\n",
    "        self.list = list\n",
    "        self.to_int()\n",
    "        self.count()\n",
    "        self.unique()\n",
    "        \n",
    "    def to_int(self):\n",
    "        self.list = [int(num) for num in self.list]\n",
    "    \n",
    "    def count(self):\n",
    "        return sum(map(lambda x: x > 0, self.list))\n",
    "    \n",
    "    def unique(self):\n",
    "        return len(list(set(self.list)))\n",
    "    \n",
    "    \n",
    "df = IntDataFrame([4.7, 4, 3, 0, 2.4, 0.3, 4])\n",
    "\n",
    "print(df.count())\n",
    "# => 5\n",
    "print(df.unique())\n",
    "# => 4\n",
    "        \n",
    "    \n"
   ]
  },
  {
   "cell_type": "markdown",
   "metadata": {},
   "source": [
    "### КЛАСС-ОБЁРТКА "
   ]
  },
  {
   "cell_type": "code",
   "execution_count": 83,
   "metadata": {},
   "outputs": [],
   "source": [
    "import pickle\n",
    "from datetime import datetime\n",
    "from os import path\n"
   ]
  },
  {
   "cell_type": "code",
   "execution_count": null,
   "metadata": {},
   "outputs": [],
   "source": [
    "class Dumper():  \n",
    "    def __init__(self, archive_dir=\"archive/\"):  \n",
    "        self.archive_dir = archive_dir  \n",
    "          \n",
    "    def dump(self, data):  \n",
    "        # Библиотека pickle позволяет доставать и класть объекты в файл  \n",
    "        with open(self.get_file_name(), 'wb') as file:  \n",
    "            pickle.dump(data, file)  \n",
    "              \n",
    "    def load_for_day(self, day):  \n",
    "        file_name = path.join(self.archive_dir, day + \".pkl\")   \n",
    "        with open(file_name, 'rb') as file:  \n",
    "            sets = pickle.load(file)  \n",
    "        return sets  \n",
    "          \n",
    "    # возвращает корректное имя для файла   \n",
    "    def get_file_name(self):   \n",
    "        today = datetime.now().strftime(\"%y-%m-%d\")   \n",
    "        return path.join(self.archive_dir, today + \".pkl\")  \n",
    "      \n",
    "      \n",
    "# Пример использования  \n",
    "  \n",
    "data = {  \n",
    "    'perfomance': [10, 20, 10],  \n",
    "    'clients': {\"Romashka\": 10, \"Vector\": 34}  \n",
    "}  \n",
    "  \n",
    "  \n",
    "dumper = Dumper()  \n",
    "  \n",
    "# Сохраним данные  \n",
    "dumper.dump(data)  \n",
    "  \n",
    "# Восстановим для сегодняшней даты  \n",
    "file_name = datetime.now().strftime(\"%y-%m-%d\")\n",
    "restored_data = dumper.load_for_day(file_name)\n",
    "print(restored_data)  \n",
    "# => {'perfomance': [10, 20, 10], 'clients': {'Romashka': 10, 'Vector': 34}}  "
   ]
  },
  {
   "cell_type": "code",
   "execution_count": 97,
   "metadata": {},
   "outputs": [
    {
     "data": {
      "text/plain": [
       "'System started'"
      ]
     },
     "execution_count": 97,
     "metadata": {},
     "output_type": "execute_result"
    }
   ],
   "source": [
    "class OwnLogger():\n",
    "    def __init__(self):\n",
    "        self.buffer = {}\n",
    "        \n",
    "    def log(self, message, level):\n",
    "        self.buffer[level] = message\n",
    "        self.buffer['all'] = message\n",
    "    \n",
    "    def show_last(self, level = 'all'):\n",
    "        if level in self.buffer:\n",
    "            return self.buffer[level]\n",
    "        else:\n",
    "            return None\n",
    "\n",
    "logger = OwnLogger()\n",
    "logger.log(\"System started\", \"info\")\n",
    "logger.show_last(\"error\")\n",
    "# => None\n",
    "# Некоторые интерпретаторы Python могут не выводить None, тогда в этой проверке у вас будет пустая строка\n",
    "logger.log(\"Connection instable\", \"warning\")\n",
    "logger.log(\"Connection lost\", \"error\")\n",
    "\n",
    "logger.show_last()\n",
    "# => Connection lost\n",
    "logger.show_last(\"info\")\n",
    "# => System started\n",
    "    "
   ]
  },
  {
   "cell_type": "code",
   "execution_count": 107,
   "metadata": {},
   "outputs": [
    {
     "name": "stdout",
     "output_type": "stream",
     "text": [
      "/Users/maxmercury/Documents/Data Science обучение/github learning/dt_data_science/project_0\n"
     ]
    }
   ],
   "source": [
    "import os\n",
    "start_path = os.getcwd()\n",
    "print(start_path)\n",
    "\n",
    "# os.chdir(\"..\")\n",
    "# os.getcwd()\n",
    "\n",
    "\n"
   ]
  },
  {
   "cell_type": "code",
   "execution_count": 106,
   "metadata": {},
   "outputs": [
    {
     "data": {
      "text/plain": [
       "'/Users/maxmercury/Documents/Data Science обучение/github learning/dt_data_science/project_0'"
      ]
     },
     "execution_count": 106,
     "metadata": {},
     "output_type": "execute_result"
    }
   ],
   "source": [
    "os.chdir(start_path)\n",
    "os.getcwd()"
   ]
  },
  {
   "cell_type": "code",
   "execution_count": 114,
   "metadata": {},
   "outputs": [
    {
     "name": "stdout",
     "output_type": "stream",
     "text": [
      "/Users/maxmercury/Documents/Data Science обучение/github learning/dt_data_science/project_0/collections practice\n"
     ]
    },
    {
     "data": {
      "text/plain": [
       "['collections practice',\n",
       " '.DS_Store',\n",
       " 'requirements.txt',\n",
       " 'game.py',\n",
       " 'README.md',\n",
       " 'environment.yaml',\n",
       " 'game.ipynb',\n",
       " 'game_v2.py']"
      ]
     },
     "execution_count": 114,
     "metadata": {},
     "output_type": "execute_result"
    }
   ],
   "source": [
    "os.listdir()\n",
    "print(os.path.join(start_path,'collections practice' ))\n",
    "os.listdir()"
   ]
  },
  {
   "cell_type": "code",
   "execution_count": 120,
   "metadata": {},
   "outputs": [
    {
     "data": {
      "text/plain": [
       "'/Users/maxmercury/Documents/Data Science обучение/github learning/dt_data_science/project_0'"
      ]
     },
     "execution_count": 120,
     "metadata": {},
     "output_type": "execute_result"
    }
   ],
   "source": [
    "start_path = os.getcwd()\n",
    "os.getcwd()"
   ]
  },
  {
   "cell_type": "code",
   "execution_count": 124,
   "metadata": {},
   "outputs": [],
   "source": [
    "f = open('test.txt', 'w', encoding='utf8')\n",
    "\n",
    "# Запишем в файл строку\n",
    "f.write(\"This is a test string\\n\")\n",
    "f.write(\"This is a new string\\n\")\n",
    "\n",
    "f.close()"
   ]
  },
  {
   "cell_type": "code",
   "execution_count": 131,
   "metadata": {},
   "outputs": [
    {
     "name": "stdout",
     "output_type": "stream",
     "text": [
      "This is a test string\n",
      "This is a new string\n",
      "\n"
     ]
    }
   ],
   "source": [
    "f = open('test.txt', 'r', encoding='utf8')\n",
    "print(f.read())\n",
    "\n",
    "f.close()"
   ]
  },
  {
   "cell_type": "code",
   "execution_count": 132,
   "metadata": {},
   "outputs": [],
   "source": [
    "f = open('test.txt', 'a', encoding='utf8')\n",
    "sequence = ['other string\\n', '123\\n', 'test test\\n']\n",
    "f.writelines(sequence)\n",
    "\n",
    "f.close()\n"
   ]
  },
  {
   "cell_type": "code",
   "execution_count": 134,
   "metadata": {},
   "outputs": [
    {
     "name": "stdout",
     "output_type": "stream",
     "text": [
      "['This is a test string\\n', 'This is a new string\\n', 'other string\\n', '123\\n', 'test test\\n']\n"
     ]
    }
   ],
   "source": [
    "f = open('test.txt', 'r', encoding='utf8')\n",
    "\n",
    "print(f.readlines())\n",
    "f.close()"
   ]
  },
  {
   "cell_type": "code",
   "execution_count": 135,
   "metadata": {},
   "outputs": [
    {
     "name": "stdout",
     "output_type": "stream",
     "text": [
      "This is a test string\n",
      "\n",
      "This\n",
      " is a new string\n",
      "\n"
     ]
    }
   ],
   "source": [
    "f = open('test.txt', 'r', encoding='utf8')\n",
    "\n",
    "print(f.readline())\n",
    "print(f.read(4))\n",
    "print(f.readline())\n",
    "\n",
    "f.close()"
   ]
  },
  {
   "cell_type": "code",
   "execution_count": 136,
   "metadata": {},
   "outputs": [
    {
     "name": "stdout",
     "output_type": "stream",
     "text": [
      "This is a test string\n",
      "This is a new string\n",
      "other string\n",
      "123\n",
      "test test\n"
     ]
    }
   ],
   "source": [
    "f = open('test.txt')\n",
    "\n",
    "for line in f: \n",
    "    print(line, end='')\n",
    "    \n",
    "f.close()"
   ]
  },
  {
   "cell_type": "code",
   "execution_count": null,
   "metadata": {},
   "outputs": [],
   "source": [
    "with open('test.txt', 'rb') as f:\n",
    "    a = f.read(10)\n",
    "    b = f.read(23)\n",
    "\n",
    "print(a)\n",
    "print(b)\n"
   ]
  },
  {
   "cell_type": "code",
   "execution_count": 157,
   "metadata": {},
   "outputs": [],
   "source": [
    "with open(\"input.txt\", \"r\") as input_file:\n",
    "    with open(\"output.txt\", \"w\") as output_file:\n",
    "        for line in input_file:\n",
    "            output_file.write(line)\n",
    "\n",
    "\n",
    "\n"
   ]
  },
  {
   "cell_type": "code",
   "execution_count": 168,
   "metadata": {},
   "outputs": [],
   "source": [
    "filename = 'numbers.txt'\n",
    "output = 'output.txt'\n",
    "\n",
    "with open(filename) as f:\n",
    "    min_ = max_ = int(f.readline())\n",
    "    for line in f: \n",
    "        num = int(line)\n",
    "        if min_ > num:\n",
    "            min_ = num\n",
    "        elif max_ < num:\n",
    "            max_ = num\n",
    "    sum_ = min_ + max_\n",
    "\n",
    "with open(output, 'w') as f: \n",
    "      f.write(str(sum_))\n",
    "      f.write('\\n')\n"
   ]
  },
  {
   "cell_type": "code",
   "execution_count": 181,
   "metadata": {},
   "outputs": [
    {
     "name": "stdout",
     "output_type": "stream",
     "text": [
      "4\n"
     ]
    }
   ],
   "source": [
    "with open('input.txt') as f: \n",
    "    count = 0\n",
    "    for line in f: \n",
    "        if int(line.split()[-1]) < 3:\n",
    "            count += 1\n",
    "        \n",
    "    print(count)\n"
   ]
  },
  {
   "cell_type": "code",
   "execution_count": 189,
   "metadata": {},
   "outputs": [],
   "source": [
    "with open('input.txt', 'r') as inp: \n",
    "    with open('output.txt', 'w') as out:\n",
    "        for line in inp:\n",
    "            out.write(line[::-1])\n",
    "\n",
    "  "
   ]
  },
  {
   "cell_type": "code",
   "execution_count": 192,
   "metadata": {},
   "outputs": [
    {
     "name": "stdout",
     "output_type": "stream",
     "text": [
      "Перед исключением\n",
      "division by zero\n",
      "После исключения\n",
      "После После исключения\n"
     ]
    }
   ],
   "source": [
    "try:  # Добавляем конструкцию try-except для отлова нашей ошибки\n",
    "    print(\"Перед исключением\")\n",
    "    # теперь пользователь сам вводит числа для деления\n",
    "    a = int(input(\"a: \"))\n",
    "    b = int(input(\"b: \"))\n",
    "    c = a / b  # здесь может возникнуть исключение деления на ноль\n",
    "    print(c)  # печатаем c = a / b если всё хорошо\n",
    "except ZeroDivisionError as e: # Добавляем тип именно той ошибки, которую хотим отловить.     \n",
    "    print(e)  # Выводим информацию об ошибке\n",
    "    print(\"После исключения\")\n",
    " \n",
    "print(\"После После исключения\")"
   ]
  },
  {
   "cell_type": "code",
   "execution_count": 205,
   "metadata": {},
   "outputs": [
    {
     "name": "stdout",
     "output_type": "stream",
     "text": [
      "Looser you wrote fjvnf str format of number\n",
      "The program finished!\n",
      "Well done mate!\n"
     ]
    }
   ],
   "source": [
    "try: \n",
    "    a = int(input('Enter the number: '))\n",
    "except ValueError:\n",
    "    print(f'Looser you wrote {a} str format of number')\n",
    "else: \n",
    "    print(f'You entered {a} - right number type')   \n",
    "finally:\n",
    "    print('The program finished!')\n",
    "\n",
    "print('Well done mate!')\n",
    "    "
   ]
  },
  {
   "cell_type": "code",
   "execution_count": 204,
   "metadata": {},
   "outputs": [
    {
     "data": {
      "text/plain": [
       "False"
      ]
     },
     "execution_count": 204,
     "metadata": {},
     "output_type": "execute_result"
    }
   ],
   "source": [
    "class NonPositiveDigitException(ValueError):\n",
    "    pass\n",
    "\n",
    "class Square:\n",
    "    def __init__(self, a):\n",
    "        if a < 0:\n",
    "            raise NonPositiveDigitException('Неправильно указана сторона квадрата')\n",
    "    "
   ]
  },
  {
   "cell_type": "code",
   "execution_count": null,
   "metadata": {},
   "outputs": [],
   "source": []
  },
  {
   "cell_type": "code",
   "execution_count": null,
   "metadata": {},
   "outputs": [],
   "source": []
  }
 ],
 "metadata": {
  "interpreter": {
   "hash": "40d3a090f54c6569ab1632332b64b2c03c39dcf918b08424e98f38b5ae0af88f"
  },
  "kernelspec": {
   "display_name": "Python 3.8.8 64-bit ('base': conda)",
   "language": "python",
   "name": "python3"
  },
  "language_info": {
   "codemirror_mode": {
    "name": "ipython",
    "version": 3
   },
   "file_extension": ".py",
   "mimetype": "text/x-python",
   "name": "python",
   "nbconvert_exporter": "python",
   "pygments_lexer": "ipython3",
   "version": "3.8.8"
  },
  "orig_nbformat": 4
 },
 "nbformat": 4,
 "nbformat_minor": 2
}
