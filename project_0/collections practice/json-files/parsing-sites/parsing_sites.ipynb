{
 "cells": [
  {
   "cell_type": "code",
   "execution_count": 55,
   "metadata": {},
   "outputs": [],
   "source": [
    "import requests\n",
    "from pprint import pprint\n",
    "from bs4 import BeautifulSoup\n",
    "import pandas as pd\n",
    "import time\n",
    "import schedule\n"
   ]
  },
  {
   "cell_type": "code",
   "execution_count": 2,
   "metadata": {},
   "outputs": [],
   "source": [
    "url = 'https://www.cbr-xml-daily.ru/daily_json.js'\n",
    "response = requests.get(url)"
   ]
  },
  {
   "cell_type": "code",
   "execution_count": 3,
   "metadata": {},
   "outputs": [
    {
     "name": "stdout",
     "output_type": "stream",
     "text": [
      "'Чешских крон'\n"
     ]
    }
   ],
   "source": [
    "# response = requests.get('https://www.cbr-xml-daily.ru/daily.xml')\n",
    "\n",
    "\n",
    "currencies = response.json()\n",
    "# pprint(currencies)\n",
    "\n",
    "pprint(currencies['Valute']['CZK']['Name'])"
   ]
  },
  {
   "cell_type": "code",
   "execution_count": 4,
   "metadata": {},
   "outputs": [
    {
     "name": "stdout",
     "output_type": "stream",
     "text": [
      "<title>Премию Нобеля по экономике присудили за исследования экономики труда и причинно-следственных связей</title>\n",
      "Премию Нобеля по экономике присудили за исследования экономики труда и причинно-следственных связей\n"
     ]
    }
   ],
   "source": [
    "url = 'https://nplus1.ru/news/2021/10/11/econobel2021'\n",
    "response = requests.get(url)\n",
    "page = BeautifulSoup(response.text, 'html.parser')\n",
    "print(page.title)\n",
    "print(page.title.text)"
   ]
  },
  {
   "cell_type": "code",
   "execution_count": 5,
   "metadata": {},
   "outputs": [
    {
     "name": "stdout",
     "output_type": "stream",
     "text": [
      "Премию Нобеля по экономике присудили за исследования экономики труда и причинно-следственных связей\n",
      "\n",
      "13:04\n",
      "11 Окт. 2021\n",
      "\n"
     ]
    }
   ],
   "source": [
    "print(page.find('h1').text)\n",
    "print(page.find('time').text)"
   ]
  },
  {
   "cell_type": "code",
   "execution_count": 6,
   "metadata": {},
   "outputs": [
    {
     "name": "stdout",
     "output_type": "stream",
     "text": [
      "\n",
      "\n",
      "\n",
      "\n",
      "\n",
      "\n",
      "\n",
      "\n",
      "Премия Шведского национального банка по экономическим наукам памяти Альфреда Нобеля за 2021 год присуждена Дэвиду Карду (David Card) за его вклад в эмпирические исследования экономики рынка труда, а также Джошуа Энгристу (Joshua Angrist) и Гвидо Имбенсу (Guido Imbens) за их вклад в методологию анализа причинно-следственных связей. Прямая трансляция церемонии объявления лауреатов шла на официальном сайте Нобелевской премии.\n",
      "\n",
      "\n",
      "\n",
      "\n",
      "\n",
      "\n",
      "\n",
      "\n",
      "\n",
      "Слева направо: Дэвид Карт, Джошуа Энгрист и Гвидо Имбенс.\n",
      "Niklas Elmehed © Nobel Prize Outreach\n",
      "\n",
      "\n",
      "\n",
      "Поделиться\n",
      "\n",
      "\n",
      "\n",
      "\n",
      "\n",
      "\n",
      "\n",
      "\n",
      "\n",
      "\n",
      "\n",
      "\n",
      "\n",
      "\n",
      "\n",
      "\n",
      "\n",
      "Премия по экономике, в отличие от Нобелевских премий по физиологии и медицине, физике, химии и литературе, а также премии мира, была учреждена не самим Альфредом Нобелем, а Банком Швеции в 1968 году. Ее размер равен размеру остальных премий.Лауреаты этого года награждены за их исследования причинно-следственных связей в области социальных наук. В частности, Дэвид Кард из университета Калифорнии в Беркли начиная с 1990-х годов исследовал, как именно на рынок труда влияют изменения минимальных зарплат, уровень иммиграции и образовательный уровень населения. Полученные им результаты, в частности, указывали, что повышение уровня минимальных зарплат не обязательно влечет за собой сокращение количества рабочих мест.Два других лауреата - Джошуа Ангрист из Массачусетского технологического института и Гвидо Имбенс из Стэнфордского университета исследовали, как можно установить наличие причинно-следственных связей в естественных экспериментах, связанных с поисками отношения между уровнем образования и доходами.Компания Clarivate, которая составляет списки потенциальных нобелевских лауреатов на основе наукометрических данных, в 2021 году предположила, что в экономической номинации премию могут присудить Дэвиду Одречу (David Audretsch) и Дэвиду Тису (David Teece) за исследование инноваций.\n",
      "Кроме того, в списке этого года были Джоэл Мокир (Joel Mokyr), который исследует культурные истоки промышленной революции, а также Кармен Рейнхарт (Carmen Reinhart) и Кеннет Рогофф (Kenneth Rogoff) — авторы гипотезы «90-процентного порога»., согласно которой, когда внешний долг государства достигает 90 процентов от ВВП, скорость роста ВВП падает вдвое.\n",
      "В 2020 году премию по экономике присудили Полу Милгрому и Роберту Уилсону за развитие теории аукционов и изобретение новых форматов аукционов. Лауреаты исследовали, как работают аукционы, и разрабатывали новые форматы проведения аукционов для продажи товаров и услуг, которые трудно продавать с помощью традиционных методов. Читайте об их работах в нашем материале «Тонкости молотка».\n",
      "В 2019 году премии памяти Нобеля по экономике были удостоены Абхиджит Банерджи, Эстер Дюфло и Майкл Кремер — «за экспериментальный подход к искоренению глобальной бедности». Подробнее о заслугах лауреатов можно прочесть в нашем материале «Опыты на бедных». В 2018 года награда была присуждена Уильяму Нордхаусу за «интеграцию изменения климата в долгосрочный макроэкономический анализ» и Полу Ромеру за «интеграцию технологических инноваций в долгосрочный макроэкономический анализ». Об их работах можно прочитать в материале «Почем знания для природы».\n",
      "Сергей Кузнецов\n",
      "\n"
     ]
    }
   ],
   "source": [
    "# print(page.find('div', class_='body').text) \n",
    "# print(page.find('div', class_='js-mediator-article').text)\n",
    "print(page.find('div', class_='body js-mediator-article').text)"
   ]
  },
  {
   "cell_type": "code",
   "execution_count": 7,
   "metadata": {},
   "outputs": [],
   "source": [
    "def get_wiki_header(wiki_url):\n",
    "    response = requests.get(wiki_url)\n",
    "    header = BeautifulSoup(response.text, 'html.parser')\n",
    "    return header.find('h1').text"
   ]
  },
  {
   "cell_type": "code",
   "execution_count": 8,
   "metadata": {},
   "outputs": [
    {
     "name": "stdout",
     "output_type": "stream",
     "text": [
      "['', 'Jump to navigation', 'Jump to search', 'Programming languagelists', 'Alphabetical', 'Categorical', 'Chronological', 'Generational', 'v', 't']\n"
     ]
    }
   ],
   "source": [
    "url = 'https://en.wikipedia.org/wiki/List_of_programming_languages'\n",
    "response = requests.get(url) # Делаем GET-запрос к ресурсу\n",
    "page = BeautifulSoup(response.text, 'html.parser') # Создаём объект BeautifulSoup\n",
    "links = page.find_all('a')\n",
    "len(links)\n",
    "\n",
    "print([link.text for link in links[0:10]])"
   ]
  },
  {
   "cell_type": "markdown",
   "metadata": {},
   "source": [
    "### ЗАПРОС К API ИЗ КОДА\n"
   ]
  },
  {
   "cell_type": "code",
   "execution_count": 9,
   "metadata": {},
   "outputs": [
    {
     "name": "stdout",
     "output_type": "stream",
     "text": [
      "{'response': [{'bdate': '10.10.1984',\n",
      "               'can_access_closed': True,\n",
      "               'first_name': 'Павел',\n",
      "               'id': 1,\n",
      "               'is_closed': False,\n",
      "               'last_name': 'Дуров',\n",
      "               'sex': 2}]}\n"
     ]
    }
   ],
   "source": [
    "token = '4b3ce8894b3ce8894b3ce8892e4b47e5f944b3c4b3ce8892ac8de372367576846ac59d8'\n",
    "url = 'https://api.vk.com/method/users.get'\n",
    "params = {'user_id': 1, 'v': 5.95, 'fields': 'sex,bdate', 'access_token': token, 'lang': 'ru'}\n",
    "response = requests.get(url, params=params)\n",
    "pprint(response.json())"
   ]
  },
  {
   "cell_type": "code",
   "execution_count": 10,
   "metadata": {},
   "outputs": [
    {
     "name": "stdout",
     "output_type": "stream",
     "text": [
      "Павел\n"
     ]
    }
   ],
   "source": [
    "user = response.json()['response'][0]\n",
    "print(user['first_name'])"
   ]
  },
  {
   "cell_type": "code",
   "execution_count": 11,
   "metadata": {},
   "outputs": [
    {
     "name": "stdout",
     "output_type": "stream",
     "text": [
      "{'response': [{'can_access_closed': True,\n",
      "               'first_name': 'Павел',\n",
      "               'id': 1,\n",
      "               'is_closed': False,\n",
      "               'last_name': 'Дуров'},\n",
      "              {'can_access_closed': False,\n",
      "               'first_name': 'Александра',\n",
      "               'id': 2,\n",
      "               'is_closed': True,\n",
      "               'last_name': 'Владимирова'},\n",
      "              {'deactivated': 'deleted',\n",
      "               'first_name': 'DELETED',\n",
      "               'id': 3,\n",
      "               'last_name': ''}]}\n"
     ]
    }
   ],
   "source": [
    "ids = ','.join(map(str, range(1,4)))\n",
    "params = {'user_ids': ids, 'v': 5.95, 'fields': 'bday', 'access_token': token, 'lang': 'ru'}\n",
    "pprint(requests.get(url, params=params).json())"
   ]
  },
  {
   "cell_type": "code",
   "execution_count": null,
   "metadata": {},
   "outputs": [],
   "source": [
    "ids = ','.join(map(str, range(1, 501)))\n",
    "params = {'user_ids': ids, 'v': 5.95, 'fields': 'sex', 'access_token': token, 'lang': 'ru'}\n",
    "sex_response =  requests.get(url, params=params).json()['response']\n",
    "# pprint(sex_response)\n",
    "df = pd.DataFrame(sex_response)\n",
    "df[(df['sex'] == 1) | (df['sex'] == 2)]['sex'].value_counts(normalize=True)\n",
    "\n"
   ]
  },
  {
   "cell_type": "code",
   "execution_count": 33,
   "metadata": {},
   "outputs": [
    {
     "name": "stdout",
     "output_type": "stream",
     "text": [
      "[5, 6, 19, 34, 47, 54, 79, 177, 193, 198, 212, 219, 239, 243, 254, 345, 404, 406, 407, 467]\n"
     ]
    }
   ],
   "source": [
    "url = 'https://api.vk.com/method/groups.getMembers'\n",
    "params = {'group_id': 'vk', 'v': 5.95, 'access_token': token}\n",
    "response = requests.get(url, params=params)\n",
    "data = response.json()\n",
    "print(data['response']['items'][:20])"
   ]
  },
  {
   "cell_type": "code",
   "execution_count": 36,
   "metadata": {},
   "outputs": [
    {
     "name": "stdout",
     "output_type": "stream",
     "text": [
      "Выгружаю 1000 пользователей с offset = 0\n",
      "Ожидаю 0.5 секунды...\n",
      "Выгружаю 1000 пользователей с offset = 1000\n",
      "Ожидаю 0.5 секунды...\n",
      "Выгружаю 1000 пользователей с offset = 2000\n",
      "Ожидаю 0.5 секунды...\n",
      "Выгружаю 1000 пользователей с offset = 3000\n",
      "Ожидаю 0.5 секунды...\n",
      "Выгружаю 1000 пользователей с offset = 4000\n",
      "Ожидаю 0.5 секунды...\n",
      "Выгружаю 1000 пользователей с offset = 5000\n",
      "Ожидаю 0.5 секунды...\n",
      "Выгружаю 1000 пользователей с offset = 6000\n",
      "Ожидаю 0.5 секунды...\n",
      "Выгружаю 1000 пользователей с offset = 7000\n",
      "Ожидаю 0.5 секунды...\n",
      "Выгружаю 1000 пользователей с offset = 8000\n",
      "Ожидаю 0.5 секунды...\n",
      "Выгружаю 1000 пользователей с offset = 9000\n",
      "Ожидаю 0.5 секунды...\n",
      "Цикл завершен, offset = 10000\n"
     ]
    }
   ],
   "source": [
    "url = 'https://api.vk.com/method/groups.getMembers'\n",
    "count = 1000\n",
    "offset = 0\n",
    "user_ids = []\n",
    "max_count = data['response']['count']\n",
    "while offset < 10000:\n",
    "    print('Выгружаю {} пользователей с offset = {}'.format(count, offset))   \n",
    "    params = {'group_id': 'vk', 'v': 5.95, 'count': count, 'offset': offset, 'access_token': token}\n",
    "    response = requests.get(url, params = params)\n",
    "    data = response.json()\n",
    "    user_ids += data['response']['items']\n",
    "    offset += count\n",
    "    print('Ожидаю 0.5 секунды...')\n",
    "    time.sleep(0.5)\n",
    "print('Цикл завершен, offset =', offset)\n"
   ]
  },
  {
   "cell_type": "code",
   "execution_count": null,
   "metadata": {},
   "outputs": [],
   "source": [
    "url = 'https://api.vk.com/method/wall.get'\n",
    "params = {'domain': 'vk', 'filter': 'owner', 'count': 1000, 'offset': 0, 'access_token': token, 'v': 5.95}\n",
    "response = requests.get(url, params = params)\n",
    "pprint(response.json())"
   ]
  },
  {
   "cell_type": "code",
   "execution_count": 47,
   "metadata": {},
   "outputs": [
    {
     "data": {
      "text/plain": [
       "{'id': 1270492,\n",
       " 'from_id': -22822305,\n",
       " 'owner_id': -22822305,\n",
       " 'date': 1642084584,\n",
       " 'marked_as_ads': 0,\n",
       " 'post_type': 'post',\n",
       " 'text': '[https://vk.com/checkback#snowfall|«Снегопад подарков»] осыпал участников призами во второй раз 🏆\\n\\nЗаходите в мини-приложение: если вам улыбнулась удача, увидите свой уникальный номер в блоке «Победители». Мы заботимся о личных границах и безопасности участников: в списке нет фамилий, фото и ссылок на профили. Но будем рады, если призёры поделятся своими победами прямо в комментариях!\\n\\nСо всеми победителями свяжемся в личных сообщениях в течение суток и расскажем, как получить подарки. Не волнуйтесь, если вам ещё не написали: мы уже рядом 😉\\n\\nНо на этом вихрь сюрпризов не заканчивается — продолжайте получать моментальные призы в «Снегопаде подарков» до 15 января. А ещё на следующей неделе объявим результаты розыгрыша от банка ПСБ. Если собирали специальные снежинки, следите за новостями!',\n",
       " 'attachments': [{'type': 'photo',\n",
       "   'photo': {'album_id': -7,\n",
       "    'date': 1642084583,\n",
       "    'id': 457327501,\n",
       "    'owner_id': -22822305,\n",
       "    'access_key': 'f579133e8c789649a9',\n",
       "    'sizes': [{'height': 91,\n",
       "      'url': 'https://sun6-23.userapi.com/impg/nhz2XSJLeRAh08aGlc73auLtJmamXAh8bhOo1g/OxiKB_m81O4.jpg?size=130x91&quality=96&sign=37d98f7c418621ad3fc8763c890e093d&c_uniq_tag=Qfp6tgLBdpsj8SQI4MSyRu2eAJSemki7bERv4wl8sZg&type=album',\n",
       "      'type': 'm',\n",
       "      'width': 130},\n",
       "     {'height': 91,\n",
       "      'url': 'https://sun6-23.userapi.com/impg/nhz2XSJLeRAh08aGlc73auLtJmamXAh8bhOo1g/OxiKB_m81O4.jpg?size=130x91&quality=96&sign=37d98f7c418621ad3fc8763c890e093d&c_uniq_tag=Qfp6tgLBdpsj8SQI4MSyRu2eAJSemki7bERv4wl8sZg&type=album',\n",
       "      'type': 'o',\n",
       "      'width': 130},\n",
       "     {'height': 140,\n",
       "      'url': 'https://sun6-23.userapi.com/impg/nhz2XSJLeRAh08aGlc73auLtJmamXAh8bhOo1g/OxiKB_m81O4.jpg?size=200x140&quality=96&sign=1b97182bb4273c6736be16dbf16dfb50&c_uniq_tag=xXNbYCl2w2XDYA5h53GHVkxoQ05ot7musCuZMwKyTBY&type=album',\n",
       "      'type': 'p',\n",
       "      'width': 200},\n",
       "     {'height': 224,\n",
       "      'url': 'https://sun6-23.userapi.com/impg/nhz2XSJLeRAh08aGlc73auLtJmamXAh8bhOo1g/OxiKB_m81O4.jpg?size=320x224&quality=96&sign=e487a06fa416f0e2a65c8b3e23b41cff&c_uniq_tag=gOmvu7F9lDkpdIaRJLwsZrU8x3yffrRpDdkp7edc02s&type=album',\n",
       "      'type': 'q',\n",
       "      'width': 320},\n",
       "     {'height': 357,\n",
       "      'url': 'https://sun6-23.userapi.com/impg/nhz2XSJLeRAh08aGlc73auLtJmamXAh8bhOo1g/OxiKB_m81O4.jpg?size=510x357&quality=96&sign=acd95b3c3fe77303068024ce3127421a&c_uniq_tag=q8nS38yhEDn18CwUb_6qsc-Wc7PxukhkRJblGBVnLbE&type=album',\n",
       "      'type': 'r',\n",
       "      'width': 510},\n",
       "     {'height': 52,\n",
       "      'url': 'https://sun6-23.userapi.com/impg/nhz2XSJLeRAh08aGlc73auLtJmamXAh8bhOo1g/OxiKB_m81O4.jpg?size=75x52&quality=96&sign=4cccd7b2e35c19bc769ebec3a821cd23&c_uniq_tag=WzukxcVt3CcuYN_gxQPfDtkdV1v24b-CwAGlvQSiE4Y&type=album',\n",
       "      'type': 's',\n",
       "      'width': 75},\n",
       "     {'height': 423,\n",
       "      'url': 'https://sun6-23.userapi.com/impg/nhz2XSJLeRAh08aGlc73auLtJmamXAh8bhOo1g/OxiKB_m81O4.jpg?size=604x423&quality=96&sign=f02132ffd2800bad658eb7c2d022fb50&c_uniq_tag=ChNroIqdv2IKAf3skrGkVQV_-46N5p19swdozLqwDIk&type=album',\n",
       "      'type': 'x',\n",
       "      'width': 604},\n",
       "     {'height': 565,\n",
       "      'url': 'https://sun6-23.userapi.com/impg/nhz2XSJLeRAh08aGlc73auLtJmamXAh8bhOo1g/OxiKB_m81O4.jpg?size=807x565&quality=96&sign=ded163a3383a7025086115dac9c154db&c_uniq_tag=1m1k6gMai3vsxFltDpphP9ZRSMWScuUhiQnnXxGUdbQ&type=album',\n",
       "      'type': 'y',\n",
       "      'width': 807},\n",
       "     {'height': 700,\n",
       "      'url': 'https://sun6-23.userapi.com/impg/nhz2XSJLeRAh08aGlc73auLtJmamXAh8bhOo1g/OxiKB_m81O4.jpg?size=1000x700&quality=96&sign=b7eb6ba6bafe764a6058cf28058ef257&c_uniq_tag=eqcsLyM-szRSQHfDxIJvb9hKQA5pB8m6UpfNARYkpBA&type=album',\n",
       "      'type': 'z',\n",
       "      'width': 1000}],\n",
       "    'text': '',\n",
       "    'user_id': 100}}],\n",
       " 'post_source': {'platform': 'iphone', 'type': 'api'},\n",
       " 'comments': {'can_post': 1, 'count': 1218, 'groups_can_post': True},\n",
       " 'likes': {'can_like': 1, 'count': 2715, 'user_likes': 0, 'can_publish': 1},\n",
       " 'reposts': {'count': 1690, 'user_reposted': 0},\n",
       " 'views': {'count': 926608},\n",
       " 'edited': 1642084594,\n",
       " 'hash': 'aQadgZJsnguQbKdVjA'}"
      ]
     },
     "execution_count": 47,
     "metadata": {},
     "output_type": "execute_result"
    }
   ],
   "source": [
    "response.json()['response']['items'][0]"
   ]
  },
  {
   "cell_type": "code",
   "execution_count": 48,
   "metadata": {},
   "outputs": [
    {
     "name": "stdout",
     "output_type": "stream",
     "text": [
      "{'[https://vk.com/checkback#snow': [1218, 1690, 1642084584],\n",
      " 'А если взглянуть в целом, то к': [275, 259, 1640094467],\n",
      " 'ВКонтакте всегда есть что посм': [197, 92, 1640017040],\n",
      " 'Запускаем собственное шоу в пе': [95, 1369, 1640940328],\n",
      " 'Каким был ваш 2021-й ВКонтакте': [601, 9770, 1640174402],\n",
      " 'Мы приготовили для вас целую г': [173, 651, 1640712137],\n",
      " 'Объявляем итоги первого розыгр': [665, 898, 1640871560],\n",
      " 'Одни называют всё, что происхо': [127, 275, 1639491162],\n",
      " 'Приближаем праздники вместе — ': [7043, 685, 1639590427],\n",
      " 'Эти каникулы будут особенными ': [130, 156, 1640171709]}\n"
     ]
    }
   ],
   "source": [
    "stats = {}\n",
    "count_post = 0\n",
    "for record in response.json()['response']['items'][:]:\n",
    "    title = record['text'][:30]\n",
    "    if title: \n",
    "        stats[title] = [record['comments']['count'], record['reposts']['count'], record['date']]\n",
    "        count_post += 1\n",
    "    if count_post < 10:\n",
    "        continue\n",
    "    else: \n",
    "        break\n",
    "pprint(stats)"
   ]
  },
  {
   "cell_type": "markdown",
   "metadata": {},
   "source": [
    "### Автоматический запуск - скрипты"
   ]
  },
  {
   "cell_type": "code",
   "execution_count": 49,
   "metadata": {},
   "outputs": [
    {
     "name": "stdout",
     "output_type": "stream",
     "text": [
      "Collecting schedule\n",
      "  Downloading schedule-1.1.0-py2.py3-none-any.whl (10 kB)\n",
      "Installing collected packages: schedule\n",
      "Successfully installed schedule-1.1.0\n"
     ]
    }
   ],
   "source": [
    "!pip install schedule"
   ]
  },
  {
   "cell_type": "code",
   "execution_count": null,
   "metadata": {},
   "outputs": [],
   "source": [
    "def task():\n",
    "    print('Hello! I am a task!')\n",
    "    return\n",
    "\n",
    "schedule.every(1).minutes.do(task)\n",
    "\n",
    "while True: \n",
    "    schedule.run_pending()\n",
    "    time.sleep(1)"
   ]
  },
  {
   "cell_type": "code",
   "execution_count": 59,
   "metadata": {},
   "outputs": [
    {
     "name": "stdout",
     "output_type": "stream",
     "text": [
      "[4, 9, 16, 25]\n"
     ]
    }
   ],
   "source": [
    "def number_exponential(num):\n",
    "   return num**2\n",
    "\n",
    "number_list = [2,3,4,5]\n",
    "\n",
    "print(list(map(number_exponential, number_list)))"
   ]
  },
  {
   "cell_type": "code",
   "execution_count": 60,
   "metadata": {},
   "outputs": [
    {
     "name": "stdout",
     "output_type": "stream",
     "text": [
      "0\n",
      "test\n",
      "1\n",
      "test2\n",
      "2\n",
      "test3\n"
     ]
    }
   ],
   "source": [
    "iter_example = ['test', 'test2', 'test3']\n",
    "for idx, val in enumerate(iter_example):\n",
    "   print(idx)\n",
    "   print(val)"
   ]
  },
  {
   "cell_type": "code",
   "execution_count": 62,
   "metadata": {},
   "outputs": [
    {
     "name": "stdout",
     "output_type": "stream",
     "text": [
      "{0: 's', 1: 'a', 2: 'm', 3: 'p', 4: 'l', 5: 'e'}\n"
     ]
    }
   ],
   "source": [
    "dict_comprehension = {key:val for key, val in enumerate('sample')}\n",
    "print(dict_comprehension)"
   ]
  },
  {
   "cell_type": "code",
   "execution_count": 93,
   "metadata": {},
   "outputs": [
    {
     "name": "stdout",
     "output_type": "stream",
     "text": [
      "('time', 1, True)\n",
      "{'a': 'time', 'b': 1}\n"
     ]
    }
   ],
   "source": [
    "def sample(*args):\n",
    "    print(args)\n",
    "\n",
    "sample('time', 1, True)\n",
    "\n",
    "#Пример **kwargs\n",
    "def sample(**kwargs):\n",
    "    print(kwargs)\n",
    "\n",
    "sample(a = 'time', b = 1)"
   ]
  },
  {
   "cell_type": "code",
   "execution_count": 96,
   "metadata": {},
   "outputs": [
    {
     "name": "stdout",
     "output_type": "stream",
     "text": [
      "      *\n",
      "     ***\n",
      "    *****\n",
      "   *******\n",
      "  *********\n",
      " ***********\n",
      "*************\n"
     ]
    }
   ],
   "source": [
    "def star_triangle(r):\n",
    "   for x in range(r):\n",
    "      print(' '*(r-x-1)+'*'*(2*x+1))\n",
    "\n",
    "star_triangle(7)"
   ]
  },
  {
   "cell_type": "code",
   "execution_count": 109,
   "metadata": {},
   "outputs": [
    {
     "data": {
      "text/plain": [
       "0"
      ]
     },
     "execution_count": 109,
     "metadata": {},
     "output_type": "execute_result"
    }
   ],
   "source": [
    "# Функция чтения данных\n",
    "def read_data():\n",
    "    data = open('/Users/maxmercury/Downloads/war_peace_processed.txt', 'rt', encoding='utf-8').read()\n",
    "    data = data.split('\\n')\n",
    "    return data\n",
    "\n",
    "\n",
    "# Функция подсчёта частоты употребления слова в тексте\n",
    "def freq(target_word):  \n",
    "    new_dict = dict() \n",
    "    for i in data: # СТРОКА С ОШИБКОЙ\n",
    "        if i not in new_dict:\n",
    "            new_dict[i] = 1\n",
    "        else:\n",
    "            new_dict[i] = new_dict.get(i) + 1\n",
    "    return new_dict.get(target_word, 0)\n",
    "\n",
    "\n",
    "# Вызов функций\n",
    "read_data()\n",
    "freq('война')"
   ]
  },
  {
   "cell_type": "code",
   "execution_count": null,
   "metadata": {},
   "outputs": [],
   "source": []
  }
 ],
 "metadata": {
  "interpreter": {
   "hash": "40d3a090f54c6569ab1632332b64b2c03c39dcf918b08424e98f38b5ae0af88f"
  },
  "kernelspec": {
   "display_name": "Python 3.8.8 64-bit ('base': conda)",
   "language": "python",
   "name": "python3"
  },
  "language_info": {
   "codemirror_mode": {
    "name": "ipython",
    "version": 3
   },
   "file_extension": ".py",
   "mimetype": "text/x-python",
   "name": "python",
   "nbconvert_exporter": "python",
   "pygments_lexer": "ipython3",
   "version": "3.8.8"
  },
  "orig_nbformat": 4
 },
 "nbformat": 4,
 "nbformat_minor": 2
}
