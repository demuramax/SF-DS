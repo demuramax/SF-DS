{
 "cells": [
  {
   "cell_type": "code",
   "execution_count": 121,
   "metadata": {},
   "outputs": [],
   "source": [
    "import pandas as pd\n",
    "from collections import Counter\n",
    "import statistics\n",
    "import category_encoders as ce \n",
    "\n",
    "import matplotlib.pyplot as plt\n",
    "import seaborn as sns \n",
    "%matplotlib inline\n",
    "\n",
    "from sklearn.model_selection import train_test_split\n",
    "from sklearn import preprocessing\n",
    "\n",
    "import nltk\n",
    "from nltk.sentiment.vader import SentimentIntensityAnalyzer\n",
    "import time"
   ]
  },
  {
   "cell_type": "code",
   "execution_count": 22,
   "metadata": {},
   "outputs": [],
   "source": [
    "df = pd.read_csv('https://firebasestorage.googleapis.com/v0/b/civic-abode-211408.appspot.com/o/hotels.csv?alt=media&token=aa9c8eac-6a57-4caa-bfa4-e5a3b198d2fd')"
   ]
  },
  {
   "cell_type": "code",
   "execution_count": 36,
   "metadata": {},
   "outputs": [
    {
     "data": {
      "text/html": [
       "<div>\n",
       "<style scoped>\n",
       "    .dataframe tbody tr th:only-of-type {\n",
       "        vertical-align: middle;\n",
       "    }\n",
       "\n",
       "    .dataframe tbody tr th {\n",
       "        vertical-align: top;\n",
       "    }\n",
       "\n",
       "    .dataframe thead th {\n",
       "        text-align: right;\n",
       "    }\n",
       "</style>\n",
       "<table border=\"1\" class=\"dataframe\">\n",
       "  <thead>\n",
       "    <tr style=\"text-align: right;\">\n",
       "      <th></th>\n",
       "      <th>hotel_address</th>\n",
       "      <th>additional_number_of_scoring</th>\n",
       "      <th>review_date</th>\n",
       "      <th>average_score</th>\n",
       "      <th>hotel_name</th>\n",
       "      <th>reviewer_nationality</th>\n",
       "      <th>negative_review</th>\n",
       "      <th>review_total_negative_word_counts</th>\n",
       "      <th>total_number_of_reviews</th>\n",
       "      <th>positive_review</th>\n",
       "      <th>review_total_positive_word_counts</th>\n",
       "      <th>total_number_of_reviews_reviewer_has_given</th>\n",
       "      <th>reviewer_score</th>\n",
       "      <th>tags</th>\n",
       "      <th>days_since_review</th>\n",
       "      <th>lat</th>\n",
       "      <th>lng</th>\n",
       "    </tr>\n",
       "  </thead>\n",
       "  <tbody>\n",
       "    <tr>\n",
       "      <th>0</th>\n",
       "      <td>Stratton Street Mayfair Westminster Borough Lo...</td>\n",
       "      <td>581</td>\n",
       "      <td>2/19/2016</td>\n",
       "      <td>8.4</td>\n",
       "      <td>The May Fair Hotel</td>\n",
       "      <td>United Kingdom</td>\n",
       "      <td>Leaving</td>\n",
       "      <td>3</td>\n",
       "      <td>1994</td>\n",
       "      <td>Staff were amazing</td>\n",
       "      <td>4</td>\n",
       "      <td>7</td>\n",
       "      <td>10.0</td>\n",
       "      <td>[' Leisure trip ', ' Couple ', ' Studio Suite ...</td>\n",
       "      <td>531 day</td>\n",
       "      <td>51.507894</td>\n",
       "      <td>-0.143671</td>\n",
       "    </tr>\n",
       "    <tr>\n",
       "      <th>1</th>\n",
       "      <td>130 134 Southampton Row Camden London WC1B 5AF...</td>\n",
       "      <td>299</td>\n",
       "      <td>1/12/2017</td>\n",
       "      <td>8.3</td>\n",
       "      <td>Mercure London Bloomsbury Hotel</td>\n",
       "      <td>United Kingdom</td>\n",
       "      <td>poor breakfast</td>\n",
       "      <td>3</td>\n",
       "      <td>1361</td>\n",
       "      <td>location</td>\n",
       "      <td>2</td>\n",
       "      <td>14</td>\n",
       "      <td>6.3</td>\n",
       "      <td>[' Business trip ', ' Couple ', ' Standard Dou...</td>\n",
       "      <td>203 day</td>\n",
       "      <td>51.521009</td>\n",
       "      <td>-0.123097</td>\n",
       "    </tr>\n",
       "    <tr>\n",
       "      <th>2</th>\n",
       "      <td>151 bis Rue de Rennes 6th arr 75006 Paris France</td>\n",
       "      <td>32</td>\n",
       "      <td>10/18/2016</td>\n",
       "      <td>8.9</td>\n",
       "      <td>Legend Saint Germain by Elegancia</td>\n",
       "      <td>China</td>\n",
       "      <td>No kettle in room</td>\n",
       "      <td>6</td>\n",
       "      <td>406</td>\n",
       "      <td>No Positive</td>\n",
       "      <td>0</td>\n",
       "      <td>14</td>\n",
       "      <td>7.5</td>\n",
       "      <td>[' Leisure trip ', ' Solo traveler ', ' Modern...</td>\n",
       "      <td>289 day</td>\n",
       "      <td>48.845377</td>\n",
       "      <td>2.325643</td>\n",
       "    </tr>\n",
       "  </tbody>\n",
       "</table>\n",
       "</div>"
      ],
      "text/plain": [
       "                                       hotel_address  \\\n",
       "0  Stratton Street Mayfair Westminster Borough Lo...   \n",
       "1  130 134 Southampton Row Camden London WC1B 5AF...   \n",
       "2   151 bis Rue de Rennes 6th arr 75006 Paris France   \n",
       "\n",
       "   additional_number_of_scoring review_date  average_score  \\\n",
       "0                           581   2/19/2016            8.4   \n",
       "1                           299   1/12/2017            8.3   \n",
       "2                            32  10/18/2016            8.9   \n",
       "\n",
       "                          hotel_name reviewer_nationality  \\\n",
       "0                 The May Fair Hotel      United Kingdom    \n",
       "1    Mercure London Bloomsbury Hotel      United Kingdom    \n",
       "2  Legend Saint Germain by Elegancia               China    \n",
       "\n",
       "       negative_review  review_total_negative_word_counts  \\\n",
       "0             Leaving                                   3   \n",
       "1       poor breakfast                                  3   \n",
       "2   No kettle in room                                   6   \n",
       "\n",
       "   total_number_of_reviews      positive_review  \\\n",
       "0                     1994   Staff were amazing   \n",
       "1                     1361             location   \n",
       "2                      406          No Positive   \n",
       "\n",
       "   review_total_positive_word_counts  \\\n",
       "0                                  4   \n",
       "1                                  2   \n",
       "2                                  0   \n",
       "\n",
       "   total_number_of_reviews_reviewer_has_given  reviewer_score  \\\n",
       "0                                           7            10.0   \n",
       "1                                          14             6.3   \n",
       "2                                          14             7.5   \n",
       "\n",
       "                                                tags days_since_review  \\\n",
       "0  [' Leisure trip ', ' Couple ', ' Studio Suite ...           531 day   \n",
       "1  [' Business trip ', ' Couple ', ' Standard Dou...           203 day   \n",
       "2  [' Leisure trip ', ' Solo traveler ', ' Modern...           289 day   \n",
       "\n",
       "         lat       lng  \n",
       "0  51.507894 -0.143671  \n",
       "1  51.521009 -0.123097  \n",
       "2  48.845377  2.325643  "
      ]
     },
     "execution_count": 36,
     "metadata": {},
     "output_type": "execute_result"
    }
   ],
   "source": [
    "hotels = df.copy()\n",
    "hotels.head(3)"
   ]
  },
  {
   "cell_type": "code",
   "execution_count": 38,
   "metadata": {},
   "outputs": [
    {
     "name": "stdout",
     "output_type": "stream",
     "text": [
      "<class 'pandas.core.frame.DataFrame'>\n",
      "RangeIndex: 386803 entries, 0 to 386802\n",
      "Data columns (total 17 columns):\n",
      " #   Column                                      Non-Null Count   Dtype  \n",
      "---  ------                                      --------------   -----  \n",
      " 0   hotel_address                               386803 non-null  object \n",
      " 1   additional_number_of_scoring                386803 non-null  int64  \n",
      " 2   review_date                                 386803 non-null  object \n",
      " 3   average_score                               386803 non-null  float64\n",
      " 4   hotel_name                                  386803 non-null  object \n",
      " 5   reviewer_nationality                        386803 non-null  object \n",
      " 6   negative_review                             386803 non-null  object \n",
      " 7   review_total_negative_word_counts           386803 non-null  int64  \n",
      " 8   total_number_of_reviews                     386803 non-null  int64  \n",
      " 9   positive_review                             386803 non-null  object \n",
      " 10  review_total_positive_word_counts           386803 non-null  int64  \n",
      " 11  total_number_of_reviews_reviewer_has_given  386803 non-null  int64  \n",
      " 12  reviewer_score                              386803 non-null  float64\n",
      " 13  tags                                        386803 non-null  object \n",
      " 14  days_since_review                           386803 non-null  object \n",
      " 15  lat                                         384355 non-null  float64\n",
      " 16  lng                                         384355 non-null  float64\n",
      "dtypes: float64(4), int64(5), object(8)\n",
      "memory usage: 50.2+ MB\n"
     ]
    }
   ],
   "source": [
    "hotels.info()"
   ]
  },
  {
   "cell_type": "code",
   "execution_count": 39,
   "metadata": {},
   "outputs": [],
   "source": [
    "hotels['lat'] = hotels['lat'].fillna(statistics.median(hotels['lat']))\n",
    "hotels['lng'] = hotels['lat'].fillna(statistics.median(hotels['lat']))\n"
   ]
  },
  {
   "cell_type": "code",
   "execution_count": 40,
   "metadata": {},
   "outputs": [],
   "source": [
    "hotels['days_since_review'] = hotels['days_since_review'].apply(lambda x: x.split(' ')[0])\n",
    "hotels['days_since_review'] = hotels['days_since_review'].astype(int)\n",
    "hotels['review_date'] = pd.to_datetime(hotels['review_date'])\n",
    "hotels['review_month'] = hotels['review_date'].dt.month"
   ]
  },
  {
   "cell_type": "code",
   "execution_count": 41,
   "metadata": {},
   "outputs": [],
   "source": [
    "hotels['hotel_address'][11].split(' ')[-2:]\n",
    "hotels['hotel_country'] = hotels['hotel_address'].apply(lambda x: ' '.join(x.split(' ')[-2:]) if 'United Kingdom' in x else x.split(' ')[-1])\n",
    "# hotels['hotel_city'] = hotels['hotel_address'].apply(lambda x: ''.join(x.split(' ')[-5]) if 'United Kingdom' in x else x.split(' ')[-2])"
   ]
  },
  {
   "cell_type": "code",
   "execution_count": 42,
   "metadata": {},
   "outputs": [
    {
     "data": {
      "text/plain": [
       " United Kingdom               47.58\n",
       " United States of America      6.86\n",
       " Australia                     4.20\n",
       " Ireland                       2.88\n",
       " United Arab Emirates          1.97\n",
       " Saudi Arabia                  1.74\n",
       " Netherlands                   1.71\n",
       " Switzerland                   1.68\n",
       " Canada                        1.55\n",
       " Germany                       1.54\n",
       "Name: reviewer_nationality, dtype: float64"
      ]
     },
     "execution_count": 42,
     "metadata": {},
     "output_type": "execute_result"
    }
   ],
   "source": [
    "(hotels['reviewer_nationality'].value_counts(normalize=True).round(4)*100).head(10)"
   ]
  },
  {
   "cell_type": "code",
   "execution_count": 43,
   "metadata": {},
   "outputs": [],
   "source": [
    "bin_encoder = ce.BinaryEncoder(cols=['hotel_name', 'reviewer_nationality'])\n",
    "hotels_bin = bin_encoder.fit_transform(hotels[['hotel_name', 'reviewer_nationality']])\n",
    "hotels = pd.concat([hotels, hotels_bin], axis=1)"
   ]
  },
  {
   "cell_type": "code",
   "execution_count": 44,
   "metadata": {},
   "outputs": [
    {
     "data": {
      "text/html": [
       "<div>\n",
       "<style scoped>\n",
       "    .dataframe tbody tr th:only-of-type {\n",
       "        vertical-align: middle;\n",
       "    }\n",
       "\n",
       "    .dataframe tbody tr th {\n",
       "        vertical-align: top;\n",
       "    }\n",
       "\n",
       "    .dataframe thead th {\n",
       "        text-align: right;\n",
       "    }\n",
       "</style>\n",
       "<table border=\"1\" class=\"dataframe\">\n",
       "  <thead>\n",
       "    <tr style=\"text-align: right;\">\n",
       "      <th></th>\n",
       "      <th>hotel_address</th>\n",
       "      <th>additional_number_of_scoring</th>\n",
       "      <th>review_date</th>\n",
       "      <th>average_score</th>\n",
       "      <th>hotel_name</th>\n",
       "      <th>reviewer_nationality</th>\n",
       "      <th>negative_review</th>\n",
       "      <th>review_total_negative_word_counts</th>\n",
       "      <th>total_number_of_reviews</th>\n",
       "      <th>positive_review</th>\n",
       "      <th>...</th>\n",
       "      <th>hotel_name_9</th>\n",
       "      <th>hotel_name_10</th>\n",
       "      <th>reviewer_nationality_0</th>\n",
       "      <th>reviewer_nationality_1</th>\n",
       "      <th>reviewer_nationality_2</th>\n",
       "      <th>reviewer_nationality_3</th>\n",
       "      <th>reviewer_nationality_4</th>\n",
       "      <th>reviewer_nationality_5</th>\n",
       "      <th>reviewer_nationality_6</th>\n",
       "      <th>reviewer_nationality_7</th>\n",
       "    </tr>\n",
       "  </thead>\n",
       "  <tbody>\n",
       "    <tr>\n",
       "      <th>0</th>\n",
       "      <td>Stratton Street Mayfair Westminster Borough Lo...</td>\n",
       "      <td>581</td>\n",
       "      <td>2016-02-19</td>\n",
       "      <td>8.4</td>\n",
       "      <td>The May Fair Hotel</td>\n",
       "      <td>United Kingdom</td>\n",
       "      <td>Leaving</td>\n",
       "      <td>3</td>\n",
       "      <td>1994</td>\n",
       "      <td>Staff were amazing</td>\n",
       "      <td>...</td>\n",
       "      <td>0</td>\n",
       "      <td>1</td>\n",
       "      <td>0</td>\n",
       "      <td>0</td>\n",
       "      <td>0</td>\n",
       "      <td>0</td>\n",
       "      <td>0</td>\n",
       "      <td>0</td>\n",
       "      <td>0</td>\n",
       "      <td>1</td>\n",
       "    </tr>\n",
       "    <tr>\n",
       "      <th>1</th>\n",
       "      <td>130 134 Southampton Row Camden London WC1B 5AF...</td>\n",
       "      <td>299</td>\n",
       "      <td>2017-01-12</td>\n",
       "      <td>8.3</td>\n",
       "      <td>Mercure London Bloomsbury Hotel</td>\n",
       "      <td>United Kingdom</td>\n",
       "      <td>poor breakfast</td>\n",
       "      <td>3</td>\n",
       "      <td>1361</td>\n",
       "      <td>location</td>\n",
       "      <td>...</td>\n",
       "      <td>1</td>\n",
       "      <td>0</td>\n",
       "      <td>0</td>\n",
       "      <td>0</td>\n",
       "      <td>0</td>\n",
       "      <td>0</td>\n",
       "      <td>0</td>\n",
       "      <td>0</td>\n",
       "      <td>0</td>\n",
       "      <td>1</td>\n",
       "    </tr>\n",
       "    <tr>\n",
       "      <th>2</th>\n",
       "      <td>151 bis Rue de Rennes 6th arr 75006 Paris France</td>\n",
       "      <td>32</td>\n",
       "      <td>2016-10-18</td>\n",
       "      <td>8.9</td>\n",
       "      <td>Legend Saint Germain by Elegancia</td>\n",
       "      <td>China</td>\n",
       "      <td>No kettle in room</td>\n",
       "      <td>6</td>\n",
       "      <td>406</td>\n",
       "      <td>No Positive</td>\n",
       "      <td>...</td>\n",
       "      <td>1</td>\n",
       "      <td>1</td>\n",
       "      <td>0</td>\n",
       "      <td>0</td>\n",
       "      <td>0</td>\n",
       "      <td>0</td>\n",
       "      <td>0</td>\n",
       "      <td>0</td>\n",
       "      <td>1</td>\n",
       "      <td>0</td>\n",
       "    </tr>\n",
       "  </tbody>\n",
       "</table>\n",
       "<p>3 rows × 38 columns</p>\n",
       "</div>"
      ],
      "text/plain": [
       "                                       hotel_address  \\\n",
       "0  Stratton Street Mayfair Westminster Borough Lo...   \n",
       "1  130 134 Southampton Row Camden London WC1B 5AF...   \n",
       "2   151 bis Rue de Rennes 6th arr 75006 Paris France   \n",
       "\n",
       "   additional_number_of_scoring review_date  average_score  \\\n",
       "0                           581  2016-02-19            8.4   \n",
       "1                           299  2017-01-12            8.3   \n",
       "2                            32  2016-10-18            8.9   \n",
       "\n",
       "                          hotel_name reviewer_nationality  \\\n",
       "0                 The May Fair Hotel      United Kingdom    \n",
       "1    Mercure London Bloomsbury Hotel      United Kingdom    \n",
       "2  Legend Saint Germain by Elegancia               China    \n",
       "\n",
       "       negative_review  review_total_negative_word_counts  \\\n",
       "0             Leaving                                   3   \n",
       "1       poor breakfast                                  3   \n",
       "2   No kettle in room                                   6   \n",
       "\n",
       "   total_number_of_reviews      positive_review  ...  hotel_name_9  \\\n",
       "0                     1994   Staff were amazing  ...             0   \n",
       "1                     1361             location  ...             1   \n",
       "2                      406          No Positive  ...             1   \n",
       "\n",
       "   hotel_name_10  reviewer_nationality_0 reviewer_nationality_1  \\\n",
       "0              1                       0                      0   \n",
       "1              0                       0                      0   \n",
       "2              1                       0                      0   \n",
       "\n",
       "   reviewer_nationality_2  reviewer_nationality_3  reviewer_nationality_4  \\\n",
       "0                       0                       0                       0   \n",
       "1                       0                       0                       0   \n",
       "2                       0                       0                       0   \n",
       "\n",
       "   reviewer_nationality_5 reviewer_nationality_6  reviewer_nationality_7  \n",
       "0                       0                      0                       1  \n",
       "1                       0                      0                       1  \n",
       "2                       0                      1                       0  \n",
       "\n",
       "[3 rows x 38 columns]"
      ]
     },
     "execution_count": 44,
     "metadata": {},
     "output_type": "execute_result"
    }
   ],
   "source": [
    "hotels.head(3)"
   ]
  },
  {
   "cell_type": "code",
   "execution_count": 45,
   "metadata": {},
   "outputs": [],
   "source": [
    "hotels['hotel_country'].nunique()\n",
    "\n",
    "encoder = ce.OneHotEncoder(cols=['hotel_country'])\n",
    "country_bin = encoder.fit_transform(hotels['hotel_country'])\n",
    "hotels = pd.concat([hotels, country_bin], axis=1)"
   ]
  },
  {
   "cell_type": "code",
   "execution_count": 46,
   "metadata": {},
   "outputs": [],
   "source": [
    "hotels.drop(['hotel_address', 'hotel_name', 'reviewer_nationality', 'hotel_country'], axis=1, inplace=True)"
   ]
  },
  {
   "cell_type": "code",
   "execution_count": 48,
   "metadata": {},
   "outputs": [
    {
     "name": "stdout",
     "output_type": "stream",
     "text": [
      "<class 'pandas.core.frame.DataFrame'>\n",
      "RangeIndex: 386803 entries, 0 to 386802\n",
      "Data columns (total 40 columns):\n",
      " #   Column                                      Non-Null Count   Dtype         \n",
      "---  ------                                      --------------   -----         \n",
      " 0   additional_number_of_scoring                386803 non-null  int64         \n",
      " 1   review_date                                 386803 non-null  datetime64[ns]\n",
      " 2   average_score                               386803 non-null  float64       \n",
      " 3   negative_review                             386803 non-null  object        \n",
      " 4   review_total_negative_word_counts           386803 non-null  int64         \n",
      " 5   total_number_of_reviews                     386803 non-null  int64         \n",
      " 6   positive_review                             386803 non-null  object        \n",
      " 7   review_total_positive_word_counts           386803 non-null  int64         \n",
      " 8   total_number_of_reviews_reviewer_has_given  386803 non-null  int64         \n",
      " 9   reviewer_score                              386803 non-null  float64       \n",
      " 10  tags                                        386803 non-null  object        \n",
      " 11  days_since_review                           386803 non-null  int64         \n",
      " 12  lat                                         386803 non-null  float64       \n",
      " 13  lng                                         386803 non-null  float64       \n",
      " 14  review_month                                386803 non-null  int64         \n",
      " 15  hotel_name_0                                386803 non-null  int64         \n",
      " 16  hotel_name_1                                386803 non-null  int64         \n",
      " 17  hotel_name_2                                386803 non-null  int64         \n",
      " 18  hotel_name_3                                386803 non-null  int64         \n",
      " 19  hotel_name_4                                386803 non-null  int64         \n",
      " 20  hotel_name_5                                386803 non-null  int64         \n",
      " 21  hotel_name_6                                386803 non-null  int64         \n",
      " 22  hotel_name_7                                386803 non-null  int64         \n",
      " 23  hotel_name_8                                386803 non-null  int64         \n",
      " 24  hotel_name_9                                386803 non-null  int64         \n",
      " 25  hotel_name_10                               386803 non-null  int64         \n",
      " 26  reviewer_nationality_0                      386803 non-null  int64         \n",
      " 27  reviewer_nationality_1                      386803 non-null  int64         \n",
      " 28  reviewer_nationality_2                      386803 non-null  int64         \n",
      " 29  reviewer_nationality_3                      386803 non-null  int64         \n",
      " 30  reviewer_nationality_4                      386803 non-null  int64         \n",
      " 31  reviewer_nationality_5                      386803 non-null  int64         \n",
      " 32  reviewer_nationality_6                      386803 non-null  int64         \n",
      " 33  reviewer_nationality_7                      386803 non-null  int64         \n",
      " 34  hotel_country_1                             386803 non-null  int64         \n",
      " 35  hotel_country_2                             386803 non-null  int64         \n",
      " 36  hotel_country_3                             386803 non-null  int64         \n",
      " 37  hotel_country_4                             386803 non-null  int64         \n",
      " 38  hotel_country_5                             386803 non-null  int64         \n",
      " 39  hotel_country_6                             386803 non-null  int64         \n",
      "dtypes: datetime64[ns](1), float64(4), int64(32), object(3)\n",
      "memory usage: 118.0+ MB\n"
     ]
    }
   ],
   "source": [
    "hotels.info()"
   ]
  },
  {
   "cell_type": "code",
   "execution_count": 72,
   "metadata": {},
   "outputs": [
    {
     "data": {
      "text/plain": [
       "['Leisure trip',\n",
       " 'Couple',\n",
       " 'Studio Suite',\n",
       " 'Stayed 2 nights',\n",
       " 'Submitted from a mobile device']"
      ]
     },
     "execution_count": 72,
     "metadata": {},
     "output_type": "execute_result"
    }
   ],
   "source": [
    "hotels['tags'][0][3:-3].split(\" ', ' \")"
   ]
  },
  {
   "cell_type": "code",
   "execution_count": 83,
   "metadata": {},
   "outputs": [],
   "source": [
    "tags_dict = {}\n",
    "def get_tags_count(tag):\n",
    "    tag = tag[3:-3].split(\" ', ' \")\n",
    "    for el in tag:\n",
    "        if el in tags_dict:\n",
    "            tags_dict[el] += 1\n",
    "        else:\n",
    "            tags_dict[el] = 1\n",
    "    return"
   ]
  },
  {
   "cell_type": "code",
   "execution_count": 84,
   "metadata": {},
   "outputs": [
    {
     "data": {
      "text/plain": [
       "0         None\n",
       "1         None\n",
       "2         None\n",
       "3         None\n",
       "4         None\n",
       "          ... \n",
       "386798    None\n",
       "386799    None\n",
       "386800    None\n",
       "386801    None\n",
       "386802    None\n",
       "Name: tags, Length: 386803, dtype: object"
      ]
     },
     "execution_count": 84,
     "metadata": {},
     "output_type": "execute_result"
    }
   ],
   "source": [
    "hotels['tags'].apply(get_tags_count)"
   ]
  },
  {
   "cell_type": "code",
   "execution_count": 94,
   "metadata": {},
   "outputs": [],
   "source": [
    "tags_df = pd.DataFrame(tags_dict, index=['count']).transpose()"
   ]
  },
  {
   "cell_type": "code",
   "execution_count": 113,
   "metadata": {},
   "outputs": [],
   "source": [
    "top_tags = list(tags_df['count'].sort_values(ascending=False).index[:20])"
   ]
  },
  {
   "cell_type": "code",
   "execution_count": 116,
   "metadata": {},
   "outputs": [],
   "source": [
    "for tag in top_tags:\n",
    "    hotels[tag] = hotels['tags'].apply(lambda x: 1 if tag in x else 0)"
   ]
  },
  {
   "cell_type": "code",
   "execution_count": 118,
   "metadata": {},
   "outputs": [],
   "source": [
    "hotels.drop(['tags'], axis=1, inplace=True)"
   ]
  },
  {
   "cell_type": "code",
   "execution_count": 120,
   "metadata": {},
   "outputs": [
    {
     "name": "stdout",
     "output_type": "stream",
     "text": [
      "<class 'pandas.core.frame.DataFrame'>\n",
      "RangeIndex: 386803 entries, 0 to 386802\n",
      "Data columns (total 59 columns):\n",
      " #   Column                                      Non-Null Count   Dtype         \n",
      "---  ------                                      --------------   -----         \n",
      " 0   additional_number_of_scoring                386803 non-null  int64         \n",
      " 1   review_date                                 386803 non-null  datetime64[ns]\n",
      " 2   average_score                               386803 non-null  float64       \n",
      " 3   negative_review                             386803 non-null  object        \n",
      " 4   review_total_negative_word_counts           386803 non-null  int64         \n",
      " 5   total_number_of_reviews                     386803 non-null  int64         \n",
      " 6   positive_review                             386803 non-null  object        \n",
      " 7   review_total_positive_word_counts           386803 non-null  int64         \n",
      " 8   total_number_of_reviews_reviewer_has_given  386803 non-null  int64         \n",
      " 9   reviewer_score                              386803 non-null  float64       \n",
      " 10  days_since_review                           386803 non-null  int64         \n",
      " 11  lat                                         386803 non-null  float64       \n",
      " 12  lng                                         386803 non-null  float64       \n",
      " 13  review_month                                386803 non-null  int64         \n",
      " 14  hotel_name_0                                386803 non-null  int64         \n",
      " 15  hotel_name_1                                386803 non-null  int64         \n",
      " 16  hotel_name_2                                386803 non-null  int64         \n",
      " 17  hotel_name_3                                386803 non-null  int64         \n",
      " 18  hotel_name_4                                386803 non-null  int64         \n",
      " 19  hotel_name_5                                386803 non-null  int64         \n",
      " 20  hotel_name_6                                386803 non-null  int64         \n",
      " 21  hotel_name_7                                386803 non-null  int64         \n",
      " 22  hotel_name_8                                386803 non-null  int64         \n",
      " 23  hotel_name_9                                386803 non-null  int64         \n",
      " 24  hotel_name_10                               386803 non-null  int64         \n",
      " 25  reviewer_nationality_0                      386803 non-null  int64         \n",
      " 26  reviewer_nationality_1                      386803 non-null  int64         \n",
      " 27  reviewer_nationality_2                      386803 non-null  int64         \n",
      " 28  reviewer_nationality_3                      386803 non-null  int64         \n",
      " 29  reviewer_nationality_4                      386803 non-null  int64         \n",
      " 30  reviewer_nationality_5                      386803 non-null  int64         \n",
      " 31  reviewer_nationality_6                      386803 non-null  int64         \n",
      " 32  reviewer_nationality_7                      386803 non-null  int64         \n",
      " 33  hotel_country_1                             386803 non-null  int64         \n",
      " 34  hotel_country_2                             386803 non-null  int64         \n",
      " 35  hotel_country_3                             386803 non-null  int64         \n",
      " 36  hotel_country_4                             386803 non-null  int64         \n",
      " 37  hotel_country_5                             386803 non-null  int64         \n",
      " 38  hotel_country_6                             386803 non-null  int64         \n",
      " 39  Leisure trip                                386803 non-null  int64         \n",
      " 40  Submitted from a mobile device              386803 non-null  int64         \n",
      " 41  Couple                                      386803 non-null  int64         \n",
      " 42  Stayed 1 night                              386803 non-null  int64         \n",
      " 43  Stayed 2 nights                             386803 non-null  int64         \n",
      " 44  Solo traveler                               386803 non-null  int64         \n",
      " 45  Stayed 3 nights                             386803 non-null  int64         \n",
      " 46  Business trip                               386803 non-null  int64         \n",
      " 47  Group                                       386803 non-null  int64         \n",
      " 48  Family with young children                  386803 non-null  int64         \n",
      " 49  Stayed 4 nights                             386803 non-null  int64         \n",
      " 50  Double Room                                 386803 non-null  int64         \n",
      " 51  Standard Double Room                        386803 non-null  int64         \n",
      " 52  Superior Double Room                        386803 non-null  int64         \n",
      " 53  Family with older children                  386803 non-null  int64         \n",
      " 54  Deluxe Double Room                          386803 non-null  int64         \n",
      " 55  Double or Twin Room                         386803 non-null  int64         \n",
      " 56  Stayed 5 nights                             386803 non-null  int64         \n",
      " 57  Standard Double or Twin Room                386803 non-null  int64         \n",
      " 58  Classic Double Room                         386803 non-null  int64         \n",
      "dtypes: datetime64[ns](1), float64(4), int64(52), object(2)\n",
      "memory usage: 174.1+ MB\n"
     ]
    }
   ],
   "source": [
    "hotels.info()"
   ]
  },
  {
   "cell_type": "code",
   "execution_count": 123,
   "metadata": {},
   "outputs": [
    {
     "name": "stderr",
     "output_type": "stream",
     "text": [
      "[nltk_data] Downloading package vader_lexicon to\n",
      "[nltk_data]     /Users/maxmercury/nltk_data...\n"
     ]
    },
    {
     "name": "stdout",
     "output_type": "stream",
     "text": [
      "review 1:\n",
      "The hotel was very good, I love it!\n",
      "Score: {'neg': 0.0, 'neu': 0.386, 'pos': 0.614, 'compound': 0.8386}\n",
      "\n",
      "review 2:\n",
      "It was just horrible, the worst ever.\n",
      "Score: {'neg': 0.603, 'neu': 0.397, 'pos': 0.0, 'compound': -0.8225}\n"
     ]
    }
   ],
   "source": [
    "nltk.downloader.download('vader_lexicon')\n",
    "\n",
    "sent_analyzer = SentimentIntensityAnalyzer()\n",
    "\n",
    "rev1 = \"The hotel was very good, I love it!\"\n",
    "rev2 = \"It was just horrible, the worst ever.\"\n",
    "\n",
    "print(f\"review 1:\\n{rev1}\\nScore: {sent_analyzer.polarity_scores(rev1)}\")\n",
    "\n",
    "print(f\"\\nreview 2:\\n{rev2}\\nScore: {sent_analyzer.polarity_scores(rev2)}\")"
   ]
  },
  {
   "cell_type": "code",
   "execution_count": 124,
   "metadata": {},
   "outputs": [
    {
     "data": {
      "text/plain": [
       "0                                                  Leaving \n",
       "1                                            poor breakfast\n",
       "2                                        No kettle in room \n",
       "3                                               No Negative\n",
       "4                                              Torn sheets \n",
       "                                ...                        \n",
       "386798                                          No Negative\n",
       "386799                                          No Negative\n",
       "386800     room is really small but guess is normal in L...\n",
       "386801                                          No Negative\n",
       "386802     Patio outside could have been cleaned of alga...\n",
       "Name: negative_review, Length: 386803, dtype: object"
      ]
     },
     "execution_count": 124,
     "metadata": {},
     "output_type": "execute_result"
    }
   ],
   "source": [
    "hotels['negative_review']"
   ]
  },
  {
   "cell_type": "code",
   "execution_count": null,
   "metadata": {},
   "outputs": [],
   "source": []
  }
 ],
 "metadata": {
  "interpreter": {
   "hash": "40d3a090f54c6569ab1632332b64b2c03c39dcf918b08424e98f38b5ae0af88f"
  },
  "kernelspec": {
   "display_name": "Python 3.8.8 ('base')",
   "language": "python",
   "name": "python3"
  },
  "language_info": {
   "codemirror_mode": {
    "name": "ipython",
    "version": 3
   },
   "file_extension": ".py",
   "mimetype": "text/x-python",
   "name": "python",
   "nbconvert_exporter": "python",
   "pygments_lexer": "ipython3",
   "version": "3.8.8"
  },
  "orig_nbformat": 4
 },
 "nbformat": 4,
 "nbformat_minor": 2
}
