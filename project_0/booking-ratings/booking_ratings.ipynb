{
 "cells": [
  {
   "cell_type": "code",
   "execution_count": 1,
   "metadata": {},
   "outputs": [],
   "source": [
    "import pandas as pd"
   ]
  },
  {
   "cell_type": "code",
   "execution_count": 6,
   "metadata": {},
   "outputs": [],
   "source": [
    "df = pd.read_csv('https://drive.google.com/u/0/uc?id=1Qj0iYEbD64eVAaaBylJeIi3qvMzxf2C_&export=download', sep=';')\n",
    "data = df.copy()"
   ]
  },
  {
   "cell_type": "code",
   "execution_count": 7,
   "metadata": {},
   "outputs": [
    {
     "data": {
      "text/html": [
       "<div>\n",
       "<style scoped>\n",
       "    .dataframe tbody tr th:only-of-type {\n",
       "        vertical-align: middle;\n",
       "    }\n",
       "\n",
       "    .dataframe tbody tr th {\n",
       "        vertical-align: top;\n",
       "    }\n",
       "\n",
       "    .dataframe thead th {\n",
       "        text-align: right;\n",
       "    }\n",
       "</style>\n",
       "<table border=\"1\" class=\"dataframe\">\n",
       "  <thead>\n",
       "    <tr style=\"text-align: right;\">\n",
       "      <th></th>\n",
       "      <th></th>\n",
       "      <th></th>\n",
       "      <th></th>\n",
       "      <th></th>\n",
       "      <th></th>\n",
       "      <th></th>\n",
       "      <th></th>\n",
       "      <th></th>\n",
       "      <th></th>\n",
       "      <th></th>\n",
       "      <th></th>\n",
       "      <th></th>\n",
       "      <th></th>\n",
       "      <th></th>\n",
       "      <th></th>\n",
       "      <th></th>\n",
       "      <th></th>\n",
       "      <th></th>\n",
       "      <th></th>\n",
       "      <th></th>\n",
       "      <th></th>\n",
       "      <th></th>\n",
       "      <th></th>\n",
       "      <th></th>\n",
       "      <th>&lt;!DOCTYPE html&gt;&lt;html&gt;&lt;head&gt;&lt;title&gt;Google Drive - Virus scan warning&lt;/title&gt;&lt;meta http-equiv=\"content-type\" content=\"text/html</th>\n",
       "      <th>charset=utf-8\"/&gt;&lt;style nonce=\"tit97x789gNncAimc3+Zkg\"&gt;/* Copyright 2022 Google Inc. All Rights Reserved. */</th>\n",
       "    </tr>\n",
       "  </thead>\n",
       "  <tbody>\n",
       "    <tr>\n",
       "      <th>.goog-inline-block{position:relative</th>\n",
       "      <th>display:-moz-inline-box</th>\n",
       "      <th>display:inline-block}* html .goog-inline-block{display:inline}*:first-child+html .goog-inline-block{display:inline}.goog-link-button{position:relative</th>\n",
       "      <th>color:#15c</th>\n",
       "      <th>text-decoration:underline</th>\n",
       "      <th>cursor:pointer}.goog-link-button-disabled{color:#ccc</th>\n",
       "      <th>text-decoration:none</th>\n",
       "      <th>cursor:default}body{color:#222</th>\n",
       "      <th>font:normal 13px/1.4 arial,sans-serif</th>\n",
       "      <th>margin:0}.grecaptcha-badge{visibility:hidden}.uc-main{padding-top:50px</th>\n",
       "      <th>text-align:center}#uc-dl-icon{display:inline-block</th>\n",
       "      <th>margin-top:16px</th>\n",
       "      <th>padding-right:1em</th>\n",
       "      <th>vertical-align:top}#uc-text{display:inline-block</th>\n",
       "      <th>max-width:68ex</th>\n",
       "      <th>text-align:left}.uc-error-caption,.uc-warning-caption{color:#222</th>\n",
       "      <th>font-size:16px}#uc-download-link{text-decoration:none}.uc-name-size a{color:#15c</th>\n",
       "      <th>text-decoration:none}.uc-name-size a:visited{color:#61c</th>\n",
       "      <th>text-decoration:none}.uc-name-size a:active{color:#d14836</th>\n",
       "      <th>text-decoration:none}.uc-footer{color:#777</th>\n",
       "      <th>font-size:11px</th>\n",
       "      <th>padding-bottom:5ex</th>\n",
       "      <th>padding-top:5ex</th>\n",
       "      <th>text-align:center}.uc-footer a{color:#15c}.uc-footer a:visited{color:#61c}.uc-footer a:active{color:#d14836}.uc-footer-divider{color:#ccc</th>\n",
       "      <th>width:100%}&lt;/style&gt;&lt;link rel=\"icon\" href=\"null\"/&gt;&lt;/head&gt;&lt;body&gt;&lt;div class=\"uc-main\"&gt;&lt;div id=\"uc-dl-icon\" class=\"image-container\"&gt;&lt;div class=\"drive-sprite-aux-download-file\"&gt;&lt;/div&gt;&lt;/div&gt;&lt;div id=\"uc-text\"&gt;&lt;p class=\"uc-warning-caption\"&gt;Google Drive can't scan this file for viruses.&lt;/p&gt;&lt;p class=\"uc-warning-subcaption\"&gt;&lt;span class=\"uc-name-size\"&gt;&lt;a href=\"/open?id=1Qj0iYEbD64eVAaaBylJeIi3qvMzxf2C_\"&gt;hotels.csv&lt;/a&gt; (170M)&lt;/span&gt; is too large for Google to scan for viruses. Would you still like to download this file?&lt;/p&gt;&lt;form id=\"downloadForm\" action=\"https://drive.google.com/uc?id=1Qj0iYEbD64eVAaaBylJeIi3qvMzxf2C_&amp;amp</th>\n",
       "      <td>export=download&amp;amp</td>\n",
       "      <td>confirm=t\" method=\"post\"&gt;&lt;input type=\"submit\" ...</td>\n",
       "    </tr>\n",
       "  </tbody>\n",
       "</table>\n",
       "</div>"
      ],
      "text/plain": [
       "                                                                                                                                                                                                                                                                                                                                                                                                                                                                                                                                                                                                                                                                                                                                                                                                                                                                                                                         <!DOCTYPE html><html><head><title>Google Drive - Virus scan warning</title><meta http-equiv=\"content-type\" content=\"text/html  \\\n",
       ".goog-inline-block{position:relative display:-moz-inline-box display:inline-block}* html .goog-inline-block{... color:#15c text-decoration:underline cursor:pointer}.goog-link-button-disabled{color... text-decoration:none cursor:default}body{color:#222 font:normal 13px/1.4 arial,sans-serif margin:0}.grecaptcha-badge{visibility:hidden}.u... text-align:center}#uc-dl-icon{display:inline-block margin-top:16px padding-right:1em vertical-align:top}#uc-text{display:inline-block max-width:68ex text-align:left}.uc-error-caption,.uc-warning-c... font-size:16px}#uc-download-link{text-decoratio... text-decoration:none}.uc-name-size a:visited{co... text-decoration:none}.uc-name-size a:active{col... text-decoration:none}.uc-footer{color:#777 font-size:11px padding-bottom:5ex padding-top:5ex text-align:center}.uc-footer a{color:#15c}.uc-f... width:100%}</style><link rel=\"icon\" href=\"null\"...                                export=download&amp                                                                              \n",
       "\n",
       "                                                                                                                                                                                                                                                                                                                                                                                                                                                                                                                                                                                                                                                                                                                                                                                                                                                                                                                          charset=utf-8\"/><style nonce=\"tit97x789gNncAimc3+Zkg\">/* Copyright 2022 Google Inc. All Rights Reserved. */  \n",
       ".goog-inline-block{position:relative display:-moz-inline-box display:inline-block}* html .goog-inline-block{... color:#15c text-decoration:underline cursor:pointer}.goog-link-button-disabled{color... text-decoration:none cursor:default}body{color:#222 font:normal 13px/1.4 arial,sans-serif margin:0}.grecaptcha-badge{visibility:hidden}.u... text-align:center}#uc-dl-icon{display:inline-block margin-top:16px padding-right:1em vertical-align:top}#uc-text{display:inline-block max-width:68ex text-align:left}.uc-error-caption,.uc-warning-c... font-size:16px}#uc-download-link{text-decoratio... text-decoration:none}.uc-name-size a:visited{co... text-decoration:none}.uc-name-size a:active{col... text-decoration:none}.uc-footer{color:#777 font-size:11px padding-bottom:5ex padding-top:5ex text-align:center}.uc-footer a{color:#15c}.uc-f... width:100%}</style><link rel=\"icon\" href=\"null\"...  confirm=t\" method=\"post\"><input type=\"submit\" ...                                                            "
      ]
     },
     "execution_count": 7,
     "metadata": {},
     "output_type": "execute_result"
    }
   ],
   "source": [
    "data"
   ]
  },
  {
   "cell_type": "code",
   "execution_count": null,
   "metadata": {},
   "outputs": [],
   "source": []
  }
 ],
 "metadata": {
  "interpreter": {
   "hash": "40d3a090f54c6569ab1632332b64b2c03c39dcf918b08424e98f38b5ae0af88f"
  },
  "kernelspec": {
   "display_name": "Python 3.8.8 ('base')",
   "language": "python",
   "name": "python3"
  },
  "language_info": {
   "codemirror_mode": {
    "name": "ipython",
    "version": 3
   },
   "file_extension": ".py",
   "mimetype": "text/x-python",
   "name": "python",
   "nbconvert_exporter": "python",
   "pygments_lexer": "ipython3",
   "version": "3.8.8"
  },
  "orig_nbformat": 4
 },
 "nbformat": 4,
 "nbformat_minor": 2
}
